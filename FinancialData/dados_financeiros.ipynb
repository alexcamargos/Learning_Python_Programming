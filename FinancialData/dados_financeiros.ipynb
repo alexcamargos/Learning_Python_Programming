{
 "cells": [
  {
   "cell_type": "markdown",
   "metadata": {},
   "source": [
    "## Visualização de Dados Financeiros"
   ]
  },
  {
   "cell_type": "markdown",
   "metadata": {},
   "source": [
    "O mercado financeiro é um grande campo de atuação da Ciência de Dados, sendo possível ser realizada a previsão do preço de ações, clusterização de empresas similares, análise de sentimentos de textos, entre outros trabalhos utilizando algoritmos supervisionados e não supervisionados."
   ]
  },
  {
   "cell_type": "markdown",
   "metadata": {},
   "source": [
    "Neste notebook, serão importadas e exibidas em séries temporais as ações de 5 empresas brasileiras e também o [Índice Bovespa (Ibovespa B3)](https://www.b3.com.br/pt_br/market-data-e-indices/indices/indices-amplos/ibovespa.htm) utilizando como fonte o [Yahoo Finanças](https://br.financas.yahoo.com)."
   ]
  },
  {
   "cell_type": "markdown",
   "metadata": {},
   "source": [
    "### 1. Importando as bibliotecas e criando o dataset"
   ]
  },
  {
   "cell_type": "markdown",
   "metadata": {},
   "source": [
    "Nessa primeira etapa, importaremos as bibliotecas python bastante utilizadas na análise de dados. O pandas, para a manipulação; numpy, para cálculos matemáticos; matplotlib, seaborn e plotly para a visualização; e, por fim, o datareader, para trazer os dados das ações da web.\n",
    "- [*pandas*](https://pandas.pydata.org) is a fast, powerful, flexible and easy to use open source data analysis and manipulation tool,\n",
    "built on top of the Python programming language.\n",
    "- [*NumPy*](https://numpy.org) is the fundamental package for scientific computing in Python.\n",
    "- [*Matplotlib*](https://matplotlib.org) is a comprehensive library for creating static, animated, and interactive visualizations in Python. Matplotlib makes easy things easy and hard things possible.\n",
    "- [*Seaborn*](https://seaborn.pydata.org) is a Python data visualization library based on matplotlib. It provides a high-level interface for drawing attractive and informative statistical graphics.\n",
    "- [*Plotly*](https://plotly.com/python/) is a Python graphing library makes interactive, publication-quality graphs."
   ]
  },
  {
   "cell_type": "code",
   "execution_count": 44,
   "metadata": {},
   "outputs": [
    {
     "name": "stdout",
     "output_type": "stream",
     "text": [
      "Requirement already satisfied: pandas in /home/alcamargos/.local/lib/python3.8/site-packages (1.4.2)\n",
      "Requirement already satisfied: pytz>=2020.1 in /home/alcamargos/.local/lib/python3.8/site-packages (from pandas) (2022.1)\n",
      "Requirement already satisfied: python-dateutil>=2.8.1 in /home/alcamargos/.local/lib/python3.8/site-packages (from pandas) (2.8.2)\n",
      "Requirement already satisfied: numpy>=1.18.5; platform_machine != \"aarch64\" and platform_machine != \"arm64\" and python_version < \"3.10\" in /home/alcamargos/.local/lib/python3.8/site-packages (from pandas) (1.22.3)\n",
      "Requirement already satisfied: six>=1.5 in /usr/lib/python3/dist-packages (from python-dateutil>=2.8.1->pandas) (1.14.0)\n"
     ]
    }
   ],
   "source": [
    "!pip install pandas"
   ]
  },
  {
   "cell_type": "code",
   "execution_count": 45,
   "metadata": {},
   "outputs": [
    {
     "name": "stdout",
     "output_type": "stream",
     "text": [
      "Requirement already satisfied: pandas_datareader in /home/alcamargos/.local/lib/python3.8/site-packages (0.10.0)\n",
      "Requirement already satisfied: pandas>=0.23 in /home/alcamargos/.local/lib/python3.8/site-packages (from pandas_datareader) (1.4.2)\n",
      "Requirement already satisfied: lxml in /home/alcamargos/.local/lib/python3.8/site-packages (from pandas_datareader) (4.8.0)\n",
      "Requirement already satisfied: requests>=2.19.0 in /usr/lib/python3/dist-packages (from pandas_datareader) (2.22.0)\n",
      "Requirement already satisfied: python-dateutil>=2.8.1 in /home/alcamargos/.local/lib/python3.8/site-packages (from pandas>=0.23->pandas_datareader) (2.8.2)\n",
      "Requirement already satisfied: numpy>=1.18.5; platform_machine != \"aarch64\" and platform_machine != \"arm64\" and python_version < \"3.10\" in /home/alcamargos/.local/lib/python3.8/site-packages (from pandas>=0.23->pandas_datareader) (1.22.3)\n",
      "Requirement already satisfied: pytz>=2020.1 in /home/alcamargos/.local/lib/python3.8/site-packages (from pandas>=0.23->pandas_datareader) (2022.1)\n",
      "Requirement already satisfied: six>=1.5 in /usr/lib/python3/dist-packages (from python-dateutil>=2.8.1->pandas>=0.23->pandas_datareader) (1.14.0)\n"
     ]
    }
   ],
   "source": [
    "!pip install pandas_datareader "
   ]
  },
  {
   "cell_type": "code",
   "execution_count": 46,
   "metadata": {},
   "outputs": [
    {
     "name": "stdout",
     "output_type": "stream",
     "text": [
      "Requirement already satisfied: matplotlib in /home/alcamargos/.local/lib/python3.8/site-packages (3.5.1)\n",
      "Requirement already satisfied: kiwisolver>=1.0.1 in /home/alcamargos/.local/lib/python3.8/site-packages (from matplotlib) (1.4.2)\n",
      "Requirement already satisfied: pillow>=6.2.0 in /home/alcamargos/.local/lib/python3.8/site-packages (from matplotlib) (9.1.0)\n",
      "Requirement already satisfied: packaging>=20.0 in /home/alcamargos/.local/lib/python3.8/site-packages (from matplotlib) (21.3)\n",
      "Requirement already satisfied: python-dateutil>=2.7 in /home/alcamargos/.local/lib/python3.8/site-packages (from matplotlib) (2.8.2)\n",
      "Requirement already satisfied: pyparsing>=2.2.1 in /home/alcamargos/.local/lib/python3.8/site-packages (from matplotlib) (3.0.8)\n",
      "Requirement already satisfied: fonttools>=4.22.0 in /home/alcamargos/.local/lib/python3.8/site-packages (from matplotlib) (4.33.2)\n",
      "Requirement already satisfied: numpy>=1.17 in /home/alcamargos/.local/lib/python3.8/site-packages (from matplotlib) (1.22.3)\n",
      "Requirement already satisfied: cycler>=0.10 in /home/alcamargos/.local/lib/python3.8/site-packages (from matplotlib) (0.11.0)\n",
      "Requirement already satisfied: six>=1.5 in /usr/lib/python3/dist-packages (from python-dateutil>=2.7->matplotlib) (1.14.0)\n"
     ]
    }
   ],
   "source": [
    "!pip install matplotlib"
   ]
  },
  {
   "cell_type": "code",
   "execution_count": 47,
   "metadata": {},
   "outputs": [
    {
     "name": "stdout",
     "output_type": "stream",
     "text": [
      "Requirement already satisfied: seaborn in /home/alcamargos/.local/lib/python3.8/site-packages (0.11.2)\n",
      "Requirement already satisfied: scipy>=1.0 in /home/alcamargos/.local/lib/python3.8/site-packages (from seaborn) (1.8.0)\n",
      "Requirement already satisfied: numpy>=1.15 in /home/alcamargos/.local/lib/python3.8/site-packages (from seaborn) (1.22.3)\n",
      "Requirement already satisfied: matplotlib>=2.2 in /home/alcamargos/.local/lib/python3.8/site-packages (from seaborn) (3.5.1)\n",
      "Requirement already satisfied: pandas>=0.23 in /home/alcamargos/.local/lib/python3.8/site-packages (from seaborn) (1.4.2)\n",
      "Requirement already satisfied: pillow>=6.2.0 in /home/alcamargos/.local/lib/python3.8/site-packages (from matplotlib>=2.2->seaborn) (9.1.0)\n",
      "Requirement already satisfied: cycler>=0.10 in /home/alcamargos/.local/lib/python3.8/site-packages (from matplotlib>=2.2->seaborn) (0.11.0)\n",
      "Requirement already satisfied: python-dateutil>=2.7 in /home/alcamargos/.local/lib/python3.8/site-packages (from matplotlib>=2.2->seaborn) (2.8.2)\n",
      "Requirement already satisfied: packaging>=20.0 in /home/alcamargos/.local/lib/python3.8/site-packages (from matplotlib>=2.2->seaborn) (21.3)\n",
      "Requirement already satisfied: pyparsing>=2.2.1 in /home/alcamargos/.local/lib/python3.8/site-packages (from matplotlib>=2.2->seaborn) (3.0.8)\n",
      "Requirement already satisfied: kiwisolver>=1.0.1 in /home/alcamargos/.local/lib/python3.8/site-packages (from matplotlib>=2.2->seaborn) (1.4.2)\n",
      "Requirement already satisfied: fonttools>=4.22.0 in /home/alcamargos/.local/lib/python3.8/site-packages (from matplotlib>=2.2->seaborn) (4.33.2)\n",
      "Requirement already satisfied: pytz>=2020.1 in /home/alcamargos/.local/lib/python3.8/site-packages (from pandas>=0.23->seaborn) (2022.1)\n",
      "Requirement already satisfied: six>=1.5 in /usr/lib/python3/dist-packages (from python-dateutil>=2.7->matplotlib>=2.2->seaborn) (1.14.0)\n"
     ]
    }
   ],
   "source": [
    "!pip install seaborn"
   ]
  },
  {
   "cell_type": "code",
   "execution_count": 48,
   "metadata": {},
   "outputs": [
    {
     "name": "stdout",
     "output_type": "stream",
     "text": [
      "Requirement already satisfied: plotly in /home/alcamargos/.local/lib/python3.8/site-packages (5.7.0)\n",
      "Requirement already satisfied: tenacity>=6.2.0 in /home/alcamargos/.local/lib/python3.8/site-packages (from plotly) (8.0.1)\n",
      "Requirement already satisfied: six in /usr/lib/python3/dist-packages (from plotly) (1.14.0)\n"
     ]
    }
   ],
   "source": [
    "!pip install plotly"
   ]
  },
  {
   "cell_type": "code",
   "execution_count": 49,
   "metadata": {},
   "outputs": [],
   "source": [
    "import pandas as pd"
   ]
  },
  {
   "cell_type": "code",
   "execution_count": 50,
   "metadata": {},
   "outputs": [],
   "source": [
    "import numpy as np"
   ]
  },
  {
   "cell_type": "code",
   "execution_count": 77,
   "metadata": {},
   "outputs": [],
   "source": [
    "from pandas_datareader import data as pdr"
   ]
  },
  {
   "cell_type": "code",
   "execution_count": 52,
   "metadata": {},
   "outputs": [],
   "source": [
    "import matplotlib.pyplot as mpl"
   ]
  },
  {
   "cell_type": "code",
   "execution_count": 53,
   "metadata": {},
   "outputs": [],
   "source": [
    "import seaborn as sb"
   ]
  },
  {
   "cell_type": "code",
   "execution_count": 54,
   "metadata": {},
   "outputs": [],
   "source": [
    "import plotly.express as px"
   ]
  },
  {
   "cell_type": "code",
   "execution_count": 55,
   "metadata": {},
   "outputs": [
    {
     "name": "stdout",
     "output_type": "stream",
     "text": [
      "pandas 1.4.2\n"
     ]
    }
   ],
   "source": [
    "print(f'{pd.__name__} {pd.__version__}')"
   ]
  },
  {
   "cell_type": "code",
   "execution_count": 56,
   "metadata": {},
   "outputs": [
    {
     "name": "stdout",
     "output_type": "stream",
     "text": [
      "numpy 1.22.3\n"
     ]
    }
   ],
   "source": [
    "print(f'{np.__name__} {np.__version__}')"
   ]
  },
  {
   "cell_type": "code",
   "execution_count": 57,
   "metadata": {},
   "outputs": [],
   "source": [
    "%matplotlib inline"
   ]
  },
  {
   "cell_type": "code",
   "execution_count": 58,
   "metadata": {},
   "outputs": [],
   "source": [
    "# Activate seaborn’s “default” theme.\n",
    "sb.set_theme()"
   ]
  },
  {
   "cell_type": "markdown",
   "metadata": {},
   "source": [
    "Nosso objetivo é coletar os dados das ações de algumas empresas. Para isso, utilizaremos o datareader, já importado anteriormente, e também o Yahoo! Finanças como nossa fonte web."
   ]
  },
  {
   "cell_type": "markdown",
   "metadata": {},
   "source": [
    "#### Carregando dados do Yahoo Finanças "
   ]
  },
  {
   "cell_type": "markdown",
   "metadata": {},
   "source": [
    "Carregando os dados da empres Magazine Luiza S.A. (MGLU3.SA)."
   ]
  },
  {
   "cell_type": "code",
   "execution_count": 63,
   "metadata": {},
   "outputs": [],
   "source": [
    "START = '1994-07-01'"
   ]
  },
  {
   "cell_type": "code",
   "execution_count": 78,
   "metadata": {},
   "outputs": [],
   "source": [
    "vale_df = pdr.DataReader(name='MGLU3.SA', data_source='yahoo', start=START)"
   ]
  },
  {
   "cell_type": "code",
   "execution_count": 79,
   "metadata": {},
   "outputs": [
    {
     "data": {
      "text/html": [
       "<div>\n",
       "<style scoped>\n",
       "    .dataframe tbody tr th:only-of-type {\n",
       "        vertical-align: middle;\n",
       "    }\n",
       "\n",
       "    .dataframe tbody tr th {\n",
       "        vertical-align: top;\n",
       "    }\n",
       "\n",
       "    .dataframe thead th {\n",
       "        text-align: right;\n",
       "    }\n",
       "</style>\n",
       "<table border=\"1\" class=\"dataframe\">\n",
       "  <thead>\n",
       "    <tr style=\"text-align: right;\">\n",
       "      <th></th>\n",
       "      <th>High</th>\n",
       "      <th>Low</th>\n",
       "      <th>Open</th>\n",
       "      <th>Close</th>\n",
       "      <th>Volume</th>\n",
       "      <th>Adj Close</th>\n",
       "    </tr>\n",
       "    <tr>\n",
       "      <th>Date</th>\n",
       "      <th></th>\n",
       "      <th></th>\n",
       "      <th></th>\n",
       "      <th></th>\n",
       "      <th></th>\n",
       "      <th></th>\n",
       "    </tr>\n",
       "  </thead>\n",
       "  <tbody>\n",
       "    <tr>\n",
       "      <th>2011-05-02</th>\n",
       "      <td>0.518750</td>\n",
       "      <td>0.503125</td>\n",
       "      <td>0.503125</td>\n",
       "      <td>0.514062</td>\n",
       "      <td>280003200.0</td>\n",
       "      <td>0.463173</td>\n",
       "    </tr>\n",
       "    <tr>\n",
       "      <th>2011-05-03</th>\n",
       "      <td>0.521562</td>\n",
       "      <td>0.506250</td>\n",
       "      <td>0.515625</td>\n",
       "      <td>0.509375</td>\n",
       "      <td>33670400.0</td>\n",
       "      <td>0.458950</td>\n",
       "    </tr>\n",
       "    <tr>\n",
       "      <th>2011-05-04</th>\n",
       "      <td>0.515000</td>\n",
       "      <td>0.510000</td>\n",
       "      <td>0.510000</td>\n",
       "      <td>0.515000</td>\n",
       "      <td>39203200.0</td>\n",
       "      <td>0.464018</td>\n",
       "    </tr>\n",
       "    <tr>\n",
       "      <th>2011-05-05</th>\n",
       "      <td>0.512812</td>\n",
       "      <td>0.510000</td>\n",
       "      <td>0.512812</td>\n",
       "      <td>0.511875</td>\n",
       "      <td>35097600.0</td>\n",
       "      <td>0.461202</td>\n",
       "    </tr>\n",
       "    <tr>\n",
       "      <th>2011-05-06</th>\n",
       "      <td>0.511875</td>\n",
       "      <td>0.500000</td>\n",
       "      <td>0.510937</td>\n",
       "      <td>0.508125</td>\n",
       "      <td>38672000.0</td>\n",
       "      <td>0.457824</td>\n",
       "    </tr>\n",
       "  </tbody>\n",
       "</table>\n",
       "</div>"
      ],
      "text/plain": [
       "                High       Low      Open     Close       Volume  Adj Close\n",
       "Date                                                                      \n",
       "2011-05-02  0.518750  0.503125  0.503125  0.514062  280003200.0   0.463173\n",
       "2011-05-03  0.521562  0.506250  0.515625  0.509375   33670400.0   0.458950\n",
       "2011-05-04  0.515000  0.510000  0.510000  0.515000   39203200.0   0.464018\n",
       "2011-05-05  0.512812  0.510000  0.512812  0.511875   35097600.0   0.461202\n",
       "2011-05-06  0.511875  0.500000  0.510937  0.508125   38672000.0   0.457824"
      ]
     },
     "execution_count": 79,
     "metadata": {},
     "output_type": "execute_result"
    }
   ],
   "source": [
    "vale_df.head()"
   ]
  },
  {
   "cell_type": "code",
   "execution_count": 80,
   "metadata": {},
   "outputs": [
    {
     "name": "stdout",
     "output_type": "stream",
     "text": [
      "<class 'pandas.core.frame.DataFrame'>\n",
      "DatetimeIndex: 2724 entries, 2011-05-02 to 2022-04-22\n",
      "Data columns (total 6 columns):\n",
      " #   Column     Non-Null Count  Dtype  \n",
      "---  ------     --------------  -----  \n",
      " 0   High       2724 non-null   float64\n",
      " 1   Low        2724 non-null   float64\n",
      " 2   Open       2724 non-null   float64\n",
      " 3   Close      2724 non-null   float64\n",
      " 4   Volume     2724 non-null   float64\n",
      " 5   Adj Close  2724 non-null   float64\n",
      "dtypes: float64(6)\n",
      "memory usage: 149.0 KB\n"
     ]
    }
   ],
   "source": [
    "vale_df.info()"
   ]
  },
  {
   "cell_type": "markdown",
   "metadata": {},
   "source": [
    "Carregando dados de uma carteira de ações de forma automática.\n",
    "\n",
    "Precisamos definir as ações de quais empresas desejamos importar, colocando seus nomes em uma lista. Esses nomes podem ser encontrados no Yahoo Finanças, ao selecionar a empresa é importante atendar ao qual bolsa ela é comercializada, visto que uma mesma empresa pode ter suas ações comercializadas em mercados de vários países, nesse teste analisaremos as ações comerciaalizadas na *B3* a bolsa de valores brasileira. As empeesas selecionadas foram:\n",
    "- Americanas S.A. (AMER3.SA)\n",
    "- Banco Bradesco S.A. (BBDC4.SA)\n",
    "- Braskem S.A. (BRKM5.SA)\n",
    "- BR Malls Participações S.A. (BRML3.SA)\n",
    "- Companhia Siderúrgica Nacional (CSNA3.SA)\n",
    "- JHSF Participações S.A. (JHSF3.SA)\n",
    "- Marfrig Global Foods S.A. (MRFG3.SA)\n",
    "- Companhia Brasileira de Distribuição (PCAR3.SA)\n",
    "- SLC Agrícola S.A. (SLCE3.SA)\n",
    "- Vale S.A. (VALE3.SA)\n",
    "- iShares Ibovespa Index Fund (BOVA11.SA)"
   ]
  },
  {
   "cell_type": "code",
   "execution_count": 71,
   "metadata": {},
   "outputs": [],
   "source": [
    "carteira = ['AMER3.SA', 'BBDC4.SA', 'BRKM5.SA', 'BRML3.SA', 'CSNA3.SA', 'JHSF3.SA', 'MRFG3.SA', 'PCAR3.SA', 'SLCE3.SA', 'VALE3.SA', 'BOVA11.SA']"
   ]
  },
  {
   "cell_type": "markdown",
   "metadata": {},
   "source": [
    "Definidas as ações que queremos analisar, vamos criar um dataframe vazio e utilziando um laço de repetição _for_ percoreremos as ações da nossa carteira, coletando as cotações do Yahoo Finanças e armazenando no dataframe."
   ]
  },
  {
   "cell_type": "code",
   "execution_count": 72,
   "metadata": {},
   "outputs": [],
   "source": [
    "carteira_df = pd.DataFrame()"
   ]
  },
  {
   "cell_type": "code",
   "execution_count": 81,
   "metadata": {},
   "outputs": [],
   "source": [
    "for acao in carteira:\n",
    "    carteira_df[acao] = pdr.DataReader(name=acao, data_source='yahoo', start=START)['Close']"
   ]
  },
  {
   "cell_type": "markdown",
   "metadata": {},
   "source": [
    "Repare que dentro da função do datareader, passamos o nome da ação, a fonte, a data de início e, fora dos parênteses, frisamos se tratar de dados do fechamento diário da bolsa. Vamos visualizar como ficou nosso dataset."
   ]
  },
  {
   "cell_type": "code",
   "execution_count": 82,
   "metadata": {},
   "outputs": [
    {
     "data": {
      "text/html": [
       "<div>\n",
       "<style scoped>\n",
       "    .dataframe tbody tr th:only-of-type {\n",
       "        vertical-align: middle;\n",
       "    }\n",
       "\n",
       "    .dataframe tbody tr th {\n",
       "        vertical-align: top;\n",
       "    }\n",
       "\n",
       "    .dataframe thead th {\n",
       "        text-align: right;\n",
       "    }\n",
       "</style>\n",
       "<table border=\"1\" class=\"dataframe\">\n",
       "  <thead>\n",
       "    <tr style=\"text-align: right;\">\n",
       "      <th></th>\n",
       "      <th>AMER3.SA</th>\n",
       "      <th>BBDC4.SA</th>\n",
       "      <th>BRKM5.SA</th>\n",
       "      <th>BRML3.SA</th>\n",
       "      <th>CSNA3.SA</th>\n",
       "      <th>JHSF3.SA</th>\n",
       "      <th>MRFG3.SA</th>\n",
       "      <th>PCAR3.SA</th>\n",
       "      <th>SLCE3.SA</th>\n",
       "      <th>VALE3.SA</th>\n",
       "      <th>BOVA11.SA</th>\n",
       "    </tr>\n",
       "    <tr>\n",
       "      <th>Date</th>\n",
       "      <th></th>\n",
       "      <th></th>\n",
       "      <th></th>\n",
       "      <th></th>\n",
       "      <th></th>\n",
       "      <th></th>\n",
       "      <th></th>\n",
       "      <th></th>\n",
       "      <th></th>\n",
       "      <th></th>\n",
       "      <th></th>\n",
       "    </tr>\n",
       "  </thead>\n",
       "  <tbody>\n",
       "    <tr>\n",
       "      <th>2005-03-30</th>\n",
       "      <td>19.093649</td>\n",
       "      <td>NaN</td>\n",
       "      <td>26.562500</td>\n",
       "      <td>NaN</td>\n",
       "      <td>10.300000</td>\n",
       "      <td>NaN</td>\n",
       "      <td>NaN</td>\n",
       "      <td>60.117096</td>\n",
       "      <td>NaN</td>\n",
       "      <td>20.677500</td>\n",
       "      <td>NaN</td>\n",
       "    </tr>\n",
       "    <tr>\n",
       "      <th>2005-03-31</th>\n",
       "      <td>19.093649</td>\n",
       "      <td>NaN</td>\n",
       "      <td>27.072500</td>\n",
       "      <td>NaN</td>\n",
       "      <td>10.550000</td>\n",
       "      <td>NaN</td>\n",
       "      <td>NaN</td>\n",
       "      <td>60.117096</td>\n",
       "      <td>NaN</td>\n",
       "      <td>21.250000</td>\n",
       "      <td>NaN</td>\n",
       "    </tr>\n",
       "    <tr>\n",
       "      <th>2005-04-01</th>\n",
       "      <td>18.546097</td>\n",
       "      <td>NaN</td>\n",
       "      <td>27.850000</td>\n",
       "      <td>NaN</td>\n",
       "      <td>10.741666</td>\n",
       "      <td>NaN</td>\n",
       "      <td>NaN</td>\n",
       "      <td>60.117096</td>\n",
       "      <td>NaN</td>\n",
       "      <td>21.125000</td>\n",
       "      <td>NaN</td>\n",
       "    </tr>\n",
       "    <tr>\n",
       "      <th>2005-04-04</th>\n",
       "      <td>17.450994</td>\n",
       "      <td>NaN</td>\n",
       "      <td>27.247499</td>\n",
       "      <td>NaN</td>\n",
       "      <td>10.516666</td>\n",
       "      <td>NaN</td>\n",
       "      <td>NaN</td>\n",
       "      <td>60.117096</td>\n",
       "      <td>NaN</td>\n",
       "      <td>20.525000</td>\n",
       "      <td>NaN</td>\n",
       "    </tr>\n",
       "    <tr>\n",
       "      <th>2005-04-05</th>\n",
       "      <td>17.194881</td>\n",
       "      <td>NaN</td>\n",
       "      <td>26.500000</td>\n",
       "      <td>NaN</td>\n",
       "      <td>10.116666</td>\n",
       "      <td>NaN</td>\n",
       "      <td>NaN</td>\n",
       "      <td>60.117096</td>\n",
       "      <td>NaN</td>\n",
       "      <td>20.299999</td>\n",
       "      <td>NaN</td>\n",
       "    </tr>\n",
       "    <tr>\n",
       "      <th>...</th>\n",
       "      <td>...</td>\n",
       "      <td>...</td>\n",
       "      <td>...</td>\n",
       "      <td>...</td>\n",
       "      <td>...</td>\n",
       "      <td>...</td>\n",
       "      <td>...</td>\n",
       "      <td>...</td>\n",
       "      <td>...</td>\n",
       "      <td>...</td>\n",
       "      <td>...</td>\n",
       "    </tr>\n",
       "    <tr>\n",
       "      <th>2022-04-14</th>\n",
       "      <td>28.150000</td>\n",
       "      <td>19.481817</td>\n",
       "      <td>43.630001</td>\n",
       "      <td>8.72</td>\n",
       "      <td>25.440001</td>\n",
       "      <td>6.18</td>\n",
       "      <td>19.760000</td>\n",
       "      <td>23.860001</td>\n",
       "      <td>48.119999</td>\n",
       "      <td>92.089996</td>\n",
       "      <td>111.650002</td>\n",
       "    </tr>\n",
       "    <tr>\n",
       "      <th>2022-04-18</th>\n",
       "      <td>28.360001</td>\n",
       "      <td>19.827272</td>\n",
       "      <td>43.849998</td>\n",
       "      <td>8.75</td>\n",
       "      <td>24.750000</td>\n",
       "      <td>6.28</td>\n",
       "      <td>19.280001</td>\n",
       "      <td>23.780001</td>\n",
       "      <td>49.919998</td>\n",
       "      <td>90.570000</td>\n",
       "      <td>111.459999</td>\n",
       "    </tr>\n",
       "    <tr>\n",
       "      <th>2022-04-19</th>\n",
       "      <td>28.010000</td>\n",
       "      <td>19.570000</td>\n",
       "      <td>43.799999</td>\n",
       "      <td>9.42</td>\n",
       "      <td>24.860001</td>\n",
       "      <td>6.67</td>\n",
       "      <td>19.360001</td>\n",
       "      <td>23.760000</td>\n",
       "      <td>50.040001</td>\n",
       "      <td>87.680000</td>\n",
       "      <td>110.919998</td>\n",
       "    </tr>\n",
       "    <tr>\n",
       "      <th>2022-04-20</th>\n",
       "      <td>27.240000</td>\n",
       "      <td>19.500000</td>\n",
       "      <td>41.389999</td>\n",
       "      <td>9.55</td>\n",
       "      <td>23.840000</td>\n",
       "      <td>6.62</td>\n",
       "      <td>19.250000</td>\n",
       "      <td>23.420000</td>\n",
       "      <td>50.720001</td>\n",
       "      <td>85.400002</td>\n",
       "      <td>110.050003</td>\n",
       "    </tr>\n",
       "    <tr>\n",
       "      <th>2022-04-22</th>\n",
       "      <td>26.670000</td>\n",
       "      <td>19.219999</td>\n",
       "      <td>40.299999</td>\n",
       "      <td>9.29</td>\n",
       "      <td>22.010000</td>\n",
       "      <td>6.39</td>\n",
       "      <td>18.750000</td>\n",
       "      <td>22.309999</td>\n",
       "      <td>50.060001</td>\n",
       "      <td>80.449997</td>\n",
       "      <td>106.750000</td>\n",
       "    </tr>\n",
       "  </tbody>\n",
       "</table>\n",
       "<p>4242 rows × 11 columns</p>\n",
       "</div>"
      ],
      "text/plain": [
       "             AMER3.SA   BBDC4.SA   BRKM5.SA  BRML3.SA   CSNA3.SA  JHSF3.SA  \\\n",
       "Date                                                                         \n",
       "2005-03-30  19.093649        NaN  26.562500       NaN  10.300000       NaN   \n",
       "2005-03-31  19.093649        NaN  27.072500       NaN  10.550000       NaN   \n",
       "2005-04-01  18.546097        NaN  27.850000       NaN  10.741666       NaN   \n",
       "2005-04-04  17.450994        NaN  27.247499       NaN  10.516666       NaN   \n",
       "2005-04-05  17.194881        NaN  26.500000       NaN  10.116666       NaN   \n",
       "...               ...        ...        ...       ...        ...       ...   \n",
       "2022-04-14  28.150000  19.481817  43.630001      8.72  25.440001      6.18   \n",
       "2022-04-18  28.360001  19.827272  43.849998      8.75  24.750000      6.28   \n",
       "2022-04-19  28.010000  19.570000  43.799999      9.42  24.860001      6.67   \n",
       "2022-04-20  27.240000  19.500000  41.389999      9.55  23.840000      6.62   \n",
       "2022-04-22  26.670000  19.219999  40.299999      9.29  22.010000      6.39   \n",
       "\n",
       "             MRFG3.SA   PCAR3.SA   SLCE3.SA   VALE3.SA   BOVA11.SA  \n",
       "Date                                                                \n",
       "2005-03-30        NaN  60.117096        NaN  20.677500         NaN  \n",
       "2005-03-31        NaN  60.117096        NaN  21.250000         NaN  \n",
       "2005-04-01        NaN  60.117096        NaN  21.125000         NaN  \n",
       "2005-04-04        NaN  60.117096        NaN  20.525000         NaN  \n",
       "2005-04-05        NaN  60.117096        NaN  20.299999         NaN  \n",
       "...               ...        ...        ...        ...         ...  \n",
       "2022-04-14  19.760000  23.860001  48.119999  92.089996  111.650002  \n",
       "2022-04-18  19.280001  23.780001  49.919998  90.570000  111.459999  \n",
       "2022-04-19  19.360001  23.760000  50.040001  87.680000  110.919998  \n",
       "2022-04-20  19.250000  23.420000  50.720001  85.400002  110.050003  \n",
       "2022-04-22  18.750000  22.309999  50.060001  80.449997  106.750000  \n",
       "\n",
       "[4242 rows x 11 columns]"
      ]
     },
     "execution_count": 82,
     "metadata": {},
     "output_type": "execute_result"
    }
   ],
   "source": [
    "carteira_df"
   ]
  },
  {
   "cell_type": "code",
   "execution_count": 84,
   "metadata": {},
   "outputs": [
    {
     "name": "stdout",
     "output_type": "stream",
     "text": [
      "<class 'pandas.core.frame.DataFrame'>\n",
      "DatetimeIndex: 4242 entries, 2005-03-30 to 2022-04-22\n",
      "Data columns (total 11 columns):\n",
      " #   Column     Non-Null Count  Dtype  \n",
      "---  ------     --------------  -----  \n",
      " 0   AMER3.SA   4242 non-null   float64\n",
      " 1   BBDC4.SA   3548 non-null   float64\n",
      " 2   BRKM5.SA   4242 non-null   float64\n",
      " 3   BRML3.SA   3729 non-null   float64\n",
      " 4   CSNA3.SA   4232 non-null   float64\n",
      " 5   JHSF3.SA   3725 non-null   float64\n",
      " 6   MRFG3.SA   3671 non-null   float64\n",
      " 7   PCAR3.SA   4242 non-null   float64\n",
      " 8   SLCE3.SA   3681 non-null   float64\n",
      " 9   VALE3.SA   4242 non-null   float64\n",
      " 10  BOVA11.SA  3320 non-null   float64\n",
      "dtypes: float64(11)\n",
      "memory usage: 397.7 KB\n"
     ]
    }
   ],
   "source": [
    "carteira_df.info()"
   ]
  },
  {
   "cell_type": "markdown",
   "metadata": {},
   "source": [
    "Para facilitar a utilização desses dados, podemos renomear as colunas, fazendo com que fiquem mais intuitivo para quem está lendo."
   ]
  },
  {
   "cell_type": "code",
   "execution_count": 85,
   "metadata": {},
   "outputs": [],
   "source": [
    "carteira_df = carteira_df.rename(columns={'AMER3.SA':'AMER3','BBDC4.SA':'BBDC4','BRKM5.SA':'BRKM5',\n",
    "                                    'BRML3.SA':'BRML3','CSNA3.SA':'JHSF3','MRFG3.SA':'MRFG3',\n",
    "                                    'PCAR3.SA':'PCAR3','SLCE3.SA':'SLCE3','VALE3.SA':'BOVA11'\n",
    "                                    })"
   ]
  },
  {
   "cell_type": "code",
   "execution_count": 86,
   "metadata": {},
   "outputs": [
    {
     "data": {
      "text/html": [
       "<div>\n",
       "<style scoped>\n",
       "    .dataframe tbody tr th:only-of-type {\n",
       "        vertical-align: middle;\n",
       "    }\n",
       "\n",
       "    .dataframe tbody tr th {\n",
       "        vertical-align: top;\n",
       "    }\n",
       "\n",
       "    .dataframe thead th {\n",
       "        text-align: right;\n",
       "    }\n",
       "</style>\n",
       "<table border=\"1\" class=\"dataframe\">\n",
       "  <thead>\n",
       "    <tr style=\"text-align: right;\">\n",
       "      <th></th>\n",
       "      <th>AMER3</th>\n",
       "      <th>BBDC4</th>\n",
       "      <th>BRKM5</th>\n",
       "      <th>BRML3</th>\n",
       "      <th>JHSF3</th>\n",
       "      <th>JHSF3.SA</th>\n",
       "      <th>MRFG3</th>\n",
       "      <th>PCAR3</th>\n",
       "      <th>SLCE3</th>\n",
       "      <th>BOVA11</th>\n",
       "      <th>BOVA11.SA</th>\n",
       "    </tr>\n",
       "    <tr>\n",
       "      <th>Date</th>\n",
       "      <th></th>\n",
       "      <th></th>\n",
       "      <th></th>\n",
       "      <th></th>\n",
       "      <th></th>\n",
       "      <th></th>\n",
       "      <th></th>\n",
       "      <th></th>\n",
       "      <th></th>\n",
       "      <th></th>\n",
       "      <th></th>\n",
       "    </tr>\n",
       "  </thead>\n",
       "  <tbody>\n",
       "    <tr>\n",
       "      <th>2005-03-30</th>\n",
       "      <td>19.093649</td>\n",
       "      <td>NaN</td>\n",
       "      <td>26.562500</td>\n",
       "      <td>NaN</td>\n",
       "      <td>10.300000</td>\n",
       "      <td>NaN</td>\n",
       "      <td>NaN</td>\n",
       "      <td>60.117096</td>\n",
       "      <td>NaN</td>\n",
       "      <td>20.677500</td>\n",
       "      <td>NaN</td>\n",
       "    </tr>\n",
       "    <tr>\n",
       "      <th>2005-03-31</th>\n",
       "      <td>19.093649</td>\n",
       "      <td>NaN</td>\n",
       "      <td>27.072500</td>\n",
       "      <td>NaN</td>\n",
       "      <td>10.550000</td>\n",
       "      <td>NaN</td>\n",
       "      <td>NaN</td>\n",
       "      <td>60.117096</td>\n",
       "      <td>NaN</td>\n",
       "      <td>21.250000</td>\n",
       "      <td>NaN</td>\n",
       "    </tr>\n",
       "    <tr>\n",
       "      <th>2005-04-01</th>\n",
       "      <td>18.546097</td>\n",
       "      <td>NaN</td>\n",
       "      <td>27.850000</td>\n",
       "      <td>NaN</td>\n",
       "      <td>10.741666</td>\n",
       "      <td>NaN</td>\n",
       "      <td>NaN</td>\n",
       "      <td>60.117096</td>\n",
       "      <td>NaN</td>\n",
       "      <td>21.125000</td>\n",
       "      <td>NaN</td>\n",
       "    </tr>\n",
       "    <tr>\n",
       "      <th>2005-04-04</th>\n",
       "      <td>17.450994</td>\n",
       "      <td>NaN</td>\n",
       "      <td>27.247499</td>\n",
       "      <td>NaN</td>\n",
       "      <td>10.516666</td>\n",
       "      <td>NaN</td>\n",
       "      <td>NaN</td>\n",
       "      <td>60.117096</td>\n",
       "      <td>NaN</td>\n",
       "      <td>20.525000</td>\n",
       "      <td>NaN</td>\n",
       "    </tr>\n",
       "    <tr>\n",
       "      <th>2005-04-05</th>\n",
       "      <td>17.194881</td>\n",
       "      <td>NaN</td>\n",
       "      <td>26.500000</td>\n",
       "      <td>NaN</td>\n",
       "      <td>10.116666</td>\n",
       "      <td>NaN</td>\n",
       "      <td>NaN</td>\n",
       "      <td>60.117096</td>\n",
       "      <td>NaN</td>\n",
       "      <td>20.299999</td>\n",
       "      <td>NaN</td>\n",
       "    </tr>\n",
       "  </tbody>\n",
       "</table>\n",
       "</div>"
      ],
      "text/plain": [
       "                AMER3  BBDC4      BRKM5  BRML3      JHSF3  JHSF3.SA  MRFG3  \\\n",
       "Date                                                                         \n",
       "2005-03-30  19.093649    NaN  26.562500    NaN  10.300000       NaN    NaN   \n",
       "2005-03-31  19.093649    NaN  27.072500    NaN  10.550000       NaN    NaN   \n",
       "2005-04-01  18.546097    NaN  27.850000    NaN  10.741666       NaN    NaN   \n",
       "2005-04-04  17.450994    NaN  27.247499    NaN  10.516666       NaN    NaN   \n",
       "2005-04-05  17.194881    NaN  26.500000    NaN  10.116666       NaN    NaN   \n",
       "\n",
       "                PCAR3  SLCE3     BOVA11  BOVA11.SA  \n",
       "Date                                                \n",
       "2005-03-30  60.117096    NaN  20.677500        NaN  \n",
       "2005-03-31  60.117096    NaN  21.250000        NaN  \n",
       "2005-04-01  60.117096    NaN  21.125000        NaN  \n",
       "2005-04-04  60.117096    NaN  20.525000        NaN  \n",
       "2005-04-05  60.117096    NaN  20.299999        NaN  "
      ]
     },
     "execution_count": 86,
     "metadata": {},
     "output_type": "execute_result"
    }
   ],
   "source": [
    "carteira_df.head()"
   ]
  },
  {
   "cell_type": "code",
   "execution_count": 87,
   "metadata": {},
   "outputs": [
    {
     "name": "stdout",
     "output_type": "stream",
     "text": [
      "<class 'pandas.core.frame.DataFrame'>\n",
      "DatetimeIndex: 4242 entries, 2005-03-30 to 2022-04-22\n",
      "Data columns (total 11 columns):\n",
      " #   Column     Non-Null Count  Dtype  \n",
      "---  ------     --------------  -----  \n",
      " 0   AMER3      4242 non-null   float64\n",
      " 1   BBDC4      3548 non-null   float64\n",
      " 2   BRKM5      4242 non-null   float64\n",
      " 3   BRML3      3729 non-null   float64\n",
      " 4   JHSF3      4232 non-null   float64\n",
      " 5   JHSF3.SA   3725 non-null   float64\n",
      " 6   MRFG3      3671 non-null   float64\n",
      " 7   PCAR3      4242 non-null   float64\n",
      " 8   SLCE3      3681 non-null   float64\n",
      " 9   BOVA11     4242 non-null   float64\n",
      " 10  BOVA11.SA  3320 non-null   float64\n",
      "dtypes: float64(11)\n",
      "memory usage: 397.7 KB\n"
     ]
    }
   ],
   "source": [
    "carteira_df.info()"
   ]
  }
 ],
 "metadata": {
  "interpreter": {
   "hash": "916dbcbb3f70747c44a77c7bcd40155683ae19c65e1c03b4aa3499c5328201f1"
  },
  "kernelspec": {
   "display_name": "Python 3.8.10 64-bit",
   "language": "python",
   "name": "python3"
  },
  "language_info": {
   "codemirror_mode": {
    "name": "ipython",
    "version": 3
   },
   "file_extension": ".py",
   "mimetype": "text/x-python",
   "name": "python",
   "nbconvert_exporter": "python",
   "pygments_lexer": "ipython3",
   "version": "3.8.10"
  },
  "orig_nbformat": 4
 },
 "nbformat": 4,
 "nbformat_minor": 2
}
