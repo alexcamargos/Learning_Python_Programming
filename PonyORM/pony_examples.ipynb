{
 "cells": [
  {
   "cell_type": "markdown",
   "metadata": {},
   "source": [
    "# Pony examples\n",
    "\n",
    "### Diagram of Database for example\n",
    "\n",
    "![](eStore.png)\n"
   ]
  },
  {
   "cell_type": "code",
   "execution_count": 1,
   "metadata": {},
   "outputs": [
    {
     "name": "stdout",
     "output_type": "stream",
     "text": [
      "GET CONNECTION FROM THE LOCAL POOL\n",
      "PRAGMA foreign_keys = false\n",
      "BEGIN IMMEDIATE TRANSACTION\n",
      "SELECT \"CartItem\".\"id\", \"CartItem\".\"quantity\", \"CartItem\".\"customer\", \"CartItem\".\"product\"\n",
      "FROM \"CartItem\" \"CartItem\"\n",
      "WHERE 0 = 1\n",
      "\n",
      "SELECT \"Category\".\"id\", \"Category\".\"name\"\n",
      "FROM \"Category\" \"Category\"\n",
      "WHERE 0 = 1\n",
      "\n",
      "SELECT \"Category_Product\".\"category\", \"Category_Product\".\"product\"\n",
      "FROM \"Category_Product\" \"Category_Product\"\n",
      "WHERE 0 = 1\n",
      "\n",
      "SELECT \"Customer\".\"id\", \"Customer\".\"email\", \"Customer\".\"password\", \"Customer\".\"name\", \"Customer\".\"country\", \"Customer\".\"address\"\n",
      "FROM \"Customer\" \"Customer\"\n",
      "WHERE 0 = 1\n",
      "\n",
      "SELECT \"Order\".\"id\", \"Order\".\"state\", \"Order\".\"date_created\", \"Order\".\"date_shipped\", \"Order\".\"date_delivered\", \"Order\".\"total_price\", \"Order\".\"customer\"\n",
      "FROM \"Order\" \"Order\"\n",
      "WHERE 0 = 1\n",
      "\n",
      "SELECT \"OrderItem\".\"quantity\", \"OrderItem\".\"price\", \"OrderItem\".\"order\", \"OrderItem\".\"product\"\n",
      "FROM \"OrderItem\" \"OrderItem\"\n",
      "WHERE 0 = 1\n",
      "\n",
      "SELECT \"Product\".\"id\", \"Product\".\"name\", \"Product\".\"description\", \"Product\".\"picture\", \"Product\".\"price\", \"Product\".\"quantity\"\n",
      "FROM \"Product\" \"Product\"\n",
      "WHERE 0 = 1\n",
      "\n",
      "COMMIT\n",
      "PRAGMA foreign_keys = true\n",
      "CLOSE CONNECTION\n"
     ]
    }
   ],
   "source": [
    "from pony.orm.examples.estore import *"
   ]
  },
  {
   "cell_type": "code",
   "execution_count": 2,
   "metadata": {},
   "outputs": [
    {
     "name": "stdout",
     "output_type": "stream",
     "text": [
      "GET NEW CONNECTION\n",
      "SWITCH TO AUTOCOMMIT MODE\n",
      "SELECT \"c\".\"id\", \"c\".\"email\", \"c\".\"password\", \"c\".\"name\", \"c\".\"country\", \"c\".\"address\"\n",
      "FROM \"Customer\" \"c\"\n",
      "ORDER BY 1\n",
      "LIMIT 1\n",
      "\n",
      "RELEASE CONNECTION\n"
     ]
    }
   ],
   "source": [
    "with db_session:\n",
    "    if Customer.select().first() is None:\n",
    "        populate_database()"
   ]
  },
  {
   "cell_type": "markdown",
   "metadata": {},
   "source": [
    "## All USA customers\n"
   ]
  },
  {
   "cell_type": "code",
   "execution_count": 3,
   "metadata": {},
   "outputs": [
    {
     "name": "stdout",
     "output_type": "stream",
     "text": [
      "GET CONNECTION FROM THE LOCAL POOL\n",
      "SWITCH TO AUTOCOMMIT MODE\n",
      "SELECT \"customer\".\"id\", \"customer\".\"email\", \"customer\".\"password\", \"customer\".\"name\", \"customer\".\"country\", \"customer\".\"address\"\n",
      "FROM \"Customer\" \"customer\"\n",
      "WHERE \"customer\".\"country\" = 'USA'\n",
      "\n",
      "id|email              |password|name          |country|address  \n",
      "--+-------------------+--------+--------------+-------+---------\n",
      "1 |john@example.com   |***     |John Smith    |USA    |address 1\n",
      "2 |matthew@example.com|***     |Matthew Reed  |USA    |address 2\n",
      "4 |rebecca@example.com|***     |Rebecca Lawson|USA    |address 4\n"
     ]
    }
   ],
   "source": [
    "usa_customers = select(customer for customer in Customer\n",
    "                       if customer.country == 'USA')\n",
    "show(usa_customers)"
   ]
  },
  {
   "cell_type": "markdown",
   "metadata": {},
   "source": [
    "## The number of customers for each country\n"
   ]
  },
  {
   "cell_type": "code",
   "execution_count": 4,
   "metadata": {},
   "outputs": [
    {
     "name": "stdout",
     "output_type": "stream",
     "text": [
      "SELECT \"customer\".\"country\", COUNT(DISTINCT \"customer\".\"id\")\n",
      "FROM \"Customer\" \"customer\"\n",
      "GROUP BY \"customer\".\"country\"\n",
      "\n",
      "customer.country|count(customer)\n",
      "----------------+---------------\n",
      "China           |1              \n",
      "UK              |1              \n",
      "USA             |3              \n"
     ]
    }
   ],
   "source": [
    "customers_each_country = select(\n",
    "    (customer.country, count(customer)) for customer in Customer)\n",
    "show(customers_each_country)"
   ]
  },
  {
   "cell_type": "markdown",
   "metadata": {},
   "source": [
    "## Max product price\n"
   ]
  },
  {
   "cell_type": "code",
   "execution_count": 5,
   "metadata": {},
   "outputs": [
    {
     "name": "stdout",
     "output_type": "stream",
     "text": [
      "SELECT MAX(\"product\".\"price\")\n",
      "FROM \"Product\" \"product\"\n",
      "\n",
      "Decimal('478.5')\n"
     ]
    }
   ],
   "source": [
    "max_product_price = max(product.price for product in Product)\n",
    "show(max_product_price)"
   ]
  },
  {
   "cell_type": "code",
   "execution_count": 6,
   "metadata": {},
   "outputs": [
    {
     "name": "stdout",
     "output_type": "stream",
     "text": [
      "SELECT MAX(\"product\".\"price\")\n",
      "FROM \"Product\" \"product\", \"Category_Product\" \"t-1\", \"Category\" \"category\"\n",
      "WHERE \"category\".\"name\" = 'Solid State Drives'\n",
      "  AND \"product\".\"id\" = \"t-1\".\"product\"\n",
      "  AND \"t-1\".\"category\" = \"category\".\"id\"\n",
      "\n",
      "Decimal('188.67')\n"
     ]
    }
   ],
   "source": [
    "max_ssd_price = max(product.price for product in Product\n",
    "                    for category in product.categories\n",
    "                    if category.name == 'Solid State Drives')\n",
    "show(max_ssd_price)"
   ]
  },
  {
   "cell_type": "markdown",
   "metadata": {},
   "source": [
    "## Three most expensive products\n"
   ]
  },
  {
   "cell_type": "code",
   "execution_count": 7,
   "metadata": {},
   "outputs": [
    {
     "name": "stdout",
     "output_type": "stream",
     "text": [
      "SELECT \"product\".\"id\", \"product\".\"name\", \"product\".\"description\", \"product\".\"picture\", \"product\".\"price\", \"product\".\"quantity\"\n",
      "FROM \"Product\" \"product\"\n",
      "ORDER BY \"product\".\"price\" DESC\n",
      "LIMIT 3\n",
      "\n",
      "id|name                      |description               |picture|price |quantity\n",
      "--+--------------------------+--------------------------+-------+------+--------\n",
      "2 |Apple iPad with Retina ...|iPad with Retina displa...|None   |478.50|180     \n",
      "1 |Kindle Fire HD            |Amazon tablet for web, ...|None   |284.00|120     \n",
      "6 |Crucial m4 256GB 2.5-In...|The award-winning SSD d...|None   |188.67|60      \n"
     ]
    }
   ],
   "source": [
    "most_expensive_products = select(product for product in Product).order_by(\n",
    "    desc(Product.price))[:3]\n",
    "show(most_expensive_products)"
   ]
  },
  {
   "cell_type": "markdown",
   "metadata": {},
   "source": [
    "## Out of stock products\n"
   ]
  },
  {
   "cell_type": "code",
   "execution_count": 8,
   "metadata": {},
   "outputs": [
    {
     "name": "stdout",
     "output_type": "stream",
     "text": [
      "SELECT \"product\".\"id\", \"product\".\"name\", \"product\".\"description\", \"product\".\"picture\", \"product\".\"price\", \"product\".\"quantity\"\n",
      "FROM \"Product\" \"product\"\n",
      "WHERE \"product\".\"quantity\" = 0\n",
      "\n",
      "id|name                      |description               |picture|price|quantity\n",
      "--+--------------------------+--------------------------+-------+-----+--------\n",
      "5 |Samsung 840 Series 2.5 ...|Enables you to boot up ...|None   |98.95|0       \n"
     ]
    }
   ],
   "source": [
    "products_out_stock = select(product for product in Product\n",
    "                            if product.quantity == 0)\n",
    "show(products_out_stock)"
   ]
  },
  {
   "cell_type": "markdown",
   "metadata": {},
   "source": [
    "## Most popular product\n"
   ]
  },
  {
   "cell_type": "code",
   "execution_count": 9,
   "metadata": {},
   "outputs": [
    {
     "name": "stdout",
     "output_type": "stream",
     "text": [
      "SELECT \"product\".\"id\"\n",
      "FROM \"Product\" \"product\"\n",
      "  LEFT JOIN \"OrderItem\" \"orderitem\"\n",
      "    ON \"product\".\"id\" = \"orderitem\".\"product\"\n",
      "GROUP BY \"product\".\"id\"\n",
      "ORDER BY coalesce(SUM(\"orderitem\".\"quantity\"), 0) DESC\n",
      "LIMIT 1\n",
      "\n",
      "SELECT \"id\", \"name\", \"description\", \"picture\", \"price\", \"quantity\"\n",
      "FROM \"Product\"\n",
      "WHERE \"id\" = ?\n",
      "[4]\n",
      "\n",
      "id|name                      |description               |picture|price|quantity\n",
      "--+--------------------------+--------------------------+-------+-----+--------\n",
      "4 |Kingston Digital DataTr...|Convenient - small, cap...|None   |9.98 |350     \n"
     ]
    }
   ],
   "source": [
    "most_popular_product = select(product for product in Product).order_by(\n",
    "    lambda product: desc(sum(product.order_items.quantity)))[:1]\n",
    "show(most_popular_product)"
   ]
  },
  {
   "cell_type": "code",
   "execution_count": 10,
   "metadata": {},
   "outputs": [],
   "source": [
    "## Products that have never been ordered"
   ]
  },
  {
   "cell_type": "code",
   "execution_count": 11,
   "metadata": {},
   "outputs": [
    {
     "name": "stdout",
     "output_type": "stream",
     "text": [
      "SELECT \"product\".\"id\", \"product\".\"name\", \"product\".\"description\", \"product\".\"picture\", \"product\".\"price\", \"product\".\"quantity\"\n",
      "FROM \"Product\" \"product\"\n",
      "WHERE NOT EXISTS (\n",
      "    SELECT 1\n",
      "    FROM \"OrderItem\" \"orderitem\"\n",
      "    WHERE \"product\".\"id\" = \"orderitem\".\"product\"\n",
      "    )\n",
      "\n",
      "id|name                      |description               |picture|price|quantity\n",
      "--+--------------------------+--------------------------+-------+-----+--------\n",
      "3 |SanDisk Cruzer 16 GB US...|Take it all with you on...|None   |9.99 |400     \n",
      "5 |Samsung 840 Series 2.5 ...|Enables you to boot up ...|None   |98.95|0       \n"
     ]
    }
   ],
   "source": [
    "never_ordered_products = select(product for product in Product\n",
    "                                if not product.order_items)\n",
    "show(never_ordered_products)"
   ]
  },
  {
   "cell_type": "markdown",
   "metadata": {},
   "source": [
    "## Customers who made several orders\n"
   ]
  },
  {
   "cell_type": "code",
   "execution_count": 12,
   "metadata": {},
   "outputs": [
    {
     "name": "stdout",
     "output_type": "stream",
     "text": [
      "SELECT \"customer\".\"id\"\n",
      "FROM \"Customer\" \"customer\"\n",
      "  LEFT JOIN \"Order\" \"order\"\n",
      "    ON \"customer\".\"id\" = \"order\".\"customer\"\n",
      "GROUP BY \"customer\".\"id\"\n",
      "HAVING COUNT(DISTINCT \"order\".\"id\") > 1\n",
      "\n",
      "id|email           |password|name      |country|address  \n",
      "--+----------------+--------+----------+-------+---------\n",
      "1 |john@example.com|***     |John Smith|USA    |address 1\n"
     ]
    }
   ],
   "source": [
    "customers_several_orders = select(customer for customer in Customer\n",
    "                                  if count(customer.orders) > 1)\n",
    "show(customers_several_orders)"
   ]
  },
  {
   "cell_type": "markdown",
   "metadata": {},
   "source": [
    "## Three most valuable customers\n"
   ]
  },
  {
   "cell_type": "code",
   "execution_count": 13,
   "metadata": {},
   "outputs": [
    {
     "name": "stdout",
     "output_type": "stream",
     "text": [
      "SELECT \"customer\".\"id\"\n",
      "FROM \"Customer\" \"customer\"\n",
      "  LEFT JOIN \"Order\" \"order\"\n",
      "    ON \"customer\".\"id\" = \"order\".\"customer\"\n",
      "GROUP BY \"customer\".\"id\"\n",
      "ORDER BY coalesce(SUM(\"order\".\"total_price\"), 0) DESC\n",
      "LIMIT 3\n",
      "\n",
      "id|email              |password|name          |country|address  \n",
      "--+-------------------+--------+--------------+-------+---------\n",
      "1 |john@example.com   |***     |John Smith    |USA    |address 1\n",
      "4 |rebecca@example.com|***     |Rebecca Lawson|USA    |address 4\n",
      "2 |matthew@example.com|***     |Matthew Reed  |USA    |address 2\n"
     ]
    }
   ],
   "source": [
    "most_valuable_customer = select(customer for customer in Customer).order_by(\n",
    "    lambda customer: desc(sum(customer.orders.total_price)))[:3]\n",
    "show(most_valuable_customer)"
   ]
  },
  {
   "cell_type": "markdown",
   "metadata": {},
   "source": [
    "## Customers whose orders were shipped\n"
   ]
  },
  {
   "cell_type": "code",
   "execution_count": 14,
   "metadata": {},
   "outputs": [
    {
     "name": "stdout",
     "output_type": "stream",
     "text": [
      "SELECT \"customer\".\"id\", \"customer\".\"email\", \"customer\".\"password\", \"customer\".\"name\", \"customer\".\"country\", \"customer\".\"address\"\n",
      "FROM \"Customer\" \"customer\"\n",
      "WHERE ? IN (\n",
      "    SELECT \"order\".\"state\"\n",
      "    FROM \"Order\" \"order\"\n",
      "    WHERE \"customer\".\"id\" = \"order\".\"customer\"\n",
      "    )\n",
      "['SHIPPED']\n",
      "\n",
      "id|email               |password|name     |country|address  \n",
      "--+--------------------+--------+---------+-------+---------\n",
      "3 |chuanqin@example.com|***     |Chuan Qin|China  |address 3\n"
     ]
    }
   ],
   "source": [
    "customers_order_shipped = select(customer for customer in Customer\n",
    "                                 if SHIPPED in customer.orders.state)\n",
    "show(customers_order_shipped)"
   ]
  },
  {
   "cell_type": "code",
   "execution_count": 15,
   "metadata": {},
   "outputs": [
    {
     "name": "stdout",
     "output_type": "stream",
     "text": [
      "SELECT DISTINCT \"customer\".\"id\", \"customer\".\"email\", \"customer\".\"password\", \"customer\".\"name\", \"customer\".\"country\", \"customer\".\"address\"\n",
      "FROM \"Customer\" \"customer\", \"Order\" \"order\"\n",
      "WHERE \"order\".\"state\" = ?\n",
      "  AND \"customer\".\"id\" = \"order\".\"customer\"\n",
      "['SHIPPED']\n",
      "\n",
      "id|email               |password|name     |country|address  \n",
      "--+--------------------+--------+---------+-------+---------\n",
      "3 |chuanqin@example.com|***     |Chuan Qin|China  |address 3\n"
     ]
    }
   ],
   "source": [
    "# The same query with the INNER JOIN instead of IN.\n",
    "customers_order_shipped_join = select(\n",
    "    customer for customer in Customer\n",
    "    if JOIN(SHIPPED in customer.orders.state))\n",
    "show(customers_order_shipped_join)"
   ]
  },
  {
   "cell_type": "markdown",
   "metadata": {},
   "source": [
    "## Customers with no orders\n"
   ]
  },
  {
   "cell_type": "code",
   "execution_count": 16,
   "metadata": {},
   "outputs": [
    {
     "name": "stdout",
     "output_type": "stream",
     "text": [
      "SELECT \"customer\".\"id\", \"customer\".\"email\", \"customer\".\"password\", \"customer\".\"name\", \"customer\".\"country\", \"customer\".\"address\"\n",
      "FROM \"Customer\" \"customer\"\n",
      "WHERE NOT EXISTS (\n",
      "    SELECT 1\n",
      "    FROM \"Order\" \"order\"\n",
      "    WHERE \"customer\".\"id\" = \"order\".\"customer\"\n",
      "    )\n",
      "\n",
      "id|email             |password|name         |country|address  \n",
      "--+------------------+--------+-------------+-------+---------\n",
      "5 |oliver@example.com|***     |Oliver Blakey|UK     |address 5\n"
     ]
    }
   ],
   "source": [
    "customers_no_order = select(customer for customer in Customer\n",
    "                            if not customer.orders)\n",
    "show(customers_no_order)"
   ]
  },
  {
   "cell_type": "code",
   "execution_count": 17,
   "metadata": {},
   "outputs": [
    {
     "name": "stdout",
     "output_type": "stream",
     "text": [
      "SELECT DISTINCT \"customer\".\"id\", \"customer\".\"email\", \"customer\".\"password\", \"customer\".\"name\", \"customer\".\"country\", \"customer\".\"address\"\n",
      "FROM \"Customer\" \"customer\"\n",
      "  LEFT JOIN \"Order\" \"order\"\n",
      "    ON \"customer\".\"id\" = \"order\".\"customer\"\n",
      "WHERE \"order\".\"id\" IS NULL\n",
      "\n",
      "id|email             |password|name         |country|address  \n",
      "--+------------------+--------+-------------+-------+---------\n",
      "5 |oliver@example.com|***     |Oliver Blakey|UK     |address 5\n"
     ]
    }
   ],
   "source": [
    "# The same query with the LEFT JOIN instead of NOT EXISTS.\n",
    "customers_no_order_left_join = left_join(customer for customer in Customer\n",
    "                                         for order in customer.orders\n",
    "                                         if order is None)\n",
    "show(customers_no_order_left_join)"
   ]
  },
  {
   "cell_type": "markdown",
   "metadata": {},
   "source": [
    "## Customers which ordered several products from the same category'\n"
   ]
  },
  {
   "cell_type": "code",
   "execution_count": 18,
   "metadata": {},
   "outputs": [
    {
     "name": "stdout",
     "output_type": "stream",
     "text": [
      "SELECT \"customer\".\"name\", \"category\".\"name\"\n",
      "FROM \"Customer\" \"customer\", \"Order\" \"order\", \"OrderItem\" \"orderitem\", \"Category_Product\" \"t-1\", \"Category\" \"category\"\n",
      "WHERE \"customer\".\"id\" = \"order\".\"customer\"\n",
      "  AND \"order\".\"id\" = \"orderitem\".\"order\"\n",
      "  AND \"orderitem\".\"product\" = \"t-1\".\"product\"\n",
      "  AND \"t-1\".\"category\" = \"category\".\"id\"\n",
      "GROUP BY \"customer\".\"name\", \"category\".\"name\"\n",
      "HAVING COUNT(DISTINCT \"orderitem\".\"product\") > 1\n",
      "\n",
      "customer.name |category.name\n",
      "--------------+-------------\n",
      "John Smith    |Tablets      \n",
      "Matthew Reed  |Data Storage \n",
      "Rebecca Lawson|Tablets      \n"
     ]
    }
   ],
   "source": [
    "customers_ordered_products_same_category = select(\n",
    "    (customer.name, category.name) for customer in Customer\n",
    "    for product in customer.orders.items.product\n",
    "    for category in product.categories if count(product) > 1)\n",
    "show(customers_ordered_products_same_category)"
   ]
  },
  {
   "cell_type": "markdown",
   "metadata": {},
   "source": [
    "## Products whose price varies over time\n"
   ]
  },
  {
   "cell_type": "code",
   "execution_count": 19,
   "metadata": {},
   "outputs": [
    {
     "name": "stdout",
     "output_type": "stream",
     "text": [
      "SELECT \"product\".\"id\"\n",
      "FROM \"Product\" \"product\"\n",
      "  LEFT JOIN \"OrderItem\" \"orderitem\"\n",
      "    ON \"product\".\"id\" = \"orderitem\".\"product\"\n",
      "GROUP BY \"product\".\"id\"\n",
      "HAVING COUNT(DISTINCT \"orderitem\".\"price\") > 1\n",
      "\n",
      "id|name          |description                           |picture|price |quantity\n",
      "--+--------------+--------------------------------------+-------+------+--------\n",
      "1 |Kindle Fire HD|Amazon tablet for web, movies, musi...|None   |284.00|120     \n"
     ]
    }
   ],
   "source": [
    "products_price_varies = select(product for product in Product\n",
    "                               if count(product.order_items.price) > 1)\n",
    "show(products_price_varies)"
   ]
  },
  {
   "cell_type": "code",
   "execution_count": 20,
   "metadata": {},
   "outputs": [
    {
     "name": "stdout",
     "output_type": "stream",
     "text": [
      "SELECT \"product\".\"name\", MIN(\"orderitem\".\"price\"), MAX(\"orderitem\".\"price\")\n",
      "FROM \"Product\" \"product\"\n",
      "  LEFT JOIN \"OrderItem\" \"orderitem\"\n",
      "    ON \"product\".\"id\" = \"orderitem\".\"product\"\n",
      "GROUP BY \"product\".\"name\"\n",
      "HAVING COUNT(DISTINCT \"orderitem\".\"price\") > 1\n",
      "\n",
      "product.name  |min(product.order_items.price)|max(product.order_items.price)\n",
      "--------------+------------------------------+------------------------------\n",
      "Kindle Fire HD|274                           |284                           \n"
     ]
    }
   ],
   "source": [
    "# The same query, but with min and max price for each product.\n",
    "products_price_varies_min_max = select(\n",
    "    (product.name, min(product.order_items.price),\n",
    "     max(product.order_items.price)) for product in Product\n",
    "    if count(product.order_items.price) > 1)\n",
    "show(products_price_varies_min_max)"
   ]
  },
  {
   "cell_type": "markdown",
   "metadata": {},
   "source": [
    "## Orders with a discount\n",
    "\n",
    "order total price < sum of order item prices\n"
   ]
  },
  {
   "cell_type": "code",
   "execution_count": 21,
   "metadata": {},
   "outputs": [
    {
     "name": "stdout",
     "output_type": "stream",
     "text": [
      "SELECT \"order\".\"id\"\n",
      "FROM \"Order\" \"order\"\n",
      "  LEFT JOIN \"OrderItem\" \"orderitem\"\n",
      "    ON \"order\".\"id\" = \"orderitem\".\"order\"\n",
      "GROUP BY \"order\".\"id\"\n",
      "HAVING \"order\".\"total_price\" < coalesce(SUM((\"orderitem\".\"price\" * \"orderitem\".\"quantity\")), 0)\n",
      "\n",
      "SELECT \"id\", \"state\", \"date_created\", \"date_shipped\", \"date_delivered\", \"total_price\", \"customer\"\n",
      "FROM \"Order\"\n",
      "WHERE \"id\" IN (?, ?, ?, ?)\n",
      "[1, 3, 4, 5]\n",
      "\n",
      "id|state    |date_created |date_shipped |date_deliv...|total_price|customer   \n",
      "--+---------+-------------+-------------+-------------+-----------+-----------\n",
      "1 |DELIVERED|2012-10-20...|2012-10-21...|2012-10-26...|292.00     |Customer[1]\n",
      "3 |DELIVERED|2012-11-03...|2012-11-04...|2012-11-07...|680.50     |Customer[2]\n",
      "4 |SHIPPED  |2013-03-11...|2013-03-12...|None         |99.80      |Customer[3]\n",
      "5 |CREATED  |2013-03-15...|None         |None         |722.00     |Customer[4]\n"
     ]
    }
   ],
   "source": [
    "orders_with_discount = select(\n",
    "    order for order in Order\n",
    "    if order.total_price < sum(order.items.price * order.items.quantity))\n",
    "show(orders_with_discount)"
   ]
  }
 ],
 "metadata": {
  "kernelspec": {
   "display_name": "Python 3.10.5 ('.venv': venv)",
   "language": "python",
   "name": "python3"
  },
  "language_info": {
   "codemirror_mode": {
    "name": "ipython",
    "version": 3
   },
   "file_extension": ".py",
   "mimetype": "text/x-python",
   "name": "python",
   "nbconvert_exporter": "python",
   "pygments_lexer": "ipython3",
   "version": "3.10.5"
  },
  "orig_nbformat": 4,
  "vscode": {
   "interpreter": {
    "hash": "c5d25c80924e13fd9a9e35b0a83e3e9002c6499cfd31c1e71a3ec7f25593969b"
   }
  }
 },
 "nbformat": 4,
 "nbformat_minor": 2
}
