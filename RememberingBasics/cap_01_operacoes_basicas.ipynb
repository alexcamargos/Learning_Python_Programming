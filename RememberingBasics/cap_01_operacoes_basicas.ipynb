{
 "cells": [
  {
   "cell_type": "markdown",
   "id": "8f43026c-606f-4b2b-b146-f2068b848a5f",
   "metadata": {},
   "source": [
    "# Python – Relembrando os Fundamentos Básicos"
   ]
  },
  {
   "cell_type": "markdown",
   "id": "a3ec8a94-d3ab-4e84-b373-856b30101253",
   "metadata": {},
   "source": [
    "Python é uma linguagem fácil de aprender e poderosa. Ela tem estruturas de dados de alto nível eficientes e uma abordagem simples mas efetiva de programação orientada a objetos. A elegância de sintaxe e a tipagem dinâmica de Python aliadas com sua natureza interpretativa, o fazem a linguagem ideal para programas e desenvolvimento de aplicações rápidas em diversas áreas e na maioria das plataformas."
   ]
  },
  {
   "cell_type": "markdown",
   "id": "c33732fc-ad65-4a72-969e-a855900c4c03",
   "metadata": {},
   "source": [
    "Python é uma linguagem de programação de alto nível — ou High Level Language —, dinâmica, interpretada, modular, multiplataforma e orientada a objetos — uma forma específica de organizar softwares onde, a grosso modo, os procedimentos estão submetidos às classes, o que possibilita maior controle e estabilidade de códigos para projetos de grandes proporções."
   ]
  },
  {
   "cell_type": "code",
   "execution_count": 1,
   "id": "f6bba960-c7cd-4d69-aa63-9623e72c62f2",
   "metadata": {},
   "outputs": [
    {
     "name": "stdout",
     "output_type": "stream",
     "text": [
      "Versão da Linguagem Python utilizada neste Jupyter Notebook: 3.10.4\n"
     ]
    }
   ],
   "source": [
    "# Versão da Linguagem Python utilizada\n",
    "from platform import python_version as _pv\n",
    "print(f'Versão da Linguagem Python utilizada neste Jupyter Notebook: {_pv()}')"
   ]
  },
  {
   "cell_type": "markdown",
   "id": "bb003db8-f4ee-4139-9fbd-233c5a7817e1",
   "metadata": {},
   "source": [
    "## Como Utilizar o Jupyter Notebook"
   ]
  },
  {
   "cell_type": "code",
   "execution_count": 2,
   "id": "46f312ba-75c1-4908-8279-4a83b638555a",
   "metadata": {},
   "outputs": [],
   "source": [
    "# Isto é um comentário"
   ]
  },
  {
   "cell_type": "code",
   "execution_count": 3,
   "id": "1bbf455f-fc44-4277-bdd3-f9d3635360ca",
   "metadata": {},
   "outputs": [
    {
     "name": "stdout",
     "output_type": "stream",
     "text": [
      "Hello World\n"
     ]
    }
   ],
   "source": [
    "print(\"Hello World\")    # Hello World!"
   ]
  },
  {
   "cell_type": "code",
   "execution_count": 4,
   "id": "ff59aec6-2e78-4e5c-bbb1-b124e52d8148",
   "metadata": {},
   "outputs": [
    {
     "data": {
      "text/plain": [
       "4"
      ]
     },
     "execution_count": 4,
     "metadata": {},
     "output_type": "execute_result"
    }
   ],
   "source": [
    "2 + 2"
   ]
  },
  {
   "cell_type": "code",
   "execution_count": 5,
   "id": "41d8b854-4eb0-4c66-aa19-1d312db8981e",
   "metadata": {},
   "outputs": [
    {
     "data": {
      "text/html": [
       "\n",
       "        <iframe\n",
       "            width=\"500\"\n",
       "            height=\"350\"\n",
       "            src=\"https://www.youtube.com/embed/eEsfPL6SvJc\"\n",
       "            frameborder=\"0\"\n",
       "            allowfullscreen\n",
       "            \n",
       "        ></iframe>\n",
       "        "
      ],
      "text/plain": [
       "<IPython.lib.display.IFrame at 0x16564505de0>"
      ]
     },
     "execution_count": 5,
     "metadata": {},
     "output_type": "execute_result"
    }
   ],
   "source": [
    "# Pressione as teclas shift e enter para executar esse código.\n",
    "from IPython.display import IFrame\n",
    "IFrame(src='https://www.youtube.com/embed/eEsfPL6SvJc', width='500', height='350')"
   ]
  },
  {
   "cell_type": "markdown",
   "id": "6e0b2ebf-d7cd-474e-a870-990b6ed0f3e8",
   "metadata": {},
   "source": [
    "### Jupyter Project documentationinformal ao Python\n",
    "\n",
    "https://docs.jupyter.org/en/latest/index.html"
   ]
  },
  {
   "cell_type": "markdown",
   "id": "40340b00-a4c2-4005-aa74-37063ce5b666",
   "metadata": {},
   "source": [
    "## Uma Revisão Informal ao Python"
   ]
  },
  {
   "cell_type": "markdown",
   "id": "a34e4d5d-2d81-4b86-8eb6-1d6c9fbffc47",
   "metadata": {
    "tags": []
   },
   "source": [
    "### Função Type"
   ]
  },
  {
   "cell_type": "code",
   "execution_count": 6,
   "id": "80a7dc03-287e-42f9-a7bb-293f99ac5238",
   "metadata": {},
   "outputs": [
    {
     "data": {
      "text/plain": [
       "float"
      ]
     },
     "execution_count": 6,
     "metadata": {},
     "output_type": "execute_result"
    }
   ],
   "source": [
    "type(42.0)"
   ]
  },
  {
   "cell_type": "code",
   "execution_count": 7,
   "id": "777149dd-7baa-47eb-9418-0350d8da8606",
   "metadata": {},
   "outputs": [
    {
     "data": {
      "text/plain": [
       "int"
      ]
     },
     "execution_count": 7,
     "metadata": {},
     "output_type": "execute_result"
    }
   ],
   "source": [
    "# A função type exibe o tipo de um valor ou variável.\n",
    "type(42)"
   ]
  },
  {
   "cell_type": "code",
   "execution_count": 8,
   "id": "2aabdd66-13bd-4df1-a26e-c99765a1c0d1",
   "metadata": {},
   "outputs": [
    {
     "data": {
      "text/plain": [
       "str"
      ]
     },
     "execution_count": 8,
     "metadata": {},
     "output_type": "execute_result"
    }
   ],
   "source": [
    "my_var = 'Jamais, em hipótese alguma, deixe um Vogon ler poesias para você.'\n",
    "type(my_var)"
   ]
  },
  {
   "cell_type": "markdown",
   "id": "4d96bfd0-112d-4d31-8b3f-9133a49de6fd",
   "metadata": {
    "tags": []
   },
   "source": [
    "### Usando Python como uma calculadora"
   ]
  },
  {
   "cell_type": "code",
   "execution_count": 9,
   "id": "5ca755cf-d178-4d60-ae54-2cdd94092e41",
   "metadata": {},
   "outputs": [
    {
     "data": {
      "text/plain": [
       "42"
      ]
     },
     "execution_count": 9,
     "metadata": {},
     "output_type": "execute_result"
    }
   ],
   "source": [
    "40 + 2    # Soma"
   ]
  },
  {
   "cell_type": "code",
   "execution_count": 10,
   "id": "e33142d1-eed2-41d4-9605-db28adaa7664",
   "metadata": {},
   "outputs": [
    {
     "data": {
      "text/plain": [
       "42"
      ]
     },
     "execution_count": 10,
     "metadata": {},
     "output_type": "execute_result"
    }
   ],
   "source": [
    "44 - 2    # Subtração"
   ]
  },
  {
   "cell_type": "code",
   "execution_count": 11,
   "id": "14a9adcd-0fb8-43d3-8ec7-691b121a4207",
   "metadata": {},
   "outputs": [
    {
     "data": {
      "text/plain": [
       "42"
      ]
     },
     "execution_count": 11,
     "metadata": {},
     "output_type": "execute_result"
    }
   ],
   "source": [
    "6 * 7    # Multiplicação"
   ]
  },
  {
   "cell_type": "code",
   "execution_count": 12,
   "id": "f2e34a56-be8a-43d0-8f5b-95def7ec562a",
   "metadata": {},
   "outputs": [
    {
     "data": {
      "text/plain": [
       "42.0"
      ]
     },
     "execution_count": 12,
     "metadata": {},
     "output_type": "execute_result"
    }
   ],
   "source": [
    "# Division always returns a floating point number.\n",
    "210 / 5    # Divisão"
   ]
  },
  {
   "cell_type": "code",
   "execution_count": 13,
   "id": "384541cc-5357-46b5-a445-264176ed7580",
   "metadata": {},
   "outputs": [
    {
     "data": {
      "text/plain": [
       "42.000120562499994"
      ]
     },
     "execution_count": 13,
     "metadata": {},
     "output_type": "execute_result"
    }
   ],
   "source": [
    "6.48075 ** 2    # Potenciação x^y"
   ]
  },
  {
   "cell_type": "code",
   "execution_count": 14,
   "id": "3705d1cf-392b-4997-8b7c-2301e45d35b4",
   "metadata": {
    "tags": []
   },
   "outputs": [
    {
     "data": {
      "text/plain": [
       "2"
      ]
     },
     "execution_count": 14,
     "metadata": {},
     "output_type": "execute_result"
    }
   ],
   "source": [
    "42 % 5    # Módulo"
   ]
  },
  {
   "cell_type": "code",
   "execution_count": 15,
   "id": "b9693672-64e6-4289-8906-9e19dbf63d8e",
   "metadata": {},
   "outputs": [
    {
     "data": {
      "text/plain": [
       "216.0"
      ]
     },
     "execution_count": 15,
     "metadata": {},
     "output_type": "execute_result"
    }
   ],
   "source": [
    "42 * 5 + 42 / 7"
   ]
  },
  {
   "cell_type": "markdown",
   "id": "99a517ac-2c6a-4b2f-9da4-a1bfcaccaa8e",
   "metadata": {},
   "source": [
    "Os números inteiros (ex. 2, 4, 20) são do tipo _int_, aqueles com parte fracionária (ex. 5.0, 1.6) são do tipo _float_. "
   ]
  },
  {
   "cell_type": "markdown",
   "id": "45adc915-0354-4580-a739-01e11147fe85",
   "metadata": {},
   "source": [
    "#### Operações matemáticas com números float"
   ]
  },
  {
   "cell_type": "code",
   "execution_count": 16,
   "id": "9090908c-9978-4f26-a137-225df91f780e",
   "metadata": {},
   "outputs": [
    {
     "data": {
      "text/plain": [
       "8.3"
      ]
     },
     "execution_count": 16,
     "metadata": {},
     "output_type": "execute_result"
    }
   ],
   "source": [
    "4.1 + 4.2"
   ]
  },
  {
   "cell_type": "markdown",
   "id": "7201198b-d38b-4612-bcb6-943662e36ecb",
   "metadata": {},
   "source": [
    "Há suporte completo para ponto flutuante (_float_); operadores com operandos de diferentes tipos convertem o inteiro para ponto flutuante."
   ]
  },
  {
   "cell_type": "code",
   "execution_count": 17,
   "id": "87495063-9c5d-4326-892f-f8985680e0ed",
   "metadata": {},
   "outputs": [
    {
     "data": {
      "text/plain": [
       "8.2"
      ]
     },
     "execution_count": 17,
     "metadata": {},
     "output_type": "execute_result"
    }
   ],
   "source": [
    "4 + 4.2"
   ]
  },
  {
   "cell_type": "code",
   "execution_count": 18,
   "id": "90e39971-d6f0-430c-86c9-ce12421fcfdc",
   "metadata": {},
   "outputs": [
    {
     "data": {
      "text/plain": [
       "8"
      ]
     },
     "execution_count": 18,
     "metadata": {},
     "output_type": "execute_result"
    }
   ],
   "source": [
    "4 + 4"
   ]
  },
  {
   "cell_type": "code",
   "execution_count": 19,
   "id": "880b2182-5b97-4d1b-bda5-2ca57adbd1d4",
   "metadata": {},
   "outputs": [
    {
     "data": {
      "text/plain": [
       "4.0"
      ]
     },
     "execution_count": 19,
     "metadata": {},
     "output_type": "execute_result"
    }
   ],
   "source": [
    "# O resultado de uma divisão com / é um número float.\n",
    "8 / 2"
   ]
  },
  {
   "cell_type": "code",
   "execution_count": 20,
   "id": "bd712747-6b47-423c-928f-85f56ce4e992",
   "metadata": {},
   "outputs": [
    {
     "data": {
      "text/plain": [
       "4"
      ]
     },
     "execution_count": 20,
     "metadata": {},
     "output_type": "execute_result"
    }
   ],
   "source": [
    "# O resultado de uma divisão com // é um número inteiro.\n",
    "8 // 2"
   ]
  },
  {
   "cell_type": "code",
   "execution_count": 21,
   "id": "6630368a-1883-40b6-aab3-6dea240962f5",
   "metadata": {},
   "outputs": [
    {
     "data": {
      "text/plain": [
       "1.3333333333333333"
      ]
     },
     "execution_count": 21,
     "metadata": {},
     "output_type": "execute_result"
    }
   ],
   "source": [
    "4 / 3"
   ]
  },
  {
   "cell_type": "code",
   "execution_count": 22,
   "id": "96cf2aa6-be7e-4332-94c4-bebd7fd164e3",
   "metadata": {},
   "outputs": [
    {
     "data": {
      "text/plain": [
       "1"
      ]
     },
     "execution_count": 22,
     "metadata": {},
     "output_type": "execute_result"
    }
   ],
   "source": [
    "4 // 3"
   ]
  },
  {
   "cell_type": "markdown",
   "id": "712d5fdb-2e72-4dbb-adf3-734e28100d41",
   "metadata": {
    "tags": []
   },
   "source": [
    "### Conversão entre valores"
   ]
  },
  {
   "cell_type": "code",
   "execution_count": 23,
   "id": "a263a3e8-ca91-4031-8b6f-f3b221dc6221",
   "metadata": {},
   "outputs": [
    {
     "data": {
      "text/plain": [
       "42.0"
      ]
     },
     "execution_count": 23,
     "metadata": {},
     "output_type": "execute_result"
    }
   ],
   "source": [
    "float(42)"
   ]
  },
  {
   "cell_type": "code",
   "execution_count": 24,
   "id": "aa6a11d7-8a74-46d4-a2b1-0165e3ff7512",
   "metadata": {},
   "outputs": [
    {
     "data": {
      "text/plain": [
       "42"
      ]
     },
     "execution_count": 24,
     "metadata": {},
     "output_type": "execute_result"
    }
   ],
   "source": [
    "int(42.0)"
   ]
  },
  {
   "cell_type": "code",
   "execution_count": 25,
   "id": "6eafbfb6-b15f-4fb2-ac8b-30638c4869b4",
   "metadata": {},
   "outputs": [
    {
     "data": {
      "text/plain": [
       "1"
      ]
     },
     "execution_count": 25,
     "metadata": {},
     "output_type": "execute_result"
    }
   ],
   "source": [
    "int(1.3333)"
   ]
  },
  {
   "cell_type": "markdown",
   "id": "3d33aa83-066c-48b2-8528-451d2885e5ea",
   "metadata": {},
   "source": [
    "### Hexadecimal e Binário"
   ]
  },
  {
   "cell_type": "code",
   "execution_count": 26,
   "id": "a072b272-5c72-40ce-ba33-3c2be3e0f751",
   "metadata": {},
   "outputs": [
    {
     "data": {
      "text/plain": [
       "'0x2a'"
      ]
     },
     "execution_count": 26,
     "metadata": {},
     "output_type": "execute_result"
    }
   ],
   "source": [
    "# Return the hexadecimal representation of an integer.\n",
    "hex(42)"
   ]
  },
  {
   "cell_type": "code",
   "execution_count": 27,
   "id": "436c8d32-c830-40a6-9bef-3ffdba237e98",
   "metadata": {},
   "outputs": [
    {
     "data": {
      "text/plain": [
       "'0xd2'"
      ]
     },
     "execution_count": 27,
     "metadata": {},
     "output_type": "execute_result"
    }
   ],
   "source": [
    "hex(42 * 5)"
   ]
  },
  {
   "cell_type": "code",
   "execution_count": 28,
   "id": "b9516147-df24-4f30-be8f-0537832298ed",
   "metadata": {},
   "outputs": [
    {
     "data": {
      "text/plain": [
       "'0b101010'"
      ]
     },
     "execution_count": 28,
     "metadata": {},
     "output_type": "execute_result"
    }
   ],
   "source": [
    "# Return the binary representation of an integer.\n",
    "bin(42)"
   ]
  },
  {
   "cell_type": "code",
   "execution_count": 29,
   "id": "15fbfce2-26b1-4338-8664-254a17c25a74",
   "metadata": {},
   "outputs": [
    {
     "data": {
      "text/plain": [
       "'0b11010010'"
      ]
     },
     "execution_count": 29,
     "metadata": {},
     "output_type": "execute_result"
    }
   ],
   "source": [
    "bin(42 * 5)"
   ]
  },
  {
   "cell_type": "markdown",
   "id": "612a38e8-6b4d-4a3e-9119-25bb2233542b",
   "metadata": {},
   "source": [
    "## Funções abs, round e pow"
   ]
  },
  {
   "cell_type": "code",
   "execution_count": 30,
   "id": "3b5919db-880a-486c-96d6-a0f4758465e2",
   "metadata": {},
   "outputs": [
    {
     "data": {
      "text/plain": [
       "42"
      ]
     },
     "execution_count": 30,
     "metadata": {},
     "output_type": "execute_result"
    }
   ],
   "source": [
    "# Return the absolute value of the argument.\n",
    "abs(-42)"
   ]
  },
  {
   "cell_type": "code",
   "execution_count": 31,
   "id": "64818be0-56f2-472a-a54a-765bc3492e89",
   "metadata": {},
   "outputs": [
    {
     "data": {
      "text/plain": [
       "42"
      ]
     },
     "execution_count": 31,
     "metadata": {},
     "output_type": "execute_result"
    }
   ],
   "source": [
    "abs(42)"
   ]
  },
  {
   "cell_type": "code",
   "execution_count": 32,
   "id": "2400eba4-cd06-4353-a558-aa58fd86bd01",
   "metadata": {},
   "outputs": [
    {
     "data": {
      "text/plain": [
       "42"
      ]
     },
     "execution_count": 32,
     "metadata": {},
     "output_type": "execute_result"
    }
   ],
   "source": [
    "# Round a number to a given precision in decimal digits.\n",
    "round(42.42424242)"
   ]
  },
  {
   "cell_type": "code",
   "execution_count": 33,
   "id": "3e52a0bb-16ac-4a0f-a79c-0b4967e86148",
   "metadata": {},
   "outputs": [
    {
     "data": {
      "text/plain": [
       "42.42435"
      ]
     },
     "execution_count": 33,
     "metadata": {},
     "output_type": "execute_result"
    }
   ],
   "source": [
    "round(42.42434546474849, 5)"
   ]
  },
  {
   "cell_type": "code",
   "execution_count": 34,
   "id": "0c578643-16d7-4cf2-b031-9d81ecb9cbfd",
   "metadata": {},
   "outputs": [
    {
     "data": {
      "text/plain": [
       "42.42"
      ]
     },
     "execution_count": 34,
     "metadata": {},
     "output_type": "execute_result"
    }
   ],
   "source": [
    "round(42.42434546474849, 2)"
   ]
  },
  {
   "cell_type": "code",
   "execution_count": 35,
   "id": "9655a0ef-91e7-41b9-8a31-5fd4967af97f",
   "metadata": {},
   "outputs": [
    {
     "data": {
      "text/plain": [
       "42.000120562499994"
      ]
     },
     "execution_count": 35,
     "metadata": {},
     "output_type": "execute_result"
    }
   ],
   "source": [
    "# Returns the value of x to the power of y (x^y).\n",
    "pow(6.48075, 2)"
   ]
  }
 ],
 "metadata": {
  "kernelspec": {
   "display_name": "Python 3 (ipykernel)",
   "language": "python",
   "name": "python3"
  },
  "language_info": {
   "codemirror_mode": {
    "name": "ipython",
    "version": 3
   },
   "file_extension": ".py",
   "mimetype": "text/x-python",
   "name": "python",
   "nbconvert_exporter": "python",
   "pygments_lexer": "ipython3",
   "version": "3.10.4"
  }
 },
 "nbformat": 4,
 "nbformat_minor": 5
}
