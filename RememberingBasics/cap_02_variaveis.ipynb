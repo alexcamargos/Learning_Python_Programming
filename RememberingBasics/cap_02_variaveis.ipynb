{
 "cells": [
  {
   "cell_type": "markdown",
   "id": "9c8a076a-df64-41c8-9535-bd374f403f77",
   "metadata": {},
   "source": [
    "# Python – Relembrando os Fundamentos Básicos"
   ]
  },
  {
   "cell_type": "code",
   "execution_count": 1,
   "id": "f21e30d6-435e-4a84-a5b4-5fb394e6025c",
   "metadata": {},
   "outputs": [
    {
     "name": "stdout",
     "output_type": "stream",
     "text": [
      "Versão da Linguagem Python utilizada neste Jupyter Notebook: 3.10.4\n"
     ]
    }
   ],
   "source": [
    "# Versão da Linguagem Python\n",
    "from platform import python_version as _pv\n",
    "print(f'Versão da Linguagem Python utilizada neste Jupyter Notebook: {_pv()}')"
   ]
  },
  {
   "cell_type": "markdown",
   "id": "aeb60a05-46e8-4332-9f73-7786a4aaaa58",
   "metadata": {},
   "source": [
    "## Variáveis e Operadores\n",
    "\n",
    "O sinal de igual ('=') é usado para atribuir um valor a uma variável."
   ]
  },
  {
   "cell_type": "code",
   "execution_count": 2,
   "id": "31f6f4ec-3f7d-4d1e-ba3a-828a33ce6e4a",
   "metadata": {},
   "outputs": [],
   "source": [
    "# Atribuindo o valor 42 a varialve my_var\n",
    "my_var = 42"
   ]
  },
  {
   "cell_type": "code",
   "execution_count": 3,
   "id": "d2664791-1ed2-4d0d-865f-5cd98222ad96",
   "metadata": {},
   "outputs": [
    {
     "name": "stdout",
     "output_type": "stream",
     "text": [
      "42\n"
     ]
    }
   ],
   "source": [
    "# Prints the values to a stream, or to sys.stdout by default.\n",
    "print(my_var)"
   ]
  },
  {
   "cell_type": "code",
   "execution_count": 4,
   "id": "b6ed41e9-4163-41be-826f-406860e444c5",
   "metadata": {},
   "outputs": [
    {
     "data": {
      "text/plain": [
       "int"
      ]
     },
     "execution_count": 4,
     "metadata": {},
     "output_type": "execute_result"
    }
   ],
   "source": [
    "type(my_var)"
   ]
  },
  {
   "cell_type": "markdown",
   "id": "29a236eb-a56e-4cca-b171-d38c18bfaf17",
   "metadata": {},
   "source": [
    "Se uma variável não é “definida” (não tem um valor atribuído), tentar utilizá-la gerará um erro."
   ]
  },
  {
   "cell_type": "code",
   "execution_count": 5,
   "id": "15e0549a-3581-433a-b6f7-25a1a482d43e",
   "metadata": {},
   "outputs": [
    {
     "ename": "NameError",
     "evalue": "name 'var_test' is not defined",
     "output_type": "error",
     "traceback": [
      "\u001b[1;31m---------------------------------------------------------------------------\u001b[0m",
      "\u001b[1;31mNameError\u001b[0m                                 Traceback (most recent call last)",
      "Input \u001b[1;32mIn [5]\u001b[0m, in \u001b[0;36m<cell line: 3>\u001b[1;34m()\u001b[0m\n\u001b[0;32m      1\u001b[0m \u001b[38;5;66;03m# Não podemos utilizar uma variável que não foi definida.\u001b[39;00m\n\u001b[0;32m      2\u001b[0m \u001b[38;5;66;03m# Veja a mensagem de erro (NameError: name XX is not defined).\u001b[39;00m\n\u001b[1;32m----> 3\u001b[0m \u001b[43mvar_test\u001b[49m\n",
      "\u001b[1;31mNameError\u001b[0m: name 'var_test' is not defined"
     ]
    }
   ],
   "source": [
    "# Não podemos utilizar uma variável que não foi definida.\n",
    "# Veja a mensagem de erro (NameError: name XX is not defined).\n",
    "var_test"
   ]
  },
  {
   "cell_type": "code",
   "execution_count": 7,
   "id": "29a0619b-fb4d-41d3-89c8-7ff033e7da79",
   "metadata": {},
   "outputs": [],
   "source": [
    "my_var = \"The Hitchhiker's Guide to the Galaxy\""
   ]
  },
  {
   "cell_type": "code",
   "execution_count": 10,
   "id": "8e610901-6809-4a30-8d32-f8895831cb84",
   "metadata": {},
   "outputs": [
    {
     "name": "stdout",
     "output_type": "stream",
     "text": [
      "The Hitchhiker's Guide to the Galaxy\n"
     ]
    }
   ],
   "source": [
    "print(my_var)"
   ]
  },
  {
   "cell_type": "code",
   "execution_count": 9,
   "id": "9718605b-ee1d-4eb6-8380-9238d3e781b3",
   "metadata": {},
   "outputs": [
    {
     "data": {
      "text/plain": [
       "str"
      ]
     },
     "execution_count": 9,
     "metadata": {},
     "output_type": "execute_result"
    }
   ],
   "source": [
    "type(my_var)"
   ]
  },
  {
   "cell_type": "code",
   "execution_count": 11,
   "id": "02183264-ebfb-4440-a371-7d2a8b0781f2",
   "metadata": {},
   "outputs": [],
   "source": [
    "my_var = 3.14"
   ]
  },
  {
   "cell_type": "code",
   "execution_count": 12,
   "id": "b9eaa98e-37c4-4c01-90f5-8c3c6d9a24aa",
   "metadata": {},
   "outputs": [
    {
     "data": {
      "text/plain": [
       "float"
      ]
     },
     "execution_count": 12,
     "metadata": {},
     "output_type": "execute_result"
    }
   ],
   "source": [
    "type(my_var)"
   ]
  },
  {
   "cell_type": "code",
   "execution_count": 13,
   "id": "bcb779f1-2eb8-4718-afb8-27261d5230e7",
   "metadata": {},
   "outputs": [
    {
     "ename": "NameError",
     "evalue": "name 'my_Var' is not defined",
     "output_type": "error",
     "traceback": [
      "\u001b[1;31m---------------------------------------------------------------------------\u001b[0m",
      "\u001b[1;31mNameError\u001b[0m                                 Traceback (most recent call last)",
      "Input \u001b[1;32mIn [13]\u001b[0m, in \u001b[0;36m<cell line: 3>\u001b[1;34m()\u001b[0m\n\u001b[0;32m      1\u001b[0m \u001b[38;5;66;03m# Variáveis são Case-sensitive.\u001b[39;00m\n\u001b[0;32m      2\u001b[0m \u001b[38;5;66;03m# Caracteres em caixa alta e em caixa baixa são tratados de modo diferente.\u001b[39;00m\n\u001b[1;32m----> 3\u001b[0m \u001b[38;5;28mprint\u001b[39m(\u001b[43mmy_Var\u001b[49m)\n",
      "\u001b[1;31mNameError\u001b[0m: name 'my_Var' is not defined"
     ]
    }
   ],
   "source": [
    "# Variáveis são Case-sensitive.\n",
    "# Caracteres em caixa alta e em caixa baixa são tratados de modo diferente.\n",
    "print(my_Var)"
   ]
  },
  {
   "cell_type": "markdown",
   "id": "ec3784ee-6b76-40e5-86fa-212d046e4701",
   "metadata": {},
   "source": [
    "## Declaração Múltipla"
   ]
  },
  {
   "cell_type": "code",
   "execution_count": 14,
   "id": "2dc3ef29-b86c-4231-89bc-e37eee72fcc2",
   "metadata": {},
   "outputs": [],
   "source": [
    "nome_01, nome_02, nome_03 = 'Arthur Dent', 'Zaphod Beeblebrox', 'Marvin The Paranoid Android'"
   ]
  },
  {
   "cell_type": "code",
   "execution_count": 15,
   "id": "1c44a5d7-0a56-4074-92b1-a0b2c2462c5b",
   "metadata": {},
   "outputs": [
    {
     "name": "stdout",
     "output_type": "stream",
     "text": [
      "Arthur Dent\n"
     ]
    }
   ],
   "source": [
    "print(nome_01)"
   ]
  },
  {
   "cell_type": "code",
   "execution_count": 16,
   "id": "f5e0b538-0da6-43f6-be57-412e9c501dc4",
   "metadata": {},
   "outputs": [
    {
     "name": "stdout",
     "output_type": "stream",
     "text": [
      "Zaphod Beeblebrox\n"
     ]
    }
   ],
   "source": [
    "print(nome_02)"
   ]
  },
  {
   "cell_type": "code",
   "execution_count": 17,
   "id": "85b6fb5e-86ec-4509-9dcb-3fcf95c3fd82",
   "metadata": {},
   "outputs": [
    {
     "name": "stdout",
     "output_type": "stream",
     "text": [
      "Marvin The Paranoid Android\n"
     ]
    }
   ],
   "source": [
    "print(nome_03)"
   ]
  },
  {
   "cell_type": "code",
   "execution_count": 18,
   "id": "7a88302c-0432-43d2-a1be-5fd4020cff30",
   "metadata": {},
   "outputs": [],
   "source": [
    "var_01 = var_02 = var_03 = 'Trillian'"
   ]
  },
  {
   "cell_type": "code",
   "execution_count": 19,
   "id": "56d07c63-22ba-45ef-b414-dacbd12183da",
   "metadata": {},
   "outputs": [
    {
     "name": "stdout",
     "output_type": "stream",
     "text": [
      "Trillian\n"
     ]
    }
   ],
   "source": [
    "print(var_01)"
   ]
  },
  {
   "cell_type": "code",
   "execution_count": 20,
   "id": "b5d15edb-2260-4d78-93ca-7372d643c6a6",
   "metadata": {},
   "outputs": [
    {
     "name": "stdout",
     "output_type": "stream",
     "text": [
      "Trillian\n"
     ]
    }
   ],
   "source": [
    "print(var_02)"
   ]
  },
  {
   "cell_type": "code",
   "execution_count": 21,
   "id": "40bba5cd-af89-408c-820d-cefb1d340a6f",
   "metadata": {},
   "outputs": [
    {
     "name": "stdout",
     "output_type": "stream",
     "text": [
      "Trillian\n"
     ]
    }
   ],
   "source": [
    "print(var_03)"
   ]
  },
  {
   "cell_type": "markdown",
   "id": "c610d719-88c1-4468-9dda-03556f7f9d8c",
   "metadata": {},
   "source": [
    "## Regra para criação de nomes de variáveis"
   ]
  },
  {
   "cell_type": "markdown",
   "id": "287c3e65-5589-4c8f-9651-7415825d503e",
   "metadata": {},
   "source": [
    "Nomes de variáveis em Python podem começar com uma letra ou um underline."
   ]
  },
  {
   "cell_type": "code",
   "execution_count": 22,
   "id": "8466ab73-bf9a-4117-871e-36c5d778c661",
   "metadata": {},
   "outputs": [],
   "source": [
    "x = True # válido"
   ]
  },
  {
   "cell_type": "code",
   "execution_count": 23,
   "id": "670d0ad2-6b53-4e4d-b1c5-e31acd468e22",
   "metadata": {},
   "outputs": [],
   "source": [
    "_y = True # válido"
   ]
  },
  {
   "cell_type": "code",
   "execution_count": 24,
   "id": "91bd7edf-709d-4aec-b7d7-240c12cf627c",
   "metadata": {},
   "outputs": [
    {
     "ename": "SyntaxError",
     "evalue": "invalid decimal literal (792370049.py, line 2)",
     "output_type": "error",
     "traceback": [
      "\u001b[1;36m  Input \u001b[1;32mIn [24]\u001b[1;36m\u001b[0m\n\u001b[1;33m    9x = False\u001b[0m\n\u001b[1;37m    ^\u001b[0m\n\u001b[1;31mSyntaxError\u001b[0m\u001b[1;31m:\u001b[0m invalid decimal literal\n"
     ]
    }
   ],
   "source": [
    "# SyntaxError: invalid syntax – começa com número\n",
    "9x = False"
   ]
  },
  {
   "cell_type": "code",
   "execution_count": 25,
   "id": "eb697858-ef4e-4260-95f3-631d2706ad9d",
   "metadata": {},
   "outputs": [
    {
     "ename": "SyntaxError",
     "evalue": "invalid syntax (495397379.py, line 2)",
     "output_type": "error",
     "traceback": [
      "\u001b[1;36m  Input \u001b[1;32mIn [25]\u001b[1;36m\u001b[0m\n\u001b[1;33m    $y = False\u001b[0m\n\u001b[1;37m    ^\u001b[0m\n\u001b[1;31mSyntaxError\u001b[0m\u001b[1;31m:\u001b[0m invalid syntax\n"
     ]
    }
   ],
   "source": [
    "# SyntaxError: invalid syntax – começa com símbolo\n",
    "$y = False"
   ]
  },
  {
   "cell_type": "markdown",
   "id": "9f88b739-e1b3-49fe-a01e-27c8223d0f19",
   "metadata": {},
   "source": [
    "O restante do nome da variável pode ter letras, números e underline."
   ]
  },
  {
   "cell_type": "code",
   "execution_count": 26,
   "id": "40954842-6d1a-4eeb-9ecc-f5bbd03b3df0",
   "metadata": {},
   "outputs": [],
   "source": [
    "variavel_com_0 = 'variável válida'"
   ]
  },
  {
   "cell_type": "markdown",
   "id": "61034406-a339-436d-b24f-6ad41c006f26",
   "metadata": {},
   "source": [
    "Os nomes de variáveis são sensíveis a maiúsculas"
   ]
  },
  {
   "cell_type": "code",
   "execution_count": 27,
   "id": "976dc0ce-952e-40be-b379-805f42eecfec",
   "metadata": {},
   "outputs": [],
   "source": [
    "x = 28"
   ]
  },
  {
   "cell_type": "code",
   "execution_count": 28,
   "id": "b6977d1c-e9c4-4bd0-ba2d-c9e1ef5e5c30",
   "metadata": {},
   "outputs": [
    {
     "ename": "NameError",
     "evalue": "name 'X' is not defined",
     "output_type": "error",
     "traceback": [
      "\u001b[1;31m---------------------------------------------------------------------------\u001b[0m",
      "\u001b[1;31mNameError\u001b[0m                                 Traceback (most recent call last)",
      "Input \u001b[1;32mIn [28]\u001b[0m, in \u001b[0;36m<cell line: 2>\u001b[1;34m()\u001b[0m\n\u001b[0;32m      1\u001b[0m \u001b[38;5;66;03m# NameError: name ‘X’ is not defined.\u001b[39;00m\n\u001b[1;32m----> 2\u001b[0m y \u001b[38;5;241m=\u001b[39m \u001b[43mX\u001b[49m \u001b[38;5;241m*\u001b[39m \u001b[38;5;241m5\u001b[39m\n",
      "\u001b[1;31mNameError\u001b[0m: name 'X' is not defined"
     ]
    }
   ],
   "source": [
    "# NameError: name ‘X’ is not defined.\n",
    "y = X * 5"
   ]
  },
  {
   "cell_type": "markdown",
   "id": "364ac6c9-af2b-4592-a3a1-28ffce8e240e",
   "metadata": {},
   "source": [
    "Você não pode usar palavras reservadas do python como nome de variável válido\n",
    "Lista de palavras reservadas do Python:\n",
    "‘False’, ‘None’, ‘True’, ‘and’, ‘as’, ‘assert’, ‘async’, ‘await’, ‘break’, ‘class’, ‘continue’, ‘def’, ‘del’, ‘elif’, ‘else’, ‘except’, ‘finally’, ‘for’, ‘from’, ‘global’, ‘if’, ‘import’, ‘in’, ‘is’, ‘lambda’, ‘nonlocal’, ‘not’, ‘or’, ‘pass’, ‘raise’, ‘return’, ‘try’, ‘while’, ‘with’, ‘yield’"
   ]
  },
  {
   "cell_type": "code",
   "execution_count": 29,
   "id": "19cd2e53-0057-435d-8c5a-73c10d10eb86",
   "metadata": {},
   "outputs": [
    {
     "ename": "SyntaxError",
     "evalue": "invalid syntax (3955098131.py, line 2)",
     "output_type": "error",
     "traceback": [
      "\u001b[1;36m  Input \u001b[1;32mIn [29]\u001b[1;36m\u001b[0m\n\u001b[1;33m    raise = 1\u001b[0m\n\u001b[1;37m          ^\u001b[0m\n\u001b[1;31mSyntaxError\u001b[0m\u001b[1;31m:\u001b[0m invalid syntax\n"
     ]
    }
   ],
   "source": [
    "# SyntaxError: invalid syntax\n",
    "raise = 1"
   ]
  },
  {
   "cell_type": "markdown",
   "id": "609e37db-7072-43a7-b98d-61dac356c41f",
   "metadata": {},
   "source": [
    "## Variáveis atribuídas a outras variáveis e ordem dos operadores"
   ]
  },
  {
   "cell_type": "code",
   "execution_count": 30,
   "id": "2b60fbe9-50af-42c6-b2b6-233401deac75",
   "metadata": {},
   "outputs": [],
   "source": [
    "width = 7"
   ]
  },
  {
   "cell_type": "code",
   "execution_count": 31,
   "id": "dc274b8a-c00b-42d5-850a-3c60fd65bfc7",
   "metadata": {},
   "outputs": [],
   "source": [
    "heigth = 6"
   ]
  },
  {
   "cell_type": "code",
   "execution_count": 32,
   "id": "9803e068-22b0-4d0c-86a5-24affae47d10",
   "metadata": {},
   "outputs": [],
   "source": [
    "area = width * width"
   ]
  },
  {
   "cell_type": "code",
   "execution_count": 33,
   "id": "c901a788-11aa-4250-9183-52129b9e3a4c",
   "metadata": {},
   "outputs": [
    {
     "name": "stdout",
     "output_type": "stream",
     "text": [
      "49\n"
     ]
    }
   ],
   "source": [
    "print(area)"
   ]
  },
  {
   "cell_type": "code",
   "execution_count": 34,
   "id": "dcf642fc-9d36-4df6-9206-c7ab80311552",
   "metadata": {},
   "outputs": [],
   "source": [
    "# A ordem e precedência dos operadores acompanha a lógica matemática.\n",
    "perimeter = (2 * width) + (2 * width)"
   ]
  },
  {
   "cell_type": "code",
   "execution_count": 35,
   "id": "5b232cbc-7b0d-4acc-b716-4f8b3f473bde",
   "metadata": {},
   "outputs": [
    {
     "name": "stdout",
     "output_type": "stream",
     "text": [
      "28\n"
     ]
    }
   ],
   "source": [
    "print(perimeter)"
   ]
  },
  {
   "cell_type": "code",
   "execution_count": 36,
   "id": "db30ec64-a854-47d0-a679-26f56efe2fe9",
   "metadata": {},
   "outputs": [
    {
     "data": {
      "text/plain": [
       "1.1666666666666667"
      ]
     },
     "execution_count": 36,
     "metadata": {},
     "output_type": "execute_result"
    }
   ],
   "source": [
    "# Todas as operaçôes podem ser aplicadas às variáveis.\n",
    "width / heigth"
   ]
  },
  {
   "cell_type": "code",
   "execution_count": 37,
   "id": "17907a4d-0e1b-4836-a40d-a75bcd1559fe",
   "metadata": {},
   "outputs": [
    {
     "data": {
      "text/plain": [
       "1"
      ]
     },
     "execution_count": 37,
     "metadata": {},
     "output_type": "execute_result"
    }
   ],
   "source": [
    "width // heigth"
   ]
  },
  {
   "cell_type": "code",
   "execution_count": 38,
   "id": "d151e990-acc4-4f6a-9790-2fbefac892e1",
   "metadata": {},
   "outputs": [
    {
     "data": {
      "text/plain": [
       "1"
      ]
     },
     "execution_count": 38,
     "metadata": {},
     "output_type": "execute_result"
    }
   ],
   "source": [
    "width % heigth"
   ]
  },
  {
   "cell_type": "markdown",
   "id": "bcff16be-dfb3-4a64-b631-1c2c6a151989",
   "metadata": {},
   "source": [
    "## Concatenação de Variáveis"
   ]
  },
  {
   "cell_type": "code",
   "execution_count": 39,
   "id": "161b4715-7646-415f-b47e-cc6b753a53ca",
   "metadata": {},
   "outputs": [],
   "source": [
    "name = 'Ford'"
   ]
  },
  {
   "cell_type": "code",
   "execution_count": 40,
   "id": "40393d2f-0a58-43d1-be52-6d9cb311e861",
   "metadata": {},
   "outputs": [],
   "source": [
    "surname = 'Prefect'"
   ]
  },
  {
   "cell_type": "code",
   "execution_count": 41,
   "id": "580e75e3-eb53-41dd-a06c-aa2d7d6e3855",
   "metadata": {},
   "outputs": [],
   "source": [
    "fullname = name + surname"
   ]
  },
  {
   "cell_type": "code",
   "execution_count": 42,
   "id": "1182c323-a92b-48fa-a170-ae61eb8752ac",
   "metadata": {},
   "outputs": [
    {
     "name": "stdout",
     "output_type": "stream",
     "text": [
      "FordPrefect\n"
     ]
    }
   ],
   "source": [
    "print(fullname)"
   ]
  },
  {
   "cell_type": "code",
   "execution_count": 43,
   "id": "f73f8bfa-c905-44c7-b228-56a88d67f812",
   "metadata": {},
   "outputs": [],
   "source": [
    "x_1 = 4"
   ]
  },
  {
   "cell_type": "code",
   "execution_count": 44,
   "id": "62570dc4-4356-4b7e-8e03-9063cdfd1e58",
   "metadata": {},
   "outputs": [],
   "source": [
    "x_2 = 2"
   ]
  },
  {
   "cell_type": "code",
   "execution_count": 45,
   "id": "bcdecdb2-54d3-4a7a-9ce9-099a718f0d4a",
   "metadata": {},
   "outputs": [],
   "source": [
    "double_x = x_2 + x_2"
   ]
  },
  {
   "cell_type": "code",
   "execution_count": 46,
   "id": "c1790b21-8d6b-42a0-8291-38119584745c",
   "metadata": {},
   "outputs": [
    {
     "ename": "NameError",
     "evalue": "name 'xx' is not defined",
     "output_type": "error",
     "traceback": [
      "\u001b[1;31m---------------------------------------------------------------------------\u001b[0m",
      "\u001b[1;31mNameError\u001b[0m                                 Traceback (most recent call last)",
      "Input \u001b[1;32mIn [46]\u001b[0m, in \u001b[0;36m<cell line: 1>\u001b[1;34m()\u001b[0m\n\u001b[1;32m----> 1\u001b[0m \u001b[38;5;28mprint\u001b[39m(\u001b[43mxx\u001b[49m)\n",
      "\u001b[1;31mNameError\u001b[0m: name 'xx' is not defined"
     ]
    }
   ],
   "source": [
    "print(xx)"
   ]
  },
  {
   "cell_type": "code",
   "execution_count": 47,
   "id": "68605558-3e50-4007-ba8f-ea317af5191c",
   "metadata": {},
   "outputs": [
    {
     "ename": "TypeError",
     "evalue": "can only concatenate str (not \"int\") to str",
     "output_type": "error",
     "traceback": [
      "\u001b[1;31m---------------------------------------------------------------------------\u001b[0m",
      "\u001b[1;31mTypeError\u001b[0m                                 Traceback (most recent call last)",
      "Input \u001b[1;32mIn [47]\u001b[0m, in \u001b[0;36m<cell line: 5>\u001b[1;34m()\u001b[0m\n\u001b[0;32m      1\u001b[0m \u001b[38;5;66;03m# Variáveis do tipo string não pode ser\u001b[39;00m\n\u001b[0;32m      2\u001b[0m \u001b[38;5;66;03m# concatenada com variáveis do tipo inteiro.\u001b[39;00m\n\u001b[0;32m      3\u001b[0m \n\u001b[0;32m      4\u001b[0m \u001b[38;5;66;03m# TypeError: can only concatenate str (not \"int\") to str.\u001b[39;00m\n\u001b[1;32m----> 5\u001b[0m nickname \u001b[38;5;241m=\u001b[39m \u001b[43mname\u001b[49m\u001b[43m \u001b[49m\u001b[38;5;241;43m+\u001b[39;49m\u001b[43m \u001b[49m\u001b[43mdouble_x\u001b[49m\n",
      "\u001b[1;31mTypeError\u001b[0m: can only concatenate str (not \"int\") to str"
     ]
    }
   ],
   "source": [
    "# Variáveis do tipo string não pode ser\n",
    "# concatenada com variáveis do tipo inteiro.\n",
    "\n",
    "# TypeError: can only concatenate str (not \"int\") to str.\n",
    "nickname = name + double_x"
   ]
  }
 ],
 "metadata": {
  "kernelspec": {
   "display_name": "Python 3 (ipykernel)",
   "language": "python",
   "name": "python3"
  },
  "language_info": {
   "codemirror_mode": {
    "name": "ipython",
    "version": 3
   },
   "file_extension": ".py",
   "mimetype": "text/x-python",
   "name": "python",
   "nbconvert_exporter": "python",
   "pygments_lexer": "ipython3",
   "version": "3.10.4"
  }
 },
 "nbformat": 4,
 "nbformat_minor": 5
}
