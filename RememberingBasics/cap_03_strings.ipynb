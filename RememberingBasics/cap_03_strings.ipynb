{
 "cells": [
  {
   "cell_type": "markdown",
   "id": "85e6e396-4741-4617-a5a4-b92aae01a72e",
   "metadata": {},
   "source": [
    "# Python – Relembrando os Fundamentos Básicos"
   ]
  },
  {
   "cell_type": "code",
   "execution_count": 1,
   "id": "a3847bd9-946b-4ddc-af3b-e40193f24663",
   "metadata": {},
   "outputs": [
    {
     "name": "stdout",
     "output_type": "stream",
     "text": [
      "Versão da Linguagem Python utilizada neste Jupyter Notebook: 3.10.4\n"
     ]
    }
   ],
   "source": [
    "# Versão da Linguagem Python\n",
    "from platform import python_version as _pv\n",
    "print(f'Versão da Linguagem Python utilizada neste Jupyter Notebook: {_pv()}')"
   ]
  },
  {
   "cell_type": "markdown",
   "id": "f963b4ff-98d7-4696-b4a4-aadd928f4c3b",
   "metadata": {},
   "source": [
    "## Strings"
   ]
  },
  {
   "cell_type": "markdown",
   "id": "1a0facff-1502-48fc-bd22-c970ddf4fd6f",
   "metadata": {},
   "source": [
    "Além de números, Python também pode manipular sequências de caracteres, que podem ser expressas de diversas formas. Elas podem ser delimitadas por aspas simples _('...')_ ou duplas _(\"...\")_ e teremos o mesmo resultado. _\\_ pode ser usada para escapar caracteres especiais."
   ]
  },
  {
   "cell_type": "code",
   "execution_count": 7,
   "id": "515f5a03-fa09-4d82-8215-9ef1f6f3c0d5",
   "metadata": {},
   "outputs": [
    {
     "data": {
      "text/plain": [
       "'hello world'"
      ]
     },
     "execution_count": 7,
     "metadata": {},
     "output_type": "execute_result"
    }
   ],
   "source": [
    "'hello world'    # single quotes"
   ]
  },
  {
   "cell_type": "code",
   "execution_count": 25,
   "id": "79827dbb-5194-4723-9856-df7752990e46",
   "metadata": {},
   "outputs": [
    {
     "data": {
      "text/plain": [
       "'spam eggs'"
      ]
     },
     "execution_count": 25,
     "metadata": {},
     "output_type": "execute_result"
    }
   ],
   "source": [
    "\"spam eggs\"    # double quotes"
   ]
  },
  {
   "cell_type": "code",
   "execution_count": null,
   "id": "5c21a7a0-4875-4b9d-bfe1-4e52ea9f7e1f",
   "metadata": {},
   "outputs": [],
   "source": [
    "'Isn\\'t, they said.'    # \\ pode ser usada para escapar aspas."
   ]
  },
  {
   "cell_type": "markdown",
   "id": "e290fbd9-dd2f-49f1-9ecb-33524c537423",
   "metadata": {},
   "source": [
    "Se não quiseres que os caracteres sejam precedidos por _\\_ para serem interpretados como caracteres especiais, poderás usar _strings raw_ adicionando um *r* antes da primeira aspa."
   ]
  },
  {
   "cell_type": "code",
   "execution_count": 61,
   "id": "2effce28-7483-4baa-804d-4f93f0579c5e",
   "metadata": {},
   "outputs": [
    {
     "name": "stdout",
     "output_type": "stream",
     "text": [
      "C:\\some\n",
      "ame\n"
     ]
    }
   ],
   "source": [
    "print('C:\\some\\name')    # here \\n means newline!"
   ]
  },
  {
   "cell_type": "code",
   "execution_count": 62,
   "id": "82336b38-5de3-4548-b95f-c1e61472f777",
   "metadata": {},
   "outputs": [
    {
     "name": "stdout",
     "output_type": "stream",
     "text": [
      "C:\\some\\name\n"
     ]
    }
   ],
   "source": [
    "print(r'C:\\some\\name')    # note the r before the quote"
   ]
  },
  {
   "cell_type": "code",
   "execution_count": 9,
   "id": "eed189da-0f21-47c4-b91f-f77b0d9de985",
   "metadata": {},
   "outputs": [
    {
     "data": {
      "text/plain": [
       "'\"Isn\\'t,\" they said.'"
      ]
     },
     "execution_count": 9,
     "metadata": {},
     "output_type": "execute_result"
    }
   ],
   "source": [
    "'\"Isn\\'t,\" they said.'    # aspas duplas dentro de aspas simples."
   ]
  },
  {
   "cell_type": "code",
   "execution_count": 10,
   "id": "f3c07988-6df3-41ec-8319-d3f02496c4f0",
   "metadata": {},
   "outputs": [
    {
     "data": {
      "text/plain": [
       "\"Isn't, they said.\""
      ]
     },
     "execution_count": 10,
     "metadata": {},
     "output_type": "execute_result"
    }
   ],
   "source": [
    "\"Isn't, they said.\"    # aspas simples dentro de aspas duplas."
   ]
  },
  {
   "cell_type": "markdown",
   "id": "9cfc4f06-a17b-4df4-bc06-3fd636886ed8",
   "metadata": {},
   "source": [
    "As strings literais podem abranger várias linhas. Uma maneira é usar as aspas triplas: _\"\"\"...\"\"\"_ ou _'''...'''_. O fim das linhas é incluído automaticamente na string, mas é possível evitar isso adicionando uma \\ no final. O seguinte exemplo:"
   ]
  },
  {
   "cell_type": "code",
   "execution_count": 16,
   "id": "1ad16c22-1b4e-45c7-9d8c-83e7aa899f32",
   "metadata": {},
   "outputs": [
    {
     "name": "stdout",
     "output_type": "stream",
     "text": [
      "Usage: thingy [OPTIONS]\n",
      "     -h                        Display this usage message\n",
      "     -H hostname               Hostname to connect to\n",
      "\n"
     ]
    }
   ],
   "source": [
    "print(\"\"\"\\\n",
    "Usage: thingy [OPTIONS]\n",
    "     -h                        Display this usage message\n",
    "     -H hostname               Hostname to connect to\n",
    "\"\"\")"
   ]
  },
  {
   "cell_type": "markdown",
   "id": "86cae992-e9be-400e-81bc-78bfd90f38a7",
   "metadata": {},
   "source": [
    "#### Concatenação de strings"
   ]
  },
  {
   "cell_type": "markdown",
   "id": "5898817b-1411-42af-9a1d-182575e7867b",
   "metadata": {},
   "source": [
    "Strings podem ser concatenadas (coladas) com o operador +, e repetidas com *:"
   ]
  },
  {
   "cell_type": "code",
   "execution_count": 17,
   "id": "12e0d206-97bb-474c-bd53-db1086ed7291",
   "metadata": {},
   "outputs": [
    {
     "data": {
      "text/plain": [
       "'spameggs'"
      ]
     },
     "execution_count": 17,
     "metadata": {},
     "output_type": "execute_result"
    }
   ],
   "source": [
    "'spam' + 'eggs'"
   ]
  },
  {
   "cell_type": "code",
   "execution_count": 20,
   "id": "cb6baa83-5850-4468-ba27-e86ed51b609e",
   "metadata": {},
   "outputs": [
    {
     "data": {
      "text/plain": [
       "'spamspamspamspamspam'"
      ]
     },
     "execution_count": 20,
     "metadata": {},
     "output_type": "execute_result"
    }
   ],
   "source": [
    "'spam' * 5"
   ]
  },
  {
   "cell_type": "markdown",
   "id": "6ef7b07d-759f-4194-9486-a9420b012e63",
   "metadata": {},
   "source": [
    "Duas ou mais strings literais (ou seja, entre aspas) ao lado da outra são automaticamente concatenados."
   ]
  },
  {
   "cell_type": "code",
   "execution_count": 22,
   "id": "adaf1478-1a9d-4777-8efa-b441943cd062",
   "metadata": {},
   "outputs": [
    {
     "data": {
      "text/plain": [
       "'Python'"
      ]
     },
     "execution_count": 22,
     "metadata": {},
     "output_type": "execute_result"
    }
   ],
   "source": [
    "'Py' \"thon\""
   ]
  },
  {
   "cell_type": "markdown",
   "id": "b2f47b65-b61e-4bd0-b7c4-5c1a6eb67c68",
   "metadata": {},
   "source": [
    "Esse recurso é particularmente útil quando você quer quebrar strings longas:"
   ]
  },
  {
   "cell_type": "code",
   "execution_count": 23,
   "id": "fd7ad90e-985b-472e-834d-6f2ec246e85c",
   "metadata": {},
   "outputs": [],
   "source": [
    "text = ('Put several strings within parentheses '\n",
    "        'to have them joined together.')"
   ]
  },
  {
   "cell_type": "code",
   "execution_count": 24,
   "id": "472c8ace-7896-40e2-96e4-7d6b3fd53389",
   "metadata": {},
   "outputs": [
    {
     "name": "stdout",
     "output_type": "stream",
     "text": [
      "Put several strings within parentheses to have them joined together.\n"
     ]
    }
   ],
   "source": [
    "print(text)"
   ]
  },
  {
   "cell_type": "markdown",
   "id": "cba9f692-e9e7-45dd-8d24-375c37afedb7",
   "metadata": {},
   "source": [
    "#### Indexando Strings"
   ]
  },
  {
   "cell_type": "code",
   "execution_count": 26,
   "id": "473b6e8f-eaf8-43af-8fcd-6d72110388ec",
   "metadata": {},
   "outputs": [],
   "source": [
    "my_str = 'Python'"
   ]
  },
  {
   "cell_type": "markdown",
   "id": "c22bb4ef-1e24-41cc-aba1-cc271712538c",
   "metadata": {},
   "source": [
    "```\n",
    " +---+---+---+---+---+---+\n",
    " | P | y | t | h | o | n |\n",
    " +---+---+---+---+---+---+\n",
    " 0   1   2   3   4   5   6\n",
    "-6  -5  -4  -3  -2  -1\n",
    "```"
   ]
  },
  {
   "cell_type": "code",
   "execution_count": 27,
   "id": "14ade975-a3ed-40c3-9d27-e6d31ca9b993",
   "metadata": {},
   "outputs": [
    {
     "data": {
      "text/plain": [
       "'P'"
      ]
     },
     "execution_count": 27,
     "metadata": {},
     "output_type": "execute_result"
    }
   ],
   "source": [
    "my_str[0]    # character in position 0"
   ]
  },
  {
   "cell_type": "code",
   "execution_count": 28,
   "id": "f2ff4348-931b-46e7-908c-04bab0099af6",
   "metadata": {},
   "outputs": [
    {
     "data": {
      "text/plain": [
       "'y'"
      ]
     },
     "execution_count": 28,
     "metadata": {},
     "output_type": "execute_result"
    }
   ],
   "source": [
    "my_str[1]    # character in position 1"
   ]
  },
  {
   "cell_type": "code",
   "execution_count": 29,
   "id": "5888168a-a34b-461f-9c9f-2ff2dcf9a521",
   "metadata": {},
   "outputs": [
    {
     "data": {
      "text/plain": [
       "'t'"
      ]
     },
     "execution_count": 29,
     "metadata": {},
     "output_type": "execute_result"
    }
   ],
   "source": [
    "my_str[2]    # character in position 2"
   ]
  },
  {
   "cell_type": "code",
   "execution_count": 30,
   "id": "0ef99eda-5d07-4643-b493-5d184f31bba3",
   "metadata": {},
   "outputs": [
    {
     "data": {
      "text/plain": [
       "'h'"
      ]
     },
     "execution_count": 30,
     "metadata": {},
     "output_type": "execute_result"
    }
   ],
   "source": [
    "my_str[3]    # character in position 3"
   ]
  },
  {
   "cell_type": "code",
   "execution_count": 31,
   "id": "fe6618bf-0b68-453a-9f4d-5d5aeffc5394",
   "metadata": {},
   "outputs": [
    {
     "data": {
      "text/plain": [
       "'o'"
      ]
     },
     "execution_count": 31,
     "metadata": {},
     "output_type": "execute_result"
    }
   ],
   "source": [
    "my_str[4]    # character in position 4"
   ]
  },
  {
   "cell_type": "code",
   "execution_count": 32,
   "id": "0e3255ee-a998-4cde-8cbc-bd288a8d54ff",
   "metadata": {},
   "outputs": [
    {
     "data": {
      "text/plain": [
       "'n'"
      ]
     },
     "execution_count": 32,
     "metadata": {},
     "output_type": "execute_result"
    }
   ],
   "source": [
    "my_str[5]    # character in position 5"
   ]
  },
  {
   "cell_type": "code",
   "execution_count": 34,
   "id": "ef5ce726-2c36-4439-a54b-a49078fcd8e5",
   "metadata": {},
   "outputs": [
    {
     "ename": "IndexError",
     "evalue": "string index out of range",
     "output_type": "error",
     "traceback": [
      "\u001b[1;31m---------------------------------------------------------------------------\u001b[0m",
      "\u001b[1;31mIndexError\u001b[0m                                Traceback (most recent call last)",
      "Input \u001b[1;32mIn [34]\u001b[0m, in \u001b[0;36m<cell line: 2>\u001b[1;34m()\u001b[0m\n\u001b[0;32m      1\u001b[0m \u001b[38;5;66;03m# IndexError: string index out of range.\u001b[39;00m\n\u001b[1;32m----> 2\u001b[0m \u001b[43mmy_str\u001b[49m\u001b[43m[\u001b[49m\u001b[38;5;241;43m6\u001b[39;49m\u001b[43m]\u001b[49m\n",
      "\u001b[1;31mIndexError\u001b[0m: string index out of range"
     ]
    }
   ],
   "source": [
    "# IndexError: string index out of range.\n",
    "my_str[6]"
   ]
  },
  {
   "cell_type": "code",
   "execution_count": 35,
   "id": "59e60aea-d9e6-44e4-9aad-3d2f978bac6a",
   "metadata": {},
   "outputs": [
    {
     "data": {
      "text/plain": [
       "'n'"
      ]
     },
     "execution_count": 35,
     "metadata": {},
     "output_type": "execute_result"
    }
   ],
   "source": [
    "my_str[-1]    # last character"
   ]
  },
  {
   "cell_type": "code",
   "execution_count": 36,
   "id": "77019110-b1c2-4499-b134-9ce80ae77a56",
   "metadata": {},
   "outputs": [
    {
     "data": {
      "text/plain": [
       "'o'"
      ]
     },
     "execution_count": 36,
     "metadata": {},
     "output_type": "execute_result"
    }
   ],
   "source": [
    "my_str[-2]    # second-last character"
   ]
  },
  {
   "cell_type": "markdown",
   "id": "d9c0122b-2e0b-44f1-83e1-17539157ab70",
   "metadata": {},
   "source": [
    "Note que dado que -0 é o mesmo que 0, índices negativos começam em -1."
   ]
  },
  {
   "cell_type": "markdown",
   "id": "b46b72cb-8189-4684-aa34-dca9a962e784",
   "metadata": {},
   "source": [
    "word[42]  # the word only has 6 charactersA tentativa de usar um índice que seja muito grande resultará em um erro:"
   ]
  },
  {
   "cell_type": "code",
   "execution_count": 48,
   "id": "7cf55328-afce-474c-bae4-8397b93e2925",
   "metadata": {},
   "outputs": [
    {
     "ename": "IndexError",
     "evalue": "string index out of range",
     "output_type": "error",
     "traceback": [
      "\u001b[1;31m---------------------------------------------------------------------------\u001b[0m",
      "\u001b[1;31mIndexError\u001b[0m                                Traceback (most recent call last)",
      "Input \u001b[1;32mIn [48]\u001b[0m, in \u001b[0;36m<cell line: 2>\u001b[1;34m()\u001b[0m\n\u001b[0;32m      1\u001b[0m \u001b[38;5;66;03m# IndexError: string index out of range.\u001b[39;00m\n\u001b[1;32m----> 2\u001b[0m \u001b[43mmy_str\u001b[49m\u001b[43m[\u001b[49m\u001b[38;5;241;43m42\u001b[39;49m\u001b[43m]\u001b[49m\n",
      "\u001b[1;31mIndexError\u001b[0m: string index out of range"
     ]
    }
   ],
   "source": [
    "# IndexError: string index out of range.\n",
    "my_str[42]    # the word only has 6 characters"
   ]
  },
  {
   "cell_type": "markdown",
   "id": "123d31e8-6fce-45b6-a54e-e1315b25415a",
   "metadata": {},
   "source": [
    "#### Slicing "
   ]
  },
  {
   "cell_type": "code",
   "execution_count": 37,
   "id": "bf480cd7-b80f-4b91-94be-34eae867e559",
   "metadata": {},
   "outputs": [
    {
     "data": {
      "text/plain": [
       "'Py'"
      ]
     },
     "execution_count": 37,
     "metadata": {},
     "output_type": "execute_result"
    }
   ],
   "source": [
    "my_str[0:2]    # characters from position 0 (included) to 2 (excluded)"
   ]
  },
  {
   "cell_type": "code",
   "execution_count": 38,
   "id": "1fdcc63e-db9e-4003-bd34-d3494045852d",
   "metadata": {},
   "outputs": [
    {
     "data": {
      "text/plain": [
       "'tho'"
      ]
     },
     "execution_count": 38,
     "metadata": {},
     "output_type": "execute_result"
    }
   ],
   "source": [
    "my_str[2:5]  # characters from position 2 (included) to 5 (excluded)"
   ]
  },
  {
   "cell_type": "markdown",
   "id": "1ee447a7-28ab-44f0-87ad-9ee0fd21ca0d",
   "metadata": {},
   "source": [
    "Os índices do fatiamento possuem padrões úteis; um primeiro índice omitido padrão é zero, um segundo índice omitido é por padrão o tamanho da string sendo fatiada:"
   ]
  },
  {
   "cell_type": "code",
   "execution_count": 41,
   "id": "eb51c391-1b4f-4897-8fca-e46779f351a2",
   "metadata": {},
   "outputs": [
    {
     "data": {
      "text/plain": [
       "'Py'"
      ]
     },
     "execution_count": 41,
     "metadata": {},
     "output_type": "execute_result"
    }
   ],
   "source": [
    "my_str[:2]    # character from the beginning to position 2 (excluded)"
   ]
  },
  {
   "cell_type": "code",
   "execution_count": 40,
   "id": "c667873b-78ca-4dfd-bf1b-fcad623d0bcd",
   "metadata": {},
   "outputs": [
    {
     "data": {
      "text/plain": [
       "'on'"
      ]
     },
     "execution_count": 40,
     "metadata": {},
     "output_type": "execute_result"
    }
   ],
   "source": [
    "my_str[4:]    # characters from position 4 (included) to the end"
   ]
  },
  {
   "cell_type": "code",
   "execution_count": 39,
   "id": "03122c1b-3e18-4825-928e-f694f3102bec",
   "metadata": {},
   "outputs": [
    {
     "data": {
      "text/plain": [
       "'on'"
      ]
     },
     "execution_count": 39,
     "metadata": {},
     "output_type": "execute_result"
    }
   ],
   "source": [
    "my_str[-2:]    # characters from the second-last (included) to the end"
   ]
  },
  {
   "cell_type": "markdown",
   "id": "e9c4c815-38f6-4935-b7f6-051095611e87",
   "metadata": {},
   "source": [
    "Observe como o início sempre está incluído, e o fim sempre é excluído. Isso garante que str[:i] + str[i:] seja sempre igual a str:"
   ]
  },
  {
   "cell_type": "code",
   "execution_count": 43,
   "id": "4e7e138f-50bd-4101-a44e-5ab73e0271f0",
   "metadata": {},
   "outputs": [
    {
     "data": {
      "text/plain": [
       "'Python'"
      ]
     },
     "execution_count": 43,
     "metadata": {},
     "output_type": "execute_result"
    }
   ],
   "source": [
    "my_str[:2] + my_str[2:]"
   ]
  },
  {
   "cell_type": "code",
   "execution_count": 46,
   "id": "54cd744f-3b98-4c62-b6ee-2d6800f968c3",
   "metadata": {},
   "outputs": [
    {
     "data": {
      "text/plain": [
       "'Python'"
      ]
     },
     "execution_count": 46,
     "metadata": {},
     "output_type": "execute_result"
    }
   ],
   "source": [
    "my_str[:4] + my_str[4:]"
   ]
  },
  {
   "cell_type": "markdown",
   "id": "42eb46b9-1d44-44e6-af2e-251353b91274",
   "metadata": {},
   "source": [
    "Indices de fatiamento fora do alcance são tratados com robustez."
   ]
  },
  {
   "cell_type": "code",
   "execution_count": 49,
   "id": "c1276587-3a08-4e75-b9cf-110514c11845",
   "metadata": {},
   "outputs": [
    {
     "data": {
      "text/plain": [
       "'on'"
      ]
     },
     "execution_count": 49,
     "metadata": {},
     "output_type": "execute_result"
    }
   ],
   "source": [
    "my_str[4:42]"
   ]
  },
  {
   "cell_type": "code",
   "execution_count": 50,
   "id": "af7832a0-d1da-458a-a5b3-6cfea5513ef2",
   "metadata": {},
   "outputs": [
    {
     "data": {
      "text/plain": [
       "''"
      ]
     },
     "execution_count": 50,
     "metadata": {},
     "output_type": "execute_result"
    }
   ],
   "source": [
    "my_str[42:]"
   ]
  },
  {
   "cell_type": "markdown",
   "id": "cdf87ab0-f990-417f-903d-056241bf9f79",
   "metadata": {},
   "source": [
    "Podemos usar a notação de índice e fatiar a string em pedaços específicos (o padrão é 1)."
   ]
  },
  {
   "cell_type": "code",
   "execution_count": 64,
   "id": "0651dea5-160c-4c9f-a32f-a598813e887c",
   "metadata": {},
   "outputs": [
    {
     "data": {
      "text/plain": [
       "'Python'"
      ]
     },
     "execution_count": 64,
     "metadata": {},
     "output_type": "execute_result"
    }
   ],
   "source": [
    "my_str[::1]"
   ]
  },
  {
   "cell_type": "code",
   "execution_count": 67,
   "id": "e3ead381-c5d1-4523-b57c-62dd48c94306",
   "metadata": {},
   "outputs": [
    {
     "data": {
      "text/plain": [
       "'Pto'"
      ]
     },
     "execution_count": 67,
     "metadata": {},
     "output_type": "execute_result"
    }
   ],
   "source": [
    "my_str[::2]"
   ]
  },
  {
   "cell_type": "code",
   "execution_count": 70,
   "id": "1e5a1ad3-4d3e-4896-946e-d7550fc0d737",
   "metadata": {},
   "outputs": [
    {
     "data": {
      "text/plain": [
       "'nohtyP'"
      ]
     },
     "execution_count": 70,
     "metadata": {},
     "output_type": "execute_result"
    }
   ],
   "source": [
    "my_str[::-1]    # reverse a string"
   ]
  },
  {
   "cell_type": "markdown",
   "id": "9378bbb1-fb33-4e53-b28b-5968049c0059",
   "metadata": {},
   "source": [
    "#### Propriedades de Strings"
   ]
  },
  {
   "cell_type": "markdown",
   "id": "520586a2-a6c6-4eff-8ae5-ac6ef279db68",
   "metadata": {},
   "source": [
    "As strings do Python não podem ser alteradas - *uma string é imutável*. Portanto, atribuir a uma posição indexada na sequência resulta em um erro:"
   ]
  },
  {
   "cell_type": "code",
   "execution_count": 52,
   "id": "cc700b35-ac4a-4f48-bfbd-a1f37d0be811",
   "metadata": {},
   "outputs": [
    {
     "ename": "TypeError",
     "evalue": "'str' object does not support item assignment",
     "output_type": "error",
     "traceback": [
      "\u001b[1;31m---------------------------------------------------------------------------\u001b[0m",
      "\u001b[1;31mTypeError\u001b[0m                                 Traceback (most recent call last)",
      "Input \u001b[1;32mIn [52]\u001b[0m, in \u001b[0;36m<cell line: 1>\u001b[1;34m()\u001b[0m\n\u001b[1;32m----> 1\u001b[0m my_str[\u001b[38;5;241m1\u001b[39m] \u001b[38;5;241m=\u001b[39m \u001b[38;5;124m'\u001b[39m\u001b[38;5;124mi\u001b[39m\u001b[38;5;124m'\u001b[39m\n",
      "\u001b[1;31mTypeError\u001b[0m: 'str' object does not support item assignment"
     ]
    }
   ],
   "source": [
    "# TypeError: 'str' object does not support item assignment\n",
    "my_str[1] = 'i'"
   ]
  },
  {
   "cell_type": "code",
   "execution_count": 55,
   "id": "43151387-9938-40c9-920c-ea648826866d",
   "metadata": {},
   "outputs": [
    {
     "ename": "TypeError",
     "evalue": "'str' object does not support item assignment",
     "output_type": "error",
     "traceback": [
      "\u001b[1;31m---------------------------------------------------------------------------\u001b[0m",
      "\u001b[1;31mTypeError\u001b[0m                                 Traceback (most recent call last)",
      "Input \u001b[1;32mIn [55]\u001b[0m, in \u001b[0;36m<cell line: 2>\u001b[1;34m()\u001b[0m\n\u001b[0;32m      1\u001b[0m \u001b[38;5;66;03m# TypeError: 'str' object does not support item assignment\u001b[39;00m\n\u001b[1;32m----> 2\u001b[0m my_str[:\u001b[38;5;241m2\u001b[39m] \u001b[38;5;241m=\u001b[39m \u001b[38;5;124m'\u001b[39m\u001b[38;5;124mpy\u001b[39m\u001b[38;5;124m'\u001b[39m\n",
      "\u001b[1;31mTypeError\u001b[0m: 'str' object does not support item assignment"
     ]
    }
   ],
   "source": [
    "# TypeError: 'str' object does not support item assignment\n",
    "my_str[:2] = 'py'"
   ]
  },
  {
   "cell_type": "markdown",
   "id": "2bd15692-4cc8-48d1-baf9-0fd421334a23",
   "metadata": {},
   "source": [
    "Se você precisar de uma string diferente, deverá criar uma nova:"
   ]
  },
  {
   "cell_type": "code",
   "execution_count": 56,
   "id": "19815596-167c-4591-a734-ef056dbc631b",
   "metadata": {},
   "outputs": [],
   "source": [
    "my_str_02 = my_str[:2]"
   ]
  },
  {
   "cell_type": "code",
   "execution_count": 57,
   "id": "83194661-52a9-4d87-9b63-d71bd2a456d9",
   "metadata": {},
   "outputs": [
    {
     "name": "stdout",
     "output_type": "stream",
     "text": [
      "Py\n"
     ]
    }
   ],
   "source": [
    "print(my_str_02)"
   ]
  },
  {
   "cell_type": "markdown",
   "id": "fde45e3f-9a06-45d0-a1f8-ec955df97048",
   "metadata": {},
   "source": [
    "### Função len"
   ]
  },
  {
   "cell_type": "code",
   "execution_count": 58,
   "id": "ac7b5926-983e-495c-ab7f-7f9ae073850f",
   "metadata": {},
   "outputs": [
    {
     "data": {
      "text/plain": [
       "6"
      ]
     },
     "execution_count": 58,
     "metadata": {},
     "output_type": "execute_result"
    }
   ],
   "source": [
    "# Return the number of items in a container.\n",
    "len(my_str)"
   ]
  },
  {
   "cell_type": "code",
   "execution_count": 59,
   "id": "234b81a4-f09d-40b2-9aa7-cf635bf36356",
   "metadata": {},
   "outputs": [
    {
     "data": {
      "text/plain": [
       "68"
      ]
     },
     "execution_count": 59,
     "metadata": {},
     "output_type": "execute_result"
    }
   ],
   "source": [
    "len(text)"
   ]
  },
  {
   "cell_type": "markdown",
   "id": "cfedddb7-0eb2-49fd-a990-615f36e63e73",
   "metadata": {},
   "source": [
    "#### Principais funções aplicadas as Strings"
   ]
  },
  {
   "cell_type": "code",
   "execution_count": 71,
   "id": "d3dc897d-297a-4c5e-a086-8b5dc69adb89",
   "metadata": {},
   "outputs": [],
   "source": [
    "my_text = 'So Long, and Thanks for All the Fish.'"
   ]
  },
  {
   "cell_type": "code",
   "execution_count": 74,
   "id": "9a755afb-fd32-46c8-b905-1d659f2e1844",
   "metadata": {},
   "outputs": [
    {
     "data": {
      "text/plain": [
       "'SO LONG, AND THANKS FOR ALL THE FISH.'"
      ]
     },
     "execution_count": 74,
     "metadata": {},
     "output_type": "execute_result"
    }
   ],
   "source": [
    "# Return a copy of the string converted to uppercase.\n",
    "my_text.upper()"
   ]
  },
  {
   "cell_type": "code",
   "execution_count": 78,
   "id": "6f7194f1-b8ec-431b-9f53-b777d4f9cf8a",
   "metadata": {},
   "outputs": [
    {
     "data": {
      "text/plain": [
       "'so long, and thanks for all the fish.'"
      ]
     },
     "execution_count": 78,
     "metadata": {},
     "output_type": "execute_result"
    }
   ],
   "source": [
    "# Return a copy of the string converted to lowercase.\n",
    "my_text.lower()"
   ]
  },
  {
   "cell_type": "code",
   "execution_count": 81,
   "id": "733843e7-95b8-4f5e-a4b8-241133ea024e",
   "metadata": {},
   "outputs": [
    {
     "data": {
      "text/plain": [
       "['So', 'Long,', 'and', 'Thanks', 'for', 'All', 'the', 'Fish.']"
      ]
     },
     "execution_count": 81,
     "metadata": {},
     "output_type": "execute_result"
    }
   ],
   "source": [
    "#  Return a list of the words in the string, using sep as the delimiter string.\n",
    "my_text.split()"
   ]
  },
  {
   "cell_type": "code",
   "execution_count": 82,
   "id": "a292f5d3-be43-4db7-ad6f-353c672db74d",
   "metadata": {},
   "outputs": [
    {
     "data": {
      "text/plain": [
       "['So Long, ', 'nd Th', 'nks for All the Fish.']"
      ]
     },
     "execution_count": 82,
     "metadata": {},
     "output_type": "execute_result"
    }
   ],
   "source": [
    "my_text.split('a')"
   ]
  },
  {
   "cell_type": "code",
   "execution_count": 86,
   "id": "4c62c4c5-25df-438a-9bc3-6b2a0007045d",
   "metadata": {},
   "outputs": [
    {
     "data": {
      "text/plain": [
       "'So long, and thanks for all the fish.'"
      ]
     },
     "execution_count": 86,
     "metadata": {},
     "output_type": "execute_result"
    }
   ],
   "source": [
    "# Return a capitalized version of the string.\n",
    "my_text.capitalize()"
   ]
  },
  {
   "cell_type": "code",
   "execution_count": 89,
   "id": "5fb40701-5846-4f1c-a96e-28455b1d7e6b",
   "metadata": {},
   "outputs": [
    {
     "data": {
      "text/plain": [
       "3"
      ]
     },
     "execution_count": 89,
     "metadata": {},
     "output_type": "execute_result"
    }
   ],
   "source": [
    "# Return the number of non-overlapping occurrences of substring sub in string.\n",
    "my_text.count('n')"
   ]
  },
  {
   "cell_type": "code",
   "execution_count": 91,
   "id": "2be5195f-040a-427f-b6d3-5673fe4bf1a4",
   "metadata": {},
   "outputs": [
    {
     "data": {
      "text/plain": [
       "-1"
      ]
     },
     "execution_count": 91,
     "metadata": {},
     "output_type": "execute_result"
    }
   ],
   "source": [
    "# Return the lowest index in str where substring sub is found.\n",
    "my_str.find('g')"
   ]
  },
  {
   "cell_type": "markdown",
   "id": "ac663db7-c3bd-4f42-bc49-df87799661e6",
   "metadata": {},
   "source": [
    "### Comparando Srings"
   ]
  },
  {
   "cell_type": "code",
   "execution_count": 92,
   "id": "9e237a25-6c69-494d-9146-47cf1727d0ac",
   "metadata": {},
   "outputs": [
    {
     "name": "stdout",
     "output_type": "stream",
     "text": [
      "False\n"
     ]
    }
   ],
   "source": [
    "print('Python' == 'python')"
   ]
  },
  {
   "cell_type": "code",
   "execution_count": 93,
   "id": "04c13c9c-4abd-4991-89ec-049cb89a1d32",
   "metadata": {},
   "outputs": [
    {
     "name": "stdout",
     "output_type": "stream",
     "text": [
      "True\n"
     ]
    }
   ],
   "source": [
    "print('Python' == 'Python')"
   ]
  }
 ],
 "metadata": {
  "kernelspec": {
   "display_name": "Python 3 (ipykernel)",
   "language": "python",
   "name": "python3"
  },
  "language_info": {
   "codemirror_mode": {
    "name": "ipython",
    "version": 3
   },
   "file_extension": ".py",
   "mimetype": "text/x-python",
   "name": "python",
   "nbconvert_exporter": "python",
   "pygments_lexer": "ipython3",
   "version": "3.10.4"
  }
 },
 "nbformat": 4,
 "nbformat_minor": 5
}
