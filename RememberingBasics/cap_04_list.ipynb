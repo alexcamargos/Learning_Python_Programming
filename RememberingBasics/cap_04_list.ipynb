{
 "cells": [
  {
   "cell_type": "markdown",
   "id": "87d2f1ea-2915-4646-9530-2a4fcbbf24e3",
   "metadata": {},
   "source": [
    "# Python – Relembrando os Fundamentos Básicos"
   ]
  },
  {
   "cell_type": "code",
   "execution_count": 2,
   "id": "db203e70-b63b-417b-96ad-cdf3f7e76d0d",
   "metadata": {},
   "outputs": [
    {
     "name": "stdout",
     "output_type": "stream",
     "text": [
      "Versão da Linguagem Python utilizada neste Jupyter Notebook: 3.10.4\n"
     ]
    }
   ],
   "source": [
    "# Versão da Linguagem Python\n",
    "from platform import python_version as _pv\n",
    "print(f'Versão da Linguagem Python utilizada neste Jupyter Notebook: {_pv()}')"
   ]
  },
  {
   "cell_type": "markdown",
   "id": "d79fd4bd-c166-4064-8a2d-2fbed02d0c59",
   "metadata": {},
   "source": [
    "## Listas"
   ]
  },
  {
   "cell_type": "markdown",
   "id": "fe2054d9-30eb-49f8-911b-fb1cbff5dac0",
   "metadata": {},
   "source": [
    "Python inclui diversas estruturas de dados compostas, usadas para agrupar outros valores. A mais versátil é _list (lista)_, que pode ser escrita como uma lista de valores (itens) separados por vírgula, entre colchetes. Os valores contidos na lista não precisam ser todos do mesmo tipo."
   ]
  },
  {
   "cell_type": "code",
   "execution_count": 19,
   "id": "31ce75a1-283e-4a75-9f1f-577ff9b64378",
   "metadata": {},
   "outputs": [],
   "source": [
    "# Criando uma lista vazia\n",
    "my_list = []"
   ]
  },
  {
   "cell_type": "code",
   "execution_count": 20,
   "id": "a24c1f73-8f7d-4b12-9d0f-723864b4af2f",
   "metadata": {},
   "outputs": [
    {
     "name": "stdout",
     "output_type": "stream",
     "text": [
      "[]\n"
     ]
    }
   ],
   "source": [
    "print(my_list)"
   ]
  },
  {
   "cell_type": "code",
   "execution_count": 21,
   "id": "3e7dde4e-b8fd-4367-bc14-12e73530e532",
   "metadata": {},
   "outputs": [
    {
     "data": {
      "text/plain": [
       "0"
      ]
     },
     "execution_count": 21,
     "metadata": {},
     "output_type": "execute_result"
    }
   ],
   "source": [
    "len(my_list)"
   ]
  },
  {
   "cell_type": "code",
   "execution_count": 22,
   "id": "29ba836d-c450-4bee-8034-c29004978e83",
   "metadata": {},
   "outputs": [
    {
     "data": {
      "text/plain": [
       "list"
      ]
     },
     "execution_count": 22,
     "metadata": {},
     "output_type": "execute_result"
    }
   ],
   "source": [
    "type(my_list)"
   ]
  },
  {
   "cell_type": "code",
   "execution_count": 3,
   "id": "3e198fe9-4cf3-47ff-8b70-92c5e5a02b12",
   "metadata": {},
   "outputs": [],
   "source": [
    "hitchhiker = ['Arthur Dent', 'Zaphod Beeblebrox', 'Ford Prefect', 'Marvin The Paranoid Android', 'Trillian', 'Slartibartfast']"
   ]
  },
  {
   "cell_type": "code",
   "execution_count": 4,
   "id": "2f1f0b6e-5b9e-4f75-8f8c-4627dc0393b0",
   "metadata": {},
   "outputs": [
    {
     "name": "stdout",
     "output_type": "stream",
     "text": [
      "['Arthur Dent', 'Zaphod Beeblebrox', 'Ford Prefect', 'Marvin The Paranoid Android', 'Trillian', 'Slartibartfast']\n"
     ]
    }
   ],
   "source": [
    "print( hitchhiker)"
   ]
  },
  {
   "cell_type": "code",
   "execution_count": 5,
   "id": "d4c0ddda-2483-48ce-b0ec-dc568751f819",
   "metadata": {},
   "outputs": [
    {
     "data": {
      "text/plain": [
       "6"
      ]
     },
     "execution_count": 5,
     "metadata": {},
     "output_type": "execute_result"
    }
   ],
   "source": [
    "len(hitchhiker)"
   ]
  },
  {
   "cell_type": "code",
   "execution_count": 6,
   "id": "21411a42-6c4b-4ba2-8709-53f253f3e606",
   "metadata": {},
   "outputs": [
    {
     "data": {
      "text/plain": [
       "'Arthur Dent'"
      ]
     },
     "execution_count": 6,
     "metadata": {},
     "output_type": "execute_result"
    }
   ],
   "source": [
    "hitchhiker[0]    # indexing returns the item"
   ]
  },
  {
   "cell_type": "code",
   "execution_count": 7,
   "id": "e170e840-bed3-4ebf-b01d-18a07589f3a6",
   "metadata": {},
   "outputs": [
    {
     "data": {
      "text/plain": [
       "'Slartibartfast'"
      ]
     },
     "execution_count": 7,
     "metadata": {},
     "output_type": "execute_result"
    }
   ],
   "source": [
    "hitchhiker[-1]"
   ]
  },
  {
   "cell_type": "code",
   "execution_count": 8,
   "id": "cd20834d-35e7-461a-add7-6be0ce90f925",
   "metadata": {},
   "outputs": [
    {
     "data": {
      "text/plain": [
       "['Marvin The Paranoid Android', 'Trillian', 'Slartibartfast']"
      ]
     },
     "execution_count": 8,
     "metadata": {},
     "output_type": "execute_result"
    }
   ],
   "source": [
    "hitchhiker[-3:]    # slicing returns a new list"
   ]
  },
  {
   "cell_type": "markdown",
   "id": "e425de98-23fd-4e47-9aba-c593a0e3ba8d",
   "metadata": {},
   "source": [
    "Todas as operações de fatiamento devolvem uma nova lista contendo os elementos solicitados. Isso significa que o seguinte fatiamento devolve uma cópia rasa da lista."
   ]
  },
  {
   "cell_type": "code",
   "execution_count": 9,
   "id": "af028445-cd77-4687-b483-0a46aebf510a",
   "metadata": {},
   "outputs": [
    {
     "data": {
      "text/plain": [
       "['Arthur Dent',\n",
       " 'Zaphod Beeblebrox',\n",
       " 'Ford Prefect',\n",
       " 'Marvin The Paranoid Android',\n",
       " 'Trillian',\n",
       " 'Slartibartfast']"
      ]
     },
     "execution_count": 9,
     "metadata": {},
     "output_type": "execute_result"
    }
   ],
   "source": [
    "hitchhiker[:]"
   ]
  },
  {
   "cell_type": "markdown",
   "id": "4c52b62d-7ed5-4c23-9bf3-b0c80bdba5fe",
   "metadata": {},
   "source": [
    "As listas também suportam operações como concatenação."
   ]
  },
  {
   "cell_type": "code",
   "execution_count": 11,
   "id": "aa8e022a-0eec-423d-a184-f7f4143d3b01",
   "metadata": {},
   "outputs": [
    {
     "data": {
      "text/plain": [
       "['Arthur Dent',\n",
       " 'Zaphod Beeblebrox',\n",
       " 'Ford Prefect',\n",
       " 'Marvin The Paranoid Android',\n",
       " 'Trillian',\n",
       " 'Slartibartfast',\n",
       " 'Douglas Adams']"
      ]
     },
     "execution_count": 11,
     "metadata": {},
     "output_type": "execute_result"
    }
   ],
   "source": [
    "hitchhiker + ['Douglas Adams']"
   ]
  },
  {
   "cell_type": "markdown",
   "id": "6d42f499-bc2b-4483-9736-c059d49176b5",
   "metadata": {},
   "source": [
    "Diferentemente de strings, que são imutáveis, listas são mutáveis, ou seja, é possível alterar elementos individuais de uma lista."
   ]
  },
  {
   "cell_type": "code",
   "execution_count": 15,
   "id": "143a1b94-8337-45cd-bae9-795c80bf19e0",
   "metadata": {},
   "outputs": [],
   "source": [
    "hitchhiker[3] = 'Marvin'"
   ]
  },
  {
   "cell_type": "code",
   "execution_count": 16,
   "id": "cc7395da-51b2-4b2a-b372-2ba714ed6a53",
   "metadata": {},
   "outputs": [
    {
     "data": {
      "text/plain": [
       "['Arthur Dent',\n",
       " 'Zaphod Beeblebrox',\n",
       " 'Ford Prefect',\n",
       " 'Marvin',\n",
       " 'Trillian',\n",
       " 'Slartibartfast']"
      ]
     },
     "execution_count": 16,
     "metadata": {},
     "output_type": "execute_result"
    }
   ],
   "source": [
    "hitchhiker"
   ]
  },
  {
   "cell_type": "code",
   "execution_count": 17,
   "id": "7aa026b8-f608-4cd9-b50d-f18f014f9296",
   "metadata": {},
   "outputs": [],
   "source": [
    "del hitchhiker[0]"
   ]
  },
  {
   "cell_type": "code",
   "execution_count": 18,
   "id": "3f492d9b-dca4-4af8-a50d-e4ca99fc0c19",
   "metadata": {},
   "outputs": [
    {
     "data": {
      "text/plain": [
       "['Zaphod Beeblebrox', 'Ford Prefect', 'Marvin', 'Trillian', 'Slartibartfast']"
      ]
     },
     "execution_count": 18,
     "metadata": {},
     "output_type": "execute_result"
    }
   ],
   "source": [
    "hitchhiker"
   ]
  },
  {
   "cell_type": "markdown",
   "id": "d69c6af3-d6cc-4013-a053-0d3d2441855d",
   "metadata": {},
   "source": [
    "### Principais métodos"
   ]
  },
  {
   "cell_type": "code",
   "execution_count": 25,
   "id": "e82c2f59-89c7-41f1-8e21-fe254c3b33ac",
   "metadata": {},
   "outputs": [],
   "source": [
    "itens = ['ovos', 'farinha', 'leite', 'café']"
   ]
  },
  {
   "cell_type": "code",
   "execution_count": 26,
   "id": "6deaebe4-72d2-429b-b8b0-3fc4c4cc18fa",
   "metadata": {},
   "outputs": [],
   "source": [
    "#   Append object to the end of the list.\n",
    "itens.append('biscoito')"
   ]
  },
  {
   "cell_type": "code",
   "execution_count": 27,
   "id": "827e96fc-8f1e-4adb-a2aa-87c16b9391eb",
   "metadata": {},
   "outputs": [
    {
     "name": "stdout",
     "output_type": "stream",
     "text": [
      "['ovos', 'farinha', 'leite', 'café', 'biscoito']\n"
     ]
    }
   ],
   "source": [
    "print(itens)"
   ]
  },
  {
   "cell_type": "code",
   "execution_count": 29,
   "id": "7116b942-825d-4227-9115-017e24ee5aa3",
   "metadata": {},
   "outputs": [
    {
     "data": {
      "text/plain": [
       "1"
      ]
     },
     "execution_count": 29,
     "metadata": {},
     "output_type": "execute_result"
    }
   ],
   "source": [
    "# Return number of occurrences of value.\n",
    "itens.count('café')"
   ]
  },
  {
   "cell_type": "code",
   "execution_count": 31,
   "id": "61e47b9c-db8e-44f6-b667-36e515c5aebc",
   "metadata": {},
   "outputs": [],
   "source": [
    "# Insert object before index.\n",
    "itens.insert(2, 'queijo')"
   ]
  },
  {
   "cell_type": "code",
   "execution_count": 32,
   "id": "70d3ef71-8756-408b-9944-a3f36e59c869",
   "metadata": {},
   "outputs": [
    {
     "name": "stdout",
     "output_type": "stream",
     "text": [
      "['ovos', 'farinha', 'queijo', 'leite', 'café', 'biscoito']\n"
     ]
    }
   ],
   "source": [
    "print(itens)"
   ]
  },
  {
   "cell_type": "code",
   "execution_count": 34,
   "id": "3684e9dd-4aa1-4f7c-af03-cde340ac006d",
   "metadata": {},
   "outputs": [],
   "source": [
    "# Reverse a lsit IN PLACE.\n",
    "itens.reverse()"
   ]
  },
  {
   "cell_type": "code",
   "execution_count": 35,
   "id": "3e4ce555-05b2-4399-8df3-c6d6589416d1",
   "metadata": {},
   "outputs": [
    {
     "name": "stdout",
     "output_type": "stream",
     "text": [
      "['biscoito', 'café', 'leite', 'queijo', 'farinha', 'ovos']\n"
     ]
    }
   ],
   "source": [
    "print(itens)"
   ]
  },
  {
   "cell_type": "code",
   "execution_count": 36,
   "id": "43934bb1-4732-4993-88fc-06a74b503791",
   "metadata": {},
   "outputs": [
    {
     "name": "stdout",
     "output_type": "stream",
     "text": [
      "Help on method_descriptor:\n",
      "\n",
      "sort(self, /, *, key=None, reverse=False)\n",
      "    Sort the list in ascending order and return None.\n",
      "    \n",
      "    The sort is in-place (i.e. the list itself is modified) and stable (i.e. the\n",
      "    order of two equal elements is maintained).\n",
      "    \n",
      "    If a key function is given, apply it once to each list item and sort them,\n",
      "    ascending or descending, according to their function values.\n",
      "    \n",
      "    The reverse flag can be set to sort in descending order.\n",
      "\n"
     ]
    }
   ],
   "source": [
    "help(list.sort)"
   ]
  },
  {
   "cell_type": "code",
   "execution_count": 37,
   "id": "e29a3d26-2ec1-4ced-aba6-873aaa150fbe",
   "metadata": {},
   "outputs": [],
   "source": [
    "my_list_02 = [9, 5, 3, 7, 4, 1, 2, 6, 8]\n",
    "\n",
    "# Sort the list in ascending order and return None.\n",
    "my_list_02.sort()"
   ]
  },
  {
   "cell_type": "code",
   "execution_count": 38,
   "id": "06164ce5-1fa8-469a-8930-7bfc411afe29",
   "metadata": {},
   "outputs": [
    {
     "name": "stdout",
     "output_type": "stream",
     "text": [
      "[1, 2, 3, 4, 5, 6, 7, 8, 9]\n"
     ]
    }
   ],
   "source": [
    "print(my_list_02)"
   ]
  },
  {
   "cell_type": "markdown",
   "id": "1abdeae1-eeb9-480c-a2ff-0e5282a967ce",
   "metadata": {},
   "source": [
    "As listas também suportam operações como concatenação."
   ]
  },
  {
   "cell_type": "code",
   "execution_count": 39,
   "id": "b62e66d7-331c-4776-8440-6bdd00779716",
   "metadata": {},
   "outputs": [
    {
     "data": {
      "text/plain": [
       "[1, 2, 3, 4, 5, 6, 7, 8, 9, 10, 11, 12, 13, 14, 15]"
      ]
     },
     "execution_count": 39,
     "metadata": {},
     "output_type": "execute_result"
    }
   ],
   "source": [
    "my_list_02 + [10, 11, 12, 13, 14, 15]"
   ]
  },
  {
   "cell_type": "markdown",
   "id": "b43d31f2-b2d7-418d-9d70-a6da5dc75ebb",
   "metadata": {},
   "source": [
    "Listas são mutáveis, ou seja, é possível alterar elementos individuais de uma lista."
   ]
  },
  {
   "cell_type": "code",
   "execution_count": 41,
   "id": "a1911d7b-2b3f-4c7f-be12-f2010c0d41d2",
   "metadata": {},
   "outputs": [],
   "source": [
    "itens[1] = 'suco'"
   ]
  },
  {
   "cell_type": "code",
   "execution_count": 43,
   "id": "a3912489-c631-49f3-a92e-1f22543d72a0",
   "metadata": {},
   "outputs": [
    {
     "name": "stdout",
     "output_type": "stream",
     "text": [
      "['biscoito', 'suco', 'leite', 'queijo', 'farinha', 'ovos']\n"
     ]
    }
   ],
   "source": [
    "print(itens)"
   ]
  }
 ],
 "metadata": {
  "kernelspec": {
   "display_name": "Python 3 (ipykernel)",
   "language": "python",
   "name": "python3"
  },
  "language_info": {
   "codemirror_mode": {
    "name": "ipython",
    "version": 3
   },
   "file_extension": ".py",
   "mimetype": "text/x-python",
   "name": "python",
   "nbconvert_exporter": "python",
   "pygments_lexer": "ipython3",
   "version": "3.10.4"
  }
 },
 "nbformat": 4,
 "nbformat_minor": 5
}
