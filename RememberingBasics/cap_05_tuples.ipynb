{
 "cells": [
  {
   "cell_type": "markdown",
   "id": "32217286-e9bf-474f-b784-bc56137f5f26",
   "metadata": {},
   "source": [
    "# Python – Relembrando os Fundamentos Básicos"
   ]
  },
  {
   "cell_type": "code",
   "execution_count": 1,
   "id": "c17e7dcd-f526-4c23-86ad-dd6165b5e83a",
   "metadata": {},
   "outputs": [
    {
     "name": "stdout",
     "output_type": "stream",
     "text": [
      "Versão da Linguagem Python utilizada neste Jupyter Notebook: 3.10.4\n"
     ]
    }
   ],
   "source": [
    "# Versão da Linguagem Python\n",
    "from platform import python_version as _pv\n",
    "print(f'Versão da Linguagem Python utilizada neste Jupyter Notebook: {_pv()}')"
   ]
  },
  {
   "cell_type": "markdown",
   "id": "db11e14b-9895-43b5-8e8b-2956a3b7452e",
   "metadata": {},
   "source": [
    "Uma tupla consiste em uma sequência de valores separados por vírgulas, por exemplo."
   ]
  },
  {
   "cell_type": "code",
   "execution_count": 3,
   "id": "29d5b8b1-aca1-4e6f-abb3-303e672c250a",
   "metadata": {},
   "outputs": [],
   "source": [
    "tupla = 'span', 'egg', 'foo', 'bar'"
   ]
  },
  {
   "cell_type": "code",
   "execution_count": 4,
   "id": "a6b5f3c4-c4ab-4e1a-907d-de2419cdf3ef",
   "metadata": {},
   "outputs": [
    {
     "name": "stdout",
     "output_type": "stream",
     "text": [
      "('span', 'egg', 'foo', 'bar')\n"
     ]
    }
   ],
   "source": [
    "print(tupla)"
   ]
  },
  {
   "cell_type": "markdown",
   "id": "7391db9e-d45a-43a2-9c06-fab76f4247ad",
   "metadata": {},
   "source": [
    "Na criação, tuplas podem ser envolvidas ou não por parênteses, desde que o contexto não exija os parênteses (como no caso da tupla dentro de uma expressão maior). Não é possível atribuir itens individuais de uma tupla, contudo é possível criar tuplas que contenham objetos mutáveis, como listas."
   ]
  },
  {
   "cell_type": "code",
   "execution_count": 5,
   "id": "28fb494c-ee56-4d25-83a1-0121f67622db",
   "metadata": {},
   "outputs": [],
   "source": [
    "tp = ([1,2,3], [4,5,6], [7,8,9])"
   ]
  },
  {
   "cell_type": "code",
   "execution_count": 6,
   "id": "6511881e-f691-47a5-b6f2-269723238081",
   "metadata": {},
   "outputs": [
    {
     "name": "stdout",
     "output_type": "stream",
     "text": [
      "([1, 2, 3], [4, 5, 6], [7, 8, 9])\n"
     ]
    }
   ],
   "source": [
    "print(tp)"
   ]
  },
  {
   "cell_type": "code",
   "execution_count": 7,
   "id": "000548f2-7c61-4538-9a36-6e49001b936e",
   "metadata": {},
   "outputs": [
    {
     "data": {
      "text/plain": [
       "tuple"
      ]
     },
     "execution_count": 7,
     "metadata": {},
     "output_type": "execute_result"
    }
   ],
   "source": [
    "type(tp)"
   ]
  },
  {
   "cell_type": "code",
   "execution_count": 8,
   "id": "032cfa2f-6bba-4896-b4aa-02707dee8d95",
   "metadata": {},
   "outputs": [
    {
     "data": {
      "text/plain": [
       "3"
      ]
     },
     "execution_count": 8,
     "metadata": {},
     "output_type": "execute_result"
    }
   ],
   "source": [
    "len(tp)"
   ]
  },
  {
   "cell_type": "code",
   "execution_count": 9,
   "id": "be0f49dc-8303-4876-ab9a-aef0af585982",
   "metadata": {},
   "outputs": [
    {
     "name": "stdout",
     "output_type": "stream",
     "text": [
      "[4, 5, 6]\n"
     ]
    }
   ],
   "source": [
    "print(tp[1])"
   ]
  },
  {
   "cell_type": "code",
   "execution_count": 15,
   "id": "bd5415a2-8123-4a43-9d38-27475d8486f7",
   "metadata": {},
   "outputs": [],
   "source": [
    "# Slicing, da mesma forma que se faz com listas e strings.\n"
   ]
  },
  {
   "cell_type": "code",
   "execution_count": 12,
   "id": "50656151-f936-4cb8-9734-5c098e48f06e",
   "metadata": {},
   "outputs": [
    {
     "data": {
      "text/plain": [
       "([1, 2, 3], [4, 5, 6])"
      ]
     },
     "execution_count": 12,
     "metadata": {},
     "output_type": "execute_result"
    }
   ],
   "source": [
    "tp[:2]"
   ]
  },
  {
   "cell_type": "code",
   "execution_count": 20,
   "id": "22b9e980-992e-4ab7-919e-45a31438f568",
   "metadata": {},
   "outputs": [],
   "source": [
    "# Empacotamento de tupla.\n",
    "tp_01 = 1, 2, 3"
   ]
  },
  {
   "cell_type": "code",
   "execution_count": 21,
   "id": "493f44b8-c57a-461b-86e3-fd1cc4afae51",
   "metadata": {},
   "outputs": [
    {
     "name": "stdout",
     "output_type": "stream",
     "text": [
      "(1, 2, 3)\n"
     ]
    }
   ],
   "source": [
    "print(tp_01)"
   ]
  },
  {
   "cell_type": "code",
   "execution_count": 22,
   "id": "42310cc3-f42b-41cf-b9bd-eb3068dfb223",
   "metadata": {},
   "outputs": [],
   "source": [
    "# Sequência de desempacotamento.\n",
    "x, y, z = tp_01"
   ]
  },
  {
   "cell_type": "code",
   "execution_count": 23,
   "id": "77bfb883-af67-4e18-b5c1-b8bb8fccc488",
   "metadata": {},
   "outputs": [
    {
     "name": "stdout",
     "output_type": "stream",
     "text": [
      "1 2 3\n"
     ]
    }
   ],
   "source": [
    "print(x, y, z)"
   ]
  },
  {
   "cell_type": "code",
   "execution_count": 34,
   "id": "984f7c90-f5ca-4218-adf4-f959b9f8d75c",
   "metadata": {},
   "outputs": [],
   "source": [
    "# Usando a função tuple() para converter uma lista para tupla.\n",
    "lst = tuple(tp[1])"
   ]
  },
  {
   "cell_type": "code",
   "execution_count": 29,
   "id": "81ffc50f-b11c-4f8d-8d7b-3b84be3a65af",
   "metadata": {},
   "outputs": [
    {
     "data": {
      "text/plain": [
       "(4, 5, 6)"
      ]
     },
     "execution_count": 29,
     "metadata": {},
     "output_type": "execute_result"
    }
   ],
   "source": [
    "lst"
   ]
  },
  {
   "cell_type": "code",
   "execution_count": 35,
   "id": "2071db1a-eb08-4eed-b1ec-3c670c8f6cba",
   "metadata": {},
   "outputs": [],
   "source": [
    "# Usando a função list() para converter uma tupla para lista\n",
    "tpl = list(lst)"
   ]
  },
  {
   "cell_type": "code",
   "execution_count": 33,
   "id": "449c15c9-1799-495c-af76-259e480958e3",
   "metadata": {},
   "outputs": [
    {
     "name": "stdout",
     "output_type": "stream",
     "text": [
      "[4, 5, 6]\n"
     ]
    }
   ],
   "source": [
    "print(tpl)"
   ]
  }
 ],
 "metadata": {
  "kernelspec": {
   "display_name": "Python 3 (ipykernel)",
   "language": "python",
   "name": "python3"
  },
  "language_info": {
   "codemirror_mode": {
    "name": "ipython",
    "version": 3
   },
   "file_extension": ".py",
   "mimetype": "text/x-python",
   "name": "python",
   "nbconvert_exporter": "python",
   "pygments_lexer": "ipython3",
   "version": "3.10.4"
  }
 },
 "nbformat": 4,
 "nbformat_minor": 5
}
