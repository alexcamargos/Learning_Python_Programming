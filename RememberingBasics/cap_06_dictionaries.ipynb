{
 "cells": [
  {
   "cell_type": "markdown",
   "id": "141e250b-bb9b-426a-bad5-236c8dd17063",
   "metadata": {},
   "source": [
    "# Python – Relembrando os Fundamentos Básicos"
   ]
  },
  {
   "cell_type": "code",
   "execution_count": 2,
   "id": "f098d0d7-518a-4988-9b9e-71380f0500b8",
   "metadata": {},
   "outputs": [
    {
     "name": "stdout",
     "output_type": "stream",
     "text": [
      "Versão da Linguagem Python utilizada neste Jupyter Notebook: 3.10.4\n"
     ]
    }
   ],
   "source": [
    "# Versão da Linguagem Python\n",
    "from platform import python_version as _pv\n",
    "print(f'Versão da Linguagem Python utilizada neste Jupyter Notebook: {_pv()}')"
   ]
  },
  {
   "cell_type": "markdown",
   "id": "ae6ef3a5-36f5-475a-8f92-779b1fd3be4a",
   "metadata": {},
   "source": [
    "## Dictionaries"
   ]
  },
  {
   "cell_type": "code",
   "execution_count": 6,
   "id": "47536960-81ef-4490-bf23-f6e791b9006a",
   "metadata": {},
   "outputs": [],
   "source": [
    "# Isto é uma lista\n",
    "personagens_list = ['Gandalf the White', 1, 'Frodo Baggins', 2, 'Samwise Gamgee', 3, 'Gimli, son of Glóin', 4]"
   ]
  },
  {
   "cell_type": "code",
   "execution_count": 7,
   "id": "8c8e0f2c-4ad9-466d-b601-ce8e1c4fcd56",
   "metadata": {},
   "outputs": [
    {
     "name": "stdout",
     "output_type": "stream",
     "text": [
      "['Gandalf the White', 1, 'Frodo Baggins', 2, 'Samwise Gamgee', 3, 'Gimli, son of Glóin', 4]\n"
     ]
    }
   ],
   "source": [
    "print(personagens_list)"
   ]
  },
  {
   "cell_type": "code",
   "execution_count": 9,
   "id": "22118ee0-f7f3-4234-9ac1-3c47948ffb4e",
   "metadata": {},
   "outputs": [],
   "source": [
    "personagens_dict = {1:'Gandalf the White', 2:'Frodo Baggins', 3:'Samwise Gamgee', 4:'Gimli, son of Glóin'}"
   ]
  },
  {
   "cell_type": "code",
   "execution_count": 10,
   "id": "9f856ee3-8a5a-4be4-98d5-4ac65447e924",
   "metadata": {},
   "outputs": [
    {
     "name": "stdout",
     "output_type": "stream",
     "text": [
      "{1: 'Gandalf the White', 2: 'Frodo Baggins', 3: 'Samwise Gamgee', 4: 'Gimli, son of Glóin'}\n"
     ]
    }
   ],
   "source": [
    "print(personagens_dict)"
   ]
  },
  {
   "cell_type": "code",
   "execution_count": 11,
   "id": "cfa34f44-fe1d-4528-9b97-095a0beb9e92",
   "metadata": {},
   "outputs": [
    {
     "data": {
      "text/plain": [
       "dict"
      ]
     },
     "execution_count": 11,
     "metadata": {},
     "output_type": "execute_result"
    }
   ],
   "source": [
    "type(personagens_dict)"
   ]
  },
  {
   "cell_type": "code",
   "execution_count": 12,
   "id": "709a4991-8724-4ed0-9838-82195b4a920b",
   "metadata": {},
   "outputs": [
    {
     "data": {
      "text/plain": [
       "4"
      ]
     },
     "execution_count": 12,
     "metadata": {},
     "output_type": "execute_result"
    }
   ],
   "source": [
    "len(personagens_dict)"
   ]
  },
  {
   "cell_type": "code",
   "execution_count": 13,
   "id": "4575d9d0-60d1-4619-9275-fe1e29573d6d",
   "metadata": {},
   "outputs": [
    {
     "data": {
      "text/plain": [
       "'Frodo Baggins'"
      ]
     },
     "execution_count": 13,
     "metadata": {},
     "output_type": "execute_result"
    }
   ],
   "source": [
    "personagens_dict[2]"
   ]
  },
  {
   "cell_type": "code",
   "execution_count": 14,
   "id": "96ace4c9-47c2-49d7-8bd1-f1e65369d2b4",
   "metadata": {},
   "outputs": [
    {
     "data": {
      "text/plain": [
       "'Gimli, son of Glóin'"
      ]
     },
     "execution_count": 14,
     "metadata": {},
     "output_type": "execute_result"
    }
   ],
   "source": [
    "personagens_dict[4]"
   ]
  },
  {
   "cell_type": "code",
   "execution_count": 17,
   "id": "27e49477-35ce-41b1-84cd-f0290de49016",
   "metadata": {},
   "outputs": [],
   "source": [
    "# Builds dictionaries directly from sequences of key-value pairs.\n",
    "my_dt = dict([('Alex', 36), ('Marcone', 42), ('Otávio', 23)])"
   ]
  },
  {
   "cell_type": "code",
   "execution_count": 18,
   "id": "eae74ab9-0909-418c-808b-57d6ada8dfb8",
   "metadata": {},
   "outputs": [
    {
     "name": "stdout",
     "output_type": "stream",
     "text": [
      "{'Alex': 36, 'Marcone': 42, 'Otávio': 23}\n"
     ]
    }
   ],
   "source": [
    "print(my_dt)"
   ]
  },
  {
   "cell_type": "code",
   "execution_count": 24,
   "id": "e091cb54-bdf5-4b1a-a203-4f169e77650e",
   "metadata": {},
   "outputs": [],
   "source": [
    "# When the keys are simple strings, it is sometimes easier\n",
    "# to specify pairs using keyword arguments.\n",
    "cards = dict(valete=10, dama=11, rei=12)"
   ]
  },
  {
   "cell_type": "code",
   "execution_count": 23,
   "id": "382c88ba-9d86-4169-b0ed-62904ddc53e6",
   "metadata": {},
   "outputs": [
    {
     "name": "stdout",
     "output_type": "stream",
     "text": [
      "{'valete': 10, 'dama': 11, 'rei': 12}\n"
     ]
    }
   ],
   "source": [
    "print(cards)"
   ]
  },
  {
   "cell_type": "code",
   "execution_count": 26,
   "id": "9f2ad0ce-0c34-474a-a5c7-1877282a062f",
   "metadata": {},
   "outputs": [
    {
     "data": {
      "text/plain": [
       "dict_keys(['valete', 'dama', 'rei'])"
      ]
     },
     "execution_count": 26,
     "metadata": {},
     "output_type": "execute_result"
    }
   ],
   "source": [
    "# Return a new view of the dictionary’s keys.\n",
    "cards.keys()"
   ]
  },
  {
   "cell_type": "code",
   "execution_count": 31,
   "id": "66bcc65c-077b-469a-b30d-7a61e6da682b",
   "metadata": {},
   "outputs": [
    {
     "data": {
      "text/plain": [
       "dict_values([10, 11, 12])"
      ]
     },
     "execution_count": 31,
     "metadata": {},
     "output_type": "execute_result"
    }
   ],
   "source": [
    "# Return a new view of the dictionary’s values.\n",
    "cards.values()"
   ]
  },
  {
   "cell_type": "code",
   "execution_count": 32,
   "id": "8b3a7a95-c752-4525-8a00-bd45563630e6",
   "metadata": {},
   "outputs": [
    {
     "data": {
      "text/plain": [
       "dict_items([('valete', 10), ('dama', 11), ('rei', 12)])"
      ]
     },
     "execution_count": 32,
     "metadata": {},
     "output_type": "execute_result"
    }
   ],
   "source": [
    "# Return a new view of the dictionary’s items (key, value).\n",
    "cards.items()"
   ]
  },
  {
   "cell_type": "code",
   "execution_count": 34,
   "id": "d9948989-5183-4312-b0c0-84ec0d639034",
   "metadata": {},
   "outputs": [
    {
     "data": {
      "text/plain": [
       "10"
      ]
     },
     "execution_count": 34,
     "metadata": {},
     "output_type": "execute_result"
    }
   ],
   "source": [
    "cards['valete']"
   ]
  },
  {
   "cell_type": "code",
   "execution_count": 35,
   "id": "0696875e-bc2f-4e97-8e67-5252a7c60871",
   "metadata": {},
   "outputs": [],
   "source": [
    "suits = dict(clubs='♣', diamonds='♦', hearts='♥', spades='♠')"
   ]
  },
  {
   "cell_type": "code",
   "execution_count": 36,
   "id": "2e34ebcd-2dec-4e44-a6da-94e142a9eb99",
   "metadata": {},
   "outputs": [
    {
     "name": "stdout",
     "output_type": "stream",
     "text": [
      "{'clubs': '♣', 'diamonds': '♦', 'hearts': '♥', 'spades': '♠'}\n"
     ]
    }
   ],
   "source": [
    "print(suits)"
   ]
  },
  {
   "cell_type": "code",
   "execution_count": 40,
   "id": "0e827b9f-4194-4215-87aa-b35a04c781c4",
   "metadata": {},
   "outputs": [],
   "source": [
    "# Update the dictionary with the key/value pairs,\n",
    "cards.update(suits)"
   ]
  },
  {
   "cell_type": "code",
   "execution_count": 41,
   "id": "c62916ba-bd49-49f1-98bf-0eff7c8495b2",
   "metadata": {},
   "outputs": [
    {
     "name": "stdout",
     "output_type": "stream",
     "text": [
      "{'valete': 10, 'dama': 11, 'rei': 12, 'clubs': '♣', 'diamonds': '♦', 'hearts': '♥', 'spades': '♠'}\n"
     ]
    }
   ],
   "source": [
    "print(cards)"
   ]
  },
  {
   "cell_type": "code",
   "execution_count": null,
   "id": "b651b93a-7a25-481a-bbf6-ddd987f71fc5",
   "metadata": {},
   "outputs": [],
   "source": []
  }
 ],
 "metadata": {
  "kernelspec": {
   "display_name": "Python 3 (ipykernel)",
   "language": "python",
   "name": "python3"
  },
  "language_info": {
   "codemirror_mode": {
    "name": "ipython",
    "version": 3
   },
   "file_extension": ".py",
   "mimetype": "text/x-python",
   "name": "python",
   "nbconvert_exporter": "python",
   "pygments_lexer": "ipython3",
   "version": "3.10.4"
  }
 },
 "nbformat": 4,
 "nbformat_minor": 5
}
