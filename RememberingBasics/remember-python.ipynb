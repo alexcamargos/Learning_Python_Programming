{
 "cells": [
  {
   "cell_type": "markdown",
   "id": "8e513b9f",
   "metadata": {},
   "source": [
    "## Primitive Variables"
   ]
  },
  {
   "cell_type": "code",
   "execution_count": 8,
   "id": "990654c5",
   "metadata": {},
   "outputs": [],
   "source": [
    "a = 123  # integer\n",
    "b = 123.45  # float\n",
    "c = True  # Boolean\n",
    "d = None  # NoneType\n",
    "e = \"Hello World\"  # string"
   ]
  },
  {
   "cell_type": "markdown",
   "id": "43f7fbe4",
   "metadata": {},
   "source": [
    "You can check the type of the variable using the built-in function \"type\""
   ]
  },
  {
   "cell_type": "code",
   "execution_count": 3,
   "id": "3a88f91b",
   "metadata": {},
   "outputs": [
    {
     "data": {
      "text/plain": [
       "int"
      ]
     },
     "execution_count": 3,
     "metadata": {},
     "output_type": "execute_result"
    }
   ],
   "source": [
    "type(a)"
   ]
  },
  {
   "cell_type": "code",
   "execution_count": 4,
   "id": "0fc4fcfe",
   "metadata": {},
   "outputs": [
    {
     "data": {
      "text/plain": [
       "float"
      ]
     },
     "execution_count": 4,
     "metadata": {},
     "output_type": "execute_result"
    }
   ],
   "source": [
    "type(b)"
   ]
  },
  {
   "cell_type": "code",
   "execution_count": 5,
   "id": "e99d4cb5",
   "metadata": {},
   "outputs": [
    {
     "data": {
      "text/plain": [
       "bool"
      ]
     },
     "execution_count": 5,
     "metadata": {},
     "output_type": "execute_result"
    }
   ],
   "source": [
    "type(c)"
   ]
  },
  {
   "cell_type": "code",
   "execution_count": 6,
   "id": "aec6fe15",
   "metadata": {},
   "outputs": [
    {
     "data": {
      "text/plain": [
       "NoneType"
      ]
     },
     "execution_count": 6,
     "metadata": {},
     "output_type": "execute_result"
    }
   ],
   "source": [
    "type(d)"
   ]
  },
  {
   "cell_type": "code",
   "execution_count": 7,
   "id": "65f50221",
   "metadata": {},
   "outputs": [
    {
     "data": {
      "text/plain": [
       "str"
      ]
     },
     "execution_count": 7,
     "metadata": {},
     "output_type": "execute_result"
    }
   ],
   "source": [
    "type(e)"
   ]
  },
  {
   "cell_type": "markdown",
   "id": "0eb498b5",
   "metadata": {},
   "source": [
    "You can convert some types to others, using e.g. float(), str(), int(), bool()"
   ]
  },
  {
   "cell_type": "code",
   "execution_count": 9,
   "id": "1197edaf",
   "metadata": {},
   "outputs": [
    {
     "data": {
      "text/plain": [
       "'123'"
      ]
     },
     "execution_count": 9,
     "metadata": {},
     "output_type": "execute_result"
    }
   ],
   "source": [
    "str(a)  # note the '' to represent a str"
   ]
  },
  {
   "cell_type": "code",
   "execution_count": 10,
   "id": "f2ec8867",
   "metadata": {},
   "outputs": [
    {
     "data": {
      "text/plain": [
       "123.0"
      ]
     },
     "execution_count": 10,
     "metadata": {},
     "output_type": "execute_result"
    }
   ],
   "source": [
    "float(a)"
   ]
  },
  {
   "cell_type": "code",
   "execution_count": 11,
   "id": "0d4ed2b7",
   "metadata": {},
   "outputs": [
    {
     "data": {
      "text/plain": [
       "123"
      ]
     },
     "execution_count": 11,
     "metadata": {},
     "output_type": "execute_result"
    }
   ],
   "source": [
    "int(b)"
   ]
  },
  {
   "cell_type": "markdown",
   "id": "f806e33b",
   "metadata": {},
   "source": [
    "## Print"
   ]
  },
  {
   "cell_type": "markdown",
   "id": "b93107de",
   "metadata": {},
   "source": [
    "If we want to check the value of a stored variable there are 2 main ways:\n",
    "- Running the cell with variable being called last will output the stored value\n",
    "- Wrapping the variable around a print() statement. Works any stage of cell."
   ]
  },
  {
   "cell_type": "code",
   "execution_count": 12,
   "id": "e7197595",
   "metadata": {},
   "outputs": [
    {
     "name": "stdout",
     "output_type": "stream",
     "text": [
      "123\n"
     ]
    },
    {
     "data": {
      "text/plain": [
       "123"
      ]
     },
     "execution_count": 12,
     "metadata": {},
     "output_type": "execute_result"
    }
   ],
   "source": [
    "print(a)\n",
    "a "
   ]
  },
  {
   "cell_type": "markdown",
   "id": "60da6265",
   "metadata": {},
   "source": [
    "If we want to print statements along with variables there are 4 different ways:"
   ]
  },
  {
   "cell_type": "code",
   "execution_count": 13,
   "id": "eaada880",
   "metadata": {},
   "outputs": [
    {
     "name": "stdout",
     "output_type": "stream",
     "text": [
      "The value a is 123\n",
      "The value a is 123\n",
      "The value a is 123\n",
      "The value a is 123\n"
     ]
    }
   ],
   "source": [
    "print(\"The value a is \" + str(a))\n",
    "print(\"The value a is {}\".format(a))\n",
    "print(f\"The value a is {a}\") # preferred\n",
    "print(\"The value a is\", a)"
   ]
  },
  {
   "cell_type": "markdown",
   "id": "606c4547",
   "metadata": {},
   "source": [
    "Note: When printing a statement, you can either use \"\" or ''. And if you want to denote a word with \"\"/'' you need to use the other type to do so. E.g."
   ]
  },
  {
   "cell_type": "code",
   "execution_count": 14,
   "id": "c88ae757",
   "metadata": {},
   "outputs": [
    {
     "name": "stdout",
     "output_type": "stream",
     "text": [
      "Python is 'fun'\n",
      "Python is \"fun\"\n"
     ]
    }
   ],
   "source": [
    "print(\"Python is 'fun'\")\n",
    "print('Python is \"fun\"')"
   ]
  },
  {
   "cell_type": "markdown",
   "id": "ec6cd8ac",
   "metadata": {},
   "source": [
    "## Arithmetic Operations"
   ]
  },
  {
   "cell_type": "markdown",
   "id": "24d49961",
   "metadata": {},
   "source": [
    "Note that the type of the result of arithmetic operations will be dictated by variables used. E.g. if we sum an int with a float, the resulting value type will be float, as we keep higher precision."
   ]
  },
  {
   "cell_type": "code",
   "execution_count": 15,
   "id": "bc485bb7",
   "metadata": {},
   "outputs": [
    {
     "name": "stdout",
     "output_type": "stream",
     "text": [
      "126.0\n",
      "120.0\n",
      "41.0\n",
      "0.0\n",
      "369.0\n",
      "41.0\n",
      "1860867.0\n"
     ]
    }
   ],
   "source": [
    "print(a + 3.0) # addition\n",
    "print(a - 3.0) # subtraction\n",
    "print(a / 3.0) # division\n",
    "print(a % 3.0) # mod\n",
    "print(a * 3.0) # multiplication\n",
    "print(a // 3.0) # floor division\n",
    "print(a ** 3.0) # power of"
   ]
  },
  {
   "cell_type": "markdown",
   "id": "8071a0b9",
   "metadata": {},
   "source": [
    "If we are doing a chain of arithmetic operations it is recommended to use brackets!"
   ]
  },
  {
   "cell_type": "code",
   "execution_count": 16,
   "id": "2ccf97b3",
   "metadata": {},
   "outputs": [
    {
     "data": {
      "text/plain": [
       "63504"
      ]
     },
     "execution_count": 16,
     "metadata": {},
     "output_type": "execute_result"
    }
   ],
   "source": [
    "(2 * (a + 3)) ** 2"
   ]
  },
  {
   "cell_type": "markdown",
   "id": "f6f23f2d",
   "metadata": {},
   "source": [
    "## Comparison Operators"
   ]
  },
  {
   "cell_type": "markdown",
   "id": "b6836c70",
   "metadata": {},
   "source": [
    "These are extremely useful to be used in if/else statements."
   ]
  },
  {
   "cell_type": "code",
   "execution_count": 17,
   "id": "e342008a",
   "metadata": {},
   "outputs": [
    {
     "name": "stdout",
     "output_type": "stream",
     "text": [
      "False\n",
      "True\n",
      "True\n",
      "True\n",
      "False\n",
      "False\n"
     ]
    }
   ],
   "source": [
    "print(a == b)  # True if a and b have the same value\n",
    "print(a != b)  # True if a and b don't have the same value\n",
    "print(a < b)  # True if a is less than b\n",
    "print(a <= b)  # True if a is less than or equal to b\n",
    "print(a > b)  # True if a is more than b\n",
    "print(a >= b)  # True if a is more than or equal to b"
   ]
  },
  {
   "cell_type": "markdown",
   "id": "5d4b358a",
   "metadata": {},
   "source": [
    "## Logical Operators"
   ]
  },
  {
   "cell_type": "markdown",
   "id": "a96784bf",
   "metadata": {},
   "source": [
    "By using logical operators to combine comparison operators we can create complex workflows"
   ]
  },
  {
   "cell_type": "code",
   "execution_count": 19,
   "id": "46be4b11",
   "metadata": {},
   "outputs": [
    {
     "name": "stdout",
     "output_type": "stream",
     "text": [
      "123\n",
      "123.45\n",
      "True\n",
      "False\n",
      "False\n"
     ]
    }
   ],
   "source": [
    "print(a)\n",
    "print(b)\n",
    "f = (a == b)\n",
    "print(c or f)  # True if either c or f are true\n",
    "print(c and f)  # True if both c and f are true\n",
    "print(not c)  # True only if c is False"
   ]
  },
  {
   "cell_type": "markdown",
   "id": "c0292e86",
   "metadata": {},
   "source": [
    "## If Else statements"
   ]
  },
  {
   "cell_type": "markdown",
   "id": "6b491e3e",
   "metadata": {},
   "source": [
    "Note that the indentation is extremely important in python! The code can crash if it misses a single space."
   ]
  },
  {
   "cell_type": "code",
   "execution_count": 20,
   "id": "4bacfabe",
   "metadata": {},
   "outputs": [
    {
     "name": "stdout",
     "output_type": "stream",
     "text": [
      "c is True, then do this!\n"
     ]
    }
   ],
   "source": [
    "if c:\n",
    "    print(\"c is True, then do this!\")\n",
    "else:\n",
    "    print(\"c is False, then do that!\")"
   ]
  },
  {
   "cell_type": "markdown",
   "id": "e664eb80",
   "metadata": {},
   "source": [
    "Each variable has it's own \"True\" and \"False\" types\n",
    "- For a string, \"\" is False, all the rest is True\n",
    "- For a int, 0 is False, all the rest is True\n",
    "- For a float, 0.0 is False, all the rest is True"
   ]
  },
  {
   "cell_type": "code",
   "execution_count": 25,
   "id": "37f7a33a",
   "metadata": {},
   "outputs": [
    {
     "name": "stdout",
     "output_type": "stream",
     "text": [
      "123\n",
      "123.45\n",
      "True\n",
      "Hello World\n",
      "Var 'a' has a value other than 0, so this condition evaluates to True\n"
     ]
    }
   ],
   "source": [
    "print(a)\n",
    "print(b)\n",
    "print(c)\n",
    "if c and (a < b):\n",
    "    print(e)\n",
    "    if a:\n",
    "        print(\"Var 'a' has a value other than 0, so this condition evaluates to True\")"
   ]
  },
  {
   "cell_type": "markdown",
   "id": "201c0e8c",
   "metadata": {},
   "source": [
    "If the execution flow is not binary we must use \"elif\" statement"
   ]
  },
  {
   "cell_type": "code",
   "execution_count": 23,
   "id": "5006911b",
   "metadata": {},
   "outputs": [
    {
     "name": "stdout",
     "output_type": "stream",
     "text": [
      "123\n",
      "The var 'a' is bigger than 10\n"
     ]
    }
   ],
   "source": [
    "print(a)\n",
    "if a > 10:\n",
    "    print(\"The var 'a' is bigger than 10\")\n",
    "elif a < 10:\n",
    "    print(\"The var 'a' is smaller than 10\")\n",
    "else:\n",
    "    print(\"The var 'a' is equal to 10\")"
   ]
  },
  {
   "cell_type": "markdown",
   "id": "153c0b1d",
   "metadata": {},
   "source": [
    "## Lists\n",
    "This is an extremely important topic. Lists allows us to group multiple variables together. It can also be used to keep a list of sequential variables, however, we'll see later that np.arrays are more indicated for this"
   ]
  },
  {
   "cell_type": "code",
   "execution_count": 26,
   "id": "953c2982",
   "metadata": {},
   "outputs": [
    {
     "data": {
      "text/plain": [
       "['apple', 'orange', 'tomato', 'banana']"
      ]
     },
     "execution_count": 26,
     "metadata": {},
     "output_type": "execute_result"
    }
   ],
   "source": [
    "fruits = [\"apple\", \"orange\", \"tomato\", \"banana\"]\n",
    "fruits"
   ]
  },
  {
   "cell_type": "markdown",
   "id": "efbd5285",
   "metadata": {},
   "source": [
    "In order to access an element from a list we need to get them through their index. Note that python lists are zero-indexed, therefore, the first element corresponds to index 0."
   ]
  },
  {
   "cell_type": "code",
   "execution_count": 27,
   "id": "2fc4bc25",
   "metadata": {},
   "outputs": [
    {
     "data": {
      "text/plain": [
       "'apple'"
      ]
     },
     "execution_count": 27,
     "metadata": {},
     "output_type": "execute_result"
    }
   ],
   "source": [
    "fruits[0]"
   ]
  },
  {
   "cell_type": "code",
   "execution_count": 28,
   "id": "912c19ea",
   "metadata": {},
   "outputs": [
    {
     "data": {
      "text/plain": [
       "'banana'"
      ]
     },
     "execution_count": 28,
     "metadata": {},
     "output_type": "execute_result"
    }
   ],
   "source": [
    "fruits[3]"
   ]
  },
  {
   "cell_type": "code",
   "execution_count": 29,
   "id": "9331458a",
   "metadata": {},
   "outputs": [
    {
     "data": {
      "text/plain": [
       "list"
      ]
     },
     "execution_count": 29,
     "metadata": {},
     "output_type": "execute_result"
    }
   ],
   "source": [
    "type(fruits)"
   ]
  },
  {
   "cell_type": "markdown",
   "id": "7fd4c7b6",
   "metadata": {},
   "source": [
    "You can replace a specific list item through their index with"
   ]
  },
  {
   "cell_type": "code",
   "execution_count": 30,
   "id": "bf286b5b",
   "metadata": {},
   "outputs": [
    {
     "data": {
      "text/plain": [
       "['apple', 'orange', 'apricot', 'banana']"
      ]
     },
     "execution_count": 30,
     "metadata": {},
     "output_type": "execute_result"
    }
   ],
   "source": [
    "fruits[2] = \"apricot\"\n",
    "fruits"
   ]
  },
  {
   "cell_type": "markdown",
   "id": "c6e20e53",
   "metadata": {},
   "source": [
    "In addition, you can add/remove items from a list"
   ]
  },
  {
   "cell_type": "code",
   "execution_count": 31,
   "id": "eeff2118",
   "metadata": {},
   "outputs": [
    {
     "name": "stdout",
     "output_type": "stream",
     "text": [
      "['apple', 'orange', 'apricot', 'banana', 'lime']\n",
      "['apple', 'orange', 'banana', 'lime']\n"
     ]
    }
   ],
   "source": [
    "fruits.append(\"lime\")  # add new item to the end of the list\n",
    "print(fruits)\n",
    "fruits.remove(\"apricot\")  # remove item from the list\n",
    "print(fruits)"
   ]
  },
  {
   "cell_type": "markdown",
   "id": "e7b0f25c",
   "metadata": {},
   "source": [
    "A quick way to generate a sequence of numbers as a list is:"
   ]
  },
  {
   "cell_type": "code",
   "execution_count": 32,
   "id": "12914368",
   "metadata": {},
   "outputs": [
    {
     "data": {
      "text/plain": [
       "[0, 2, 4, 6, 8, 10, 12, 14, 16, 18, 20, 22, 24, 26, 28, 30, 32, 34, 36, 38]"
      ]
     },
     "execution_count": 32,
     "metadata": {},
     "output_type": "execute_result"
    }
   ],
   "source": [
    "sequence = list(range(0, 40, 2)) # (from, to, step size)\n",
    "sequence"
   ]
  },
  {
   "cell_type": "markdown",
   "id": "b1f71794",
   "metadata": {},
   "source": [
    "Slicing lists"
   ]
  },
  {
   "cell_type": "code",
   "execution_count": 34,
   "id": "6efce0a3",
   "metadata": {},
   "outputs": [
    {
     "name": "stdout",
     "output_type": "stream",
     "text": [
      "[0, 2, 4]\n",
      "[8, 10, 12, 14, 16, 18, 20, 22, 24, 26, 28, 30, 32, 34, 36, 38]\n",
      "38\n",
      "[2, 6]\n",
      "[38, 36, 34, 32, 30, 28, 26, 24, 22, 20, 18, 16, 14, 12, 10, 8, 6, 4, 2, 0]\n"
     ]
    }
   ],
   "source": [
    "print(sequence[0:3])  # get items 0 through 3 (not included)\n",
    "print(sequence[4:])  # get items 4 onwards\n",
    "print(sequence[-1])  # get last item\n",
    "print(sequence[1:5:2])  # get items from 1 through item 5 (not included) with step size 2\n",
    "print(sequence[::-1])  # get whole list backwords"
   ]
  },
  {
   "cell_type": "markdown",
   "id": "2ce98b83",
   "metadata": {},
   "source": [
    "Helpful functions when using lists"
   ]
  },
  {
   "cell_type": "code",
   "execution_count": 35,
   "id": "789b72ca",
   "metadata": {},
   "outputs": [
    {
     "name": "stdout",
     "output_type": "stream",
     "text": [
      "20\n",
      "0\n",
      "38\n"
     ]
    }
   ],
   "source": [
    "print(len(sequence))  # number of items within the list\n",
    "print(min(sequence))  # max value within the list\n",
    "print(max(sequence))  # min value within the list"
   ]
  },
  {
   "cell_type": "markdown",
   "id": "c6fa28e3",
   "metadata": {},
   "source": [
    "Although we've been playing with variables of same type. Lists can hold different types"
   ]
  },
  {
   "cell_type": "code",
   "execution_count": 36,
   "id": "863ab4fc",
   "metadata": {},
   "outputs": [
    {
     "name": "stdout",
     "output_type": "stream",
     "text": [
      "[3, 'two', True, None]\n"
     ]
    }
   ],
   "source": [
    "mixed = [3, \"two\", True, None]\n",
    "print(mixed)"
   ]
  },
  {
   "cell_type": "markdown",
   "id": "32e06d72",
   "metadata": {},
   "source": [
    "## Sets\n",
    "List that can't contain duplicate items. Can't be indexed or sliced."
   ]
  },
  {
   "cell_type": "code",
   "execution_count": 37,
   "id": "42b7e4bd",
   "metadata": {},
   "outputs": [
    {
     "name": "stdout",
     "output_type": "stream",
     "text": [
      "[0, 2, 4, 6, 8, 10, 12, 14, 16, 18, 20, 22, 24, 26, 28, 30, 32, 34, 36, 38, 10, 10, 10]\n"
     ]
    },
    {
     "data": {
      "text/plain": [
       "{0, 2, 4, 6, 8, 10, 12, 14, 16, 18, 20, 22, 24, 26, 28, 30, 32, 34, 36, 38}"
      ]
     },
     "execution_count": 37,
     "metadata": {},
     "output_type": "execute_result"
    }
   ],
   "source": [
    "sequence.append(10)\n",
    "sequence.append(10)\n",
    "sequence.append(10)\n",
    "print(sequence)\n",
    "\n",
    "set(sequence)"
   ]
  },
  {
   "cell_type": "markdown",
   "id": "69ac62df",
   "metadata": {},
   "source": [
    "## Tuples\n",
    "As it was seen before it is possible to change a list by accessing one of its elements after creation. That means that Lists are a mutable object.\n",
    "\n",
    "Tuples differ from lists there. Tuples are immutable, and usually denote a set of \"characteristics\"."
   ]
  },
  {
   "cell_type": "code",
   "execution_count": 38,
   "id": "fa15f3cd",
   "metadata": {},
   "outputs": [
    {
     "data": {
      "text/plain": [
       "('Didier', 1.85, 'Brown hair')"
      ]
     },
     "execution_count": 38,
     "metadata": {},
     "output_type": "execute_result"
    }
   ],
   "source": [
    "characteristics = (\"Didier\", 1.85, \"Brown hair\")\n",
    "characteristics"
   ]
  },
  {
   "cell_type": "markdown",
   "id": "96534557",
   "metadata": {},
   "source": [
    "Can still be accessed by index, but can't be changed"
   ]
  },
  {
   "cell_type": "code",
   "execution_count": 39,
   "id": "d4b40325",
   "metadata": {},
   "outputs": [
    {
     "data": {
      "text/plain": [
       "1.85"
      ]
     },
     "execution_count": 39,
     "metadata": {},
     "output_type": "execute_result"
    }
   ],
   "source": [
    "characteristics[1]"
   ]
  },
  {
   "cell_type": "code",
   "execution_count": 40,
   "id": "4a622a1c",
   "metadata": {},
   "outputs": [
    {
     "data": {
      "text/plain": [
       "'Brown hair'"
      ]
     },
     "execution_count": 40,
     "metadata": {},
     "output_type": "execute_result"
    }
   ],
   "source": [
    "characteristics[len(characteristics) - 1]"
   ]
  },
  {
   "cell_type": "markdown",
   "id": "158bb137",
   "metadata": {},
   "source": [
    "## Dictionaries\n",
    "Similar to the concept of a dictionary. They are effectively 2 lists combined: keys and values. We use keys to access values instead of indexing them like a list. Each value is mapped to a unique key. Some properties are:\n",
    "- Values are mapped to a key\n",
    "- Values are accessed by their key\n",
    "- Key are unique and are immutable\n",
    "- Values cannot exist without a key"
   ]
  },
  {
   "cell_type": "code",
   "execution_count": 41,
   "id": "bfb02a8d",
   "metadata": {},
   "outputs": [
    {
     "data": {
      "text/plain": [
       "{'Monday': 'Pizza',\n",
       " 'Tuesday': 'Salad',\n",
       " 'Wednesday': 'Burger',\n",
       " 'Thursday': 'Pasta',\n",
       " 'Friday': 'Sushi'}"
      ]
     },
     "execution_count": 41,
     "metadata": {},
     "output_type": "execute_result"
    }
   ],
   "source": [
    "lunch_meal = {\n",
    "    'Monday': \"Pizza\",\n",
    "    'Tuesday': \"Salad\",\n",
    "    'Wednesday': \"Burger\",\n",
    "    'Thursday': \"Pasta\",\n",
    "    'Friday': \"Sushi\",\n",
    "}\n",
    "lunch_meal"
   ]
  },
  {
   "cell_type": "markdown",
   "id": "6ead1a7d",
   "metadata": {},
   "source": [
    "Unlike lists, the index here works with the key"
   ]
  },
  {
   "cell_type": "code",
   "execution_count": 42,
   "id": "bde4e03e",
   "metadata": {},
   "outputs": [
    {
     "data": {
      "text/plain": [
       "'Burger'"
      ]
     },
     "execution_count": 42,
     "metadata": {},
     "output_type": "execute_result"
    }
   ],
   "source": [
    "lunch_meal[\"Wednesday\"]"
   ]
  },
  {
   "cell_type": "markdown",
   "id": "0f56e900",
   "metadata": {},
   "source": [
    "Adding new elements to a dictionary"
   ]
  },
  {
   "cell_type": "code",
   "execution_count": 43,
   "id": "20839e93",
   "metadata": {},
   "outputs": [
    {
     "data": {
      "text/plain": [
       "{'Monday': 'Pizza',\n",
       " 'Tuesday': 'Salad',\n",
       " 'Wednesday': 'Burger',\n",
       " 'Thursday': 'Pasta',\n",
       " 'Friday': 'Sushi',\n",
       " 'Saturday': 'Curry'}"
      ]
     },
     "execution_count": 43,
     "metadata": {},
     "output_type": "execute_result"
    }
   ],
   "source": [
    "lunch_meal[\"Saturday\"] = \"Curry\"\n",
    "lunch_meal"
   ]
  },
  {
   "cell_type": "markdown",
   "id": "6bc3785c",
   "metadata": {},
   "source": [
    "If the key already exists, it will just update the value accordingly"
   ]
  },
  {
   "cell_type": "code",
   "execution_count": 44,
   "id": "a3fe5b41",
   "metadata": {},
   "outputs": [
    {
     "data": {
      "text/plain": [
       "{'Monday': 'Pizza',\n",
       " 'Tuesday': 'Ramen',\n",
       " 'Wednesday': 'Burger',\n",
       " 'Thursday': 'Pasta',\n",
       " 'Friday': 'Sushi',\n",
       " 'Saturday': 'Curry'}"
      ]
     },
     "execution_count": 44,
     "metadata": {},
     "output_type": "execute_result"
    }
   ],
   "source": [
    "lunch_meal[\"Tuesday\"] = \"Ramen\"\n",
    "lunch_meal"
   ]
  },
  {
   "cell_type": "markdown",
   "id": "55112ff9",
   "metadata": {},
   "source": [
    "Remove a key-value pair"
   ]
  },
  {
   "cell_type": "code",
   "execution_count": 45,
   "id": "e9e96d77",
   "metadata": {},
   "outputs": [
    {
     "data": {
      "text/plain": [
       "{'Tuesday': 'Ramen',\n",
       " 'Wednesday': 'Burger',\n",
       " 'Thursday': 'Pasta',\n",
       " 'Friday': 'Sushi',\n",
       " 'Saturday': 'Curry'}"
      ]
     },
     "execution_count": 45,
     "metadata": {},
     "output_type": "execute_result"
    }
   ],
   "source": [
    "lunch_meal.pop(\"Monday\")\n",
    "lunch_meal"
   ]
  },
  {
   "cell_type": "markdown",
   "id": "aa37bd12",
   "metadata": {},
   "source": [
    "Accessing the list of keys or values"
   ]
  },
  {
   "cell_type": "code",
   "execution_count": 46,
   "id": "62a1b528",
   "metadata": {
    "scrolled": true
   },
   "outputs": [
    {
     "data": {
      "text/plain": [
       "['Tuesday', 'Wednesday', 'Thursday', 'Friday', 'Saturday']"
      ]
     },
     "execution_count": 46,
     "metadata": {},
     "output_type": "execute_result"
    }
   ],
   "source": [
    "list(lunch_meal.keys())"
   ]
  },
  {
   "cell_type": "code",
   "execution_count": 47,
   "id": "701598ce",
   "metadata": {},
   "outputs": [
    {
     "data": {
      "text/plain": [
       "['Ramen', 'Burger', 'Pasta', 'Sushi', 'Curry']"
      ]
     },
     "execution_count": 47,
     "metadata": {},
     "output_type": "execute_result"
    }
   ],
   "source": [
    "list(lunch_meal.values())"
   ]
  },
  {
   "cell_type": "markdown",
   "id": "174a04b4",
   "metadata": {},
   "source": [
    "## Loops\n",
    "'for' loops are extremely useful to process each element of a list individually"
   ]
  },
  {
   "cell_type": "code",
   "execution_count": 52,
   "id": "223a0e3b",
   "metadata": {},
   "outputs": [
    {
     "name": "stdout",
     "output_type": "stream",
     "text": [
      "0\t1\t2\t3\t4\t5\t6\t7\t8\t9\t"
     ]
    }
   ],
   "source": [
    "numbers = list(range(10))\n",
    "for n in numbers:\n",
    "    print(n, end='\\t')"
   ]
  },
  {
   "cell_type": "markdown",
   "id": "6eb1f6c4",
   "metadata": {},
   "source": [
    "'while' loop is another useful loop. This loop doesn't run a predefined number of iterations, instead it stops as soon as a given condition occurs. The same loop above could be written like this:"
   ]
  },
  {
   "cell_type": "code",
   "execution_count": 54,
   "id": "52c1e3a6",
   "metadata": {},
   "outputs": [
    {
     "name": "stdout",
     "output_type": "stream",
     "text": [
      "0 1 2 3 4 5 6 7 8 9 "
     ]
    }
   ],
   "source": [
    "n = 0\n",
    "while n < 10:\n",
    "    print(n, end=' ')\n",
    "    n = n + 1"
   ]
  },
  {
   "cell_type": "markdown",
   "id": "fa6635d4",
   "metadata": {},
   "source": [
    "There are other useful python statements that are important to be aware in loops, such as:\n",
    "- break: exits a loop\n",
    "- continue: jump back to beginning of loop without keeping execution"
   ]
  },
  {
   "cell_type": "code",
   "execution_count": 55,
   "id": "c48f4e0a",
   "metadata": {},
   "outputs": [
    {
     "name": "stdout",
     "output_type": "stream",
     "text": [
      "Value: 1\n",
      "Value: 2\n",
      "Value: 3\n",
      "Value: 4\n",
      "Value: 6\n",
      "Value: 7\n",
      "Value: 8\n",
      "Value: 9\n",
      "Value: 10\n",
      "Value: 11\n"
     ]
    }
   ],
   "source": [
    "n = 0\n",
    "while True:\n",
    "    n += 1\n",
    "    \n",
    "    if n == 5:\n",
    "        continue\n",
    "        \n",
    "    if n > 11:\n",
    "        break\n",
    "        \n",
    "    print(f\"Value: {n}\")"
   ]
  },
  {
   "cell_type": "markdown",
   "id": "f79150c0",
   "metadata": {},
   "source": [
    "Note: \"While True\" will loop forever unless there's a break statement within the loop"
   ]
  },
  {
   "cell_type": "markdown",
   "id": "e6d1ef02",
   "metadata": {},
   "source": [
    "## Functions\n",
    "Functions allow to make everything easier in terms of code. Basically by adding an abstraction layer and condensing important workflows"
   ]
  },
  {
   "cell_type": "code",
   "execution_count": 62,
   "id": "6e3b3a37",
   "metadata": {},
   "outputs": [],
   "source": [
    "def error_percentage(estimated: float, true: float) -> float:\n",
    "    \"\"\"This line can be used for documentation, to explain function\n",
    "    \n",
    "    Arguments\n",
    "    ---------\n",
    "    estimated: float\n",
    "        Estimated value\n",
    "    true: float\n",
    "        True value, cannot be zero\n",
    "    \"\"\"\n",
    "    if true == 0:\n",
    "        print(\"The true value cannot be zero!\")\n",
    "        return 100.0\n",
    "    \n",
    "    return (true - estimated) / true"
   ]
  },
  {
   "cell_type": "code",
   "execution_count": 58,
   "id": "4ff9b5d8",
   "metadata": {},
   "outputs": [
    {
     "name": "stdout",
     "output_type": "stream",
     "text": [
      "This line can be used for documentation, to explain function\n",
      "    \n",
      "    Arguments\n",
      "    ---------\n",
      "    estimated: float\n",
      "        Estimated value\n",
      "    true: float\n",
      "        True value, cannot be zero\n",
      "    \n"
     ]
    }
   ],
   "source": [
    "print(error_percentage.__doc__)"
   ]
  },
  {
   "cell_type": "markdown",
   "id": "e8ca1698",
   "metadata": {},
   "source": [
    "Writing good documentation is important because that can be accessed with ?funcname"
   ]
  },
  {
   "cell_type": "code",
   "execution_count": 60,
   "id": "daf9523d",
   "metadata": {},
   "outputs": [
    {
     "name": "stdout",
     "output_type": "stream",
     "text": [
      "\u001b[1;31mSignature:\u001b[0m \u001b[0merror_percentage\u001b[0m\u001b[1;33m(\u001b[0m\u001b[0mestimated\u001b[0m\u001b[1;33m:\u001b[0m \u001b[0mfloat\u001b[0m\u001b[1;33m,\u001b[0m \u001b[0mtrue\u001b[0m\u001b[1;33m:\u001b[0m \u001b[0mfloat\u001b[0m\u001b[1;33m)\u001b[0m \u001b[1;33m->\u001b[0m \u001b[0mfloat\u001b[0m\u001b[1;33m\u001b[0m\u001b[1;33m\u001b[0m\u001b[0m\n",
      "\u001b[1;31mDocstring:\u001b[0m\n",
      "This line can be used for documentation, to explain function\n",
      "\n",
      "Arguments\n",
      "---------\n",
      "estimated: float\n",
      "    Estimated value\n",
      "true: float\n",
      "    True value, cannot be zero\n",
      "\u001b[1;31mFile:\u001b[0m      c:\\users\\alexc\\appdata\\local\\temp\\ipykernel_23056\\503433917.py\n",
      "\u001b[1;31mType:\u001b[0m      function\n"
     ]
    }
   ],
   "source": [
    "?error_percentage"
   ]
  },
  {
   "cell_type": "code",
   "execution_count": 63,
   "id": "33fbe141",
   "metadata": {},
   "outputs": [
    {
     "data": {
      "text/plain": [
       "-0.013329999999999984"
      ]
     },
     "execution_count": 63,
     "metadata": {},
     "output_type": "execute_result"
    }
   ],
   "source": [
    "error_percentage(101.333, 100.00)"
   ]
  },
  {
   "cell_type": "markdown",
   "id": "b45c51d1",
   "metadata": {},
   "source": [
    "There's a list of useful built-in python functions that we should always be aware of https://docs.python.org/3/library/functions.html. E.g. round is useful in this case"
   ]
  },
  {
   "cell_type": "code",
   "execution_count": 64,
   "id": "0a780680",
   "metadata": {},
   "outputs": [
    {
     "data": {
      "text/plain": [
       "-0.01"
      ]
     },
     "execution_count": 64,
     "metadata": {},
     "output_type": "execute_result"
    }
   ],
   "source": [
    "round(error_percentage(101.333, 100.00), 2)"
   ]
  },
  {
   "cell_type": "markdown",
   "id": "be877829",
   "metadata": {},
   "source": [
    "Add optional values to function"
   ]
  },
  {
   "cell_type": "code",
   "execution_count": 68,
   "id": "8389358b",
   "metadata": {},
   "outputs": [
    {
     "name": "stdout",
     "output_type": "stream",
     "text": [
      "3\n",
      "3\n",
      "3\n"
     ]
    }
   ],
   "source": [
    "def nurvv_sum(a, b, c=0, d=0):\n",
    "    return a + b + c + d\n",
    "\n",
    "print(nurvv_sum(1, 2))\n",
    "print(nurvv_sum(a=1, b=2, c=0))\n",
    "print(nurvv_sum(1, 2, 0, 0))"
   ]
  },
  {
   "cell_type": "markdown",
   "id": "ca960916",
   "metadata": {},
   "source": [
    "Note that the 3 and 4 arguments are optional. When not provided, these default to 0."
   ]
  }
 ],
 "metadata": {
  "kernelspec": {
   "display_name": "Python 3 (ipykernel)",
   "language": "python",
   "name": "python3"
  },
  "language_info": {
   "codemirror_mode": {
    "name": "ipython",
    "version": 3
   },
   "file_extension": ".py",
   "mimetype": "text/x-python",
   "name": "python",
   "nbconvert_exporter": "python",
   "pygments_lexer": "ipython3",
   "version": "3.10.4"
  },
  "varInspector": {
   "cols": {
    "lenName": 16,
    "lenType": 16,
    "lenVar": 40
   },
   "kernels_config": {
    "python": {
     "delete_cmd_postfix": "",
     "delete_cmd_prefix": "del ",
     "library": "var_list.py",
     "varRefreshCmd": "print(var_dic_list())"
    },
    "r": {
     "delete_cmd_postfix": ") ",
     "delete_cmd_prefix": "rm(",
     "library": "var_list.r",
     "varRefreshCmd": "cat(var_dic_list()) "
    }
   },
   "types_to_exclude": [
    "module",
    "function",
    "builtin_function_or_method",
    "instance",
    "_Feature"
   ],
   "window_display": false
  }
 },
 "nbformat": 4,
 "nbformat_minor": 5
}
